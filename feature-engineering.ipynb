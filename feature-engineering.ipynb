{
 "cells": [
  {
   "cell_type": "markdown",
   "metadata": {},
   "source": [
    "# 1. Dimensionality Reduction"
   ]
  },
  {
   "cell_type": "markdown",
   "metadata": {},
   "source": [
    "### 1. Principal Component Analysis (PCA)"
   ]
  },
  {
   "cell_type": "markdown",
   "metadata": {},
   "source": [
    "Load Required Libraries"
   ]
  },
  {
   "cell_type": "code",
   "execution_count": 48,
   "metadata": {},
   "outputs": [],
   "source": [
    "import pandas as pd\n",
    "from sklearn.preprocessing import StandardScaler\n",
    "from sklearn.decomposition import PCA\n",
    "from IPython.display import display_html "
   ]
  },
  {
   "cell_type": "markdown",
   "metadata": {},
   "source": [
    "Load data"
   ]
  },
  {
   "cell_type": "code",
   "execution_count": 49,
   "metadata": {},
   "outputs": [
    {
     "data": {
      "text/html": [
       "<div>\n",
       "<style scoped>\n",
       "    .dataframe tbody tr th:only-of-type {\n",
       "        vertical-align: middle;\n",
       "    }\n",
       "\n",
       "    .dataframe tbody tr th {\n",
       "        vertical-align: top;\n",
       "    }\n",
       "\n",
       "    .dataframe thead th {\n",
       "        text-align: right;\n",
       "    }\n",
       "</style>\n",
       "<table border=\"1\" class=\"dataframe\">\n",
       "  <thead>\n",
       "    <tr style=\"text-align: right;\">\n",
       "      <th></th>\n",
       "      <th>sepal_length</th>\n",
       "      <th>sepal_width</th>\n",
       "      <th>petal_length</th>\n",
       "      <th>petal_width</th>\n",
       "      <th>class</th>\n",
       "    </tr>\n",
       "  </thead>\n",
       "  <tbody>\n",
       "    <tr>\n",
       "      <th>0</th>\n",
       "      <td>5.1</td>\n",
       "      <td>3.5</td>\n",
       "      <td>1.4</td>\n",
       "      <td>0.2</td>\n",
       "      <td>Iris-setosa</td>\n",
       "    </tr>\n",
       "    <tr>\n",
       "      <th>1</th>\n",
       "      <td>4.9</td>\n",
       "      <td>3.0</td>\n",
       "      <td>1.4</td>\n",
       "      <td>0.2</td>\n",
       "      <td>Iris-setosa</td>\n",
       "    </tr>\n",
       "    <tr>\n",
       "      <th>2</th>\n",
       "      <td>4.7</td>\n",
       "      <td>3.2</td>\n",
       "      <td>1.3</td>\n",
       "      <td>0.2</td>\n",
       "      <td>Iris-setosa</td>\n",
       "    </tr>\n",
       "    <tr>\n",
       "      <th>3</th>\n",
       "      <td>4.6</td>\n",
       "      <td>3.1</td>\n",
       "      <td>1.5</td>\n",
       "      <td>0.2</td>\n",
       "      <td>Iris-setosa</td>\n",
       "    </tr>\n",
       "    <tr>\n",
       "      <th>4</th>\n",
       "      <td>5.0</td>\n",
       "      <td>3.6</td>\n",
       "      <td>1.4</td>\n",
       "      <td>0.2</td>\n",
       "      <td>Iris-setosa</td>\n",
       "    </tr>\n",
       "  </tbody>\n",
       "</table>\n",
       "</div>"
      ],
      "text/plain": [
       "   sepal_length  sepal_width  petal_length  petal_width        class\n",
       "0           5.1          3.5           1.4          0.2  Iris-setosa\n",
       "1           4.9          3.0           1.4          0.2  Iris-setosa\n",
       "2           4.7          3.2           1.3          0.2  Iris-setosa\n",
       "3           4.6          3.1           1.5          0.2  Iris-setosa\n",
       "4           5.0          3.6           1.4          0.2  Iris-setosa"
      ]
     },
     "execution_count": 49,
     "metadata": {},
     "output_type": "execute_result"
    }
   ],
   "source": [
    "iris_df=pd.read_csv('iris.csv')\n",
    "iris_df.head()"
   ]
  },
  {
   "cell_type": "markdown",
   "metadata": {},
   "source": [
    "Standarddize data first<br />\n",
    "PCA requires us to standardize the data first to a unit scale with mean 0 and variance 1"
   ]
  },
  {
   "cell_type": "code",
   "execution_count": 51,
   "metadata": {},
   "outputs": [
    {
     "data": {
      "text/html": [
       "<style  type=\"text/css\" >\n",
       "</style><table id=\"T_3b1a3668_78fe_11ec_8fe9_f875a417a9fc\" style='display:inline'><caption>Original DataFrame</caption><thead>    <tr>        <th class=\"blank level0\" ></th>        <th class=\"col_heading level0 col0\" >sepal_length</th>        <th class=\"col_heading level0 col1\" >sepal_width</th>        <th class=\"col_heading level0 col2\" >petal_length</th>        <th class=\"col_heading level0 col3\" >petal_width</th>        <th class=\"col_heading level0 col4\" >class</th>    </tr></thead><tbody>\n",
       "                <tr>\n",
       "                        <th id=\"T_3b1a3668_78fe_11ec_8fe9_f875a417a9fclevel0_row0\" class=\"row_heading level0 row0\" >0</th>\n",
       "                        <td id=\"T_3b1a3668_78fe_11ec_8fe9_f875a417a9fcrow0_col0\" class=\"data row0 col0\" >5.100000</td>\n",
       "                        <td id=\"T_3b1a3668_78fe_11ec_8fe9_f875a417a9fcrow0_col1\" class=\"data row0 col1\" >3.500000</td>\n",
       "                        <td id=\"T_3b1a3668_78fe_11ec_8fe9_f875a417a9fcrow0_col2\" class=\"data row0 col2\" >1.400000</td>\n",
       "                        <td id=\"T_3b1a3668_78fe_11ec_8fe9_f875a417a9fcrow0_col3\" class=\"data row0 col3\" >0.200000</td>\n",
       "                        <td id=\"T_3b1a3668_78fe_11ec_8fe9_f875a417a9fcrow0_col4\" class=\"data row0 col4\" >Iris-setosa</td>\n",
       "            </tr>\n",
       "            <tr>\n",
       "                        <th id=\"T_3b1a3668_78fe_11ec_8fe9_f875a417a9fclevel0_row1\" class=\"row_heading level0 row1\" >1</th>\n",
       "                        <td id=\"T_3b1a3668_78fe_11ec_8fe9_f875a417a9fcrow1_col0\" class=\"data row1 col0\" >4.900000</td>\n",
       "                        <td id=\"T_3b1a3668_78fe_11ec_8fe9_f875a417a9fcrow1_col1\" class=\"data row1 col1\" >3.000000</td>\n",
       "                        <td id=\"T_3b1a3668_78fe_11ec_8fe9_f875a417a9fcrow1_col2\" class=\"data row1 col2\" >1.400000</td>\n",
       "                        <td id=\"T_3b1a3668_78fe_11ec_8fe9_f875a417a9fcrow1_col3\" class=\"data row1 col3\" >0.200000</td>\n",
       "                        <td id=\"T_3b1a3668_78fe_11ec_8fe9_f875a417a9fcrow1_col4\" class=\"data row1 col4\" >Iris-setosa</td>\n",
       "            </tr>\n",
       "            <tr>\n",
       "                        <th id=\"T_3b1a3668_78fe_11ec_8fe9_f875a417a9fclevel0_row2\" class=\"row_heading level0 row2\" >2</th>\n",
       "                        <td id=\"T_3b1a3668_78fe_11ec_8fe9_f875a417a9fcrow2_col0\" class=\"data row2 col0\" >4.700000</td>\n",
       "                        <td id=\"T_3b1a3668_78fe_11ec_8fe9_f875a417a9fcrow2_col1\" class=\"data row2 col1\" >3.200000</td>\n",
       "                        <td id=\"T_3b1a3668_78fe_11ec_8fe9_f875a417a9fcrow2_col2\" class=\"data row2 col2\" >1.300000</td>\n",
       "                        <td id=\"T_3b1a3668_78fe_11ec_8fe9_f875a417a9fcrow2_col3\" class=\"data row2 col3\" >0.200000</td>\n",
       "                        <td id=\"T_3b1a3668_78fe_11ec_8fe9_f875a417a9fcrow2_col4\" class=\"data row2 col4\" >Iris-setosa</td>\n",
       "            </tr>\n",
       "            <tr>\n",
       "                        <th id=\"T_3b1a3668_78fe_11ec_8fe9_f875a417a9fclevel0_row3\" class=\"row_heading level0 row3\" >3</th>\n",
       "                        <td id=\"T_3b1a3668_78fe_11ec_8fe9_f875a417a9fcrow3_col0\" class=\"data row3 col0\" >4.600000</td>\n",
       "                        <td id=\"T_3b1a3668_78fe_11ec_8fe9_f875a417a9fcrow3_col1\" class=\"data row3 col1\" >3.100000</td>\n",
       "                        <td id=\"T_3b1a3668_78fe_11ec_8fe9_f875a417a9fcrow3_col2\" class=\"data row3 col2\" >1.500000</td>\n",
       "                        <td id=\"T_3b1a3668_78fe_11ec_8fe9_f875a417a9fcrow3_col3\" class=\"data row3 col3\" >0.200000</td>\n",
       "                        <td id=\"T_3b1a3668_78fe_11ec_8fe9_f875a417a9fcrow3_col4\" class=\"data row3 col4\" >Iris-setosa</td>\n",
       "            </tr>\n",
       "            <tr>\n",
       "                        <th id=\"T_3b1a3668_78fe_11ec_8fe9_f875a417a9fclevel0_row4\" class=\"row_heading level0 row4\" >4</th>\n",
       "                        <td id=\"T_3b1a3668_78fe_11ec_8fe9_f875a417a9fcrow4_col0\" class=\"data row4 col0\" >5.000000</td>\n",
       "                        <td id=\"T_3b1a3668_78fe_11ec_8fe9_f875a417a9fcrow4_col1\" class=\"data row4 col1\" >3.600000</td>\n",
       "                        <td id=\"T_3b1a3668_78fe_11ec_8fe9_f875a417a9fcrow4_col2\" class=\"data row4 col2\" >1.400000</td>\n",
       "                        <td id=\"T_3b1a3668_78fe_11ec_8fe9_f875a417a9fcrow4_col3\" class=\"data row4 col3\" >0.200000</td>\n",
       "                        <td id=\"T_3b1a3668_78fe_11ec_8fe9_f875a417a9fcrow4_col4\" class=\"data row4 col4\" >Iris-setosa</td>\n",
       "            </tr>\n",
       "    </tbody></table>&nbsp;&nbsp;&nbsp;&nbsp;&nbsp;<style  type=\"text/css\" >\n",
       "</style><table id=\"T_3b1a848a_78fe_11ec_8e4f_f875a417a9fc\" style='display:inline'><caption>Scaled DtaFrame</caption><thead>    <tr>        <th class=\"blank level0\" ></th>        <th class=\"col_heading level0 col0\" >sepal_length</th>        <th class=\"col_heading level0 col1\" >sepal_width</th>        <th class=\"col_heading level0 col2\" >petal_length</th>        <th class=\"col_heading level0 col3\" >petal_width</th>        <th class=\"col_heading level0 col4\" >class</th>    </tr></thead><tbody>\n",
       "                <tr>\n",
       "                        <th id=\"T_3b1a848a_78fe_11ec_8e4f_f875a417a9fclevel0_row0\" class=\"row_heading level0 row0\" >0</th>\n",
       "                        <td id=\"T_3b1a848a_78fe_11ec_8e4f_f875a417a9fcrow0_col0\" class=\"data row0 col0\" >-0.900681</td>\n",
       "                        <td id=\"T_3b1a848a_78fe_11ec_8e4f_f875a417a9fcrow0_col1\" class=\"data row0 col1\" >1.032057</td>\n",
       "                        <td id=\"T_3b1a848a_78fe_11ec_8e4f_f875a417a9fcrow0_col2\" class=\"data row0 col2\" >-1.341272</td>\n",
       "                        <td id=\"T_3b1a848a_78fe_11ec_8e4f_f875a417a9fcrow0_col3\" class=\"data row0 col3\" >-1.312977</td>\n",
       "                        <td id=\"T_3b1a848a_78fe_11ec_8e4f_f875a417a9fcrow0_col4\" class=\"data row0 col4\" >Iris-setosa</td>\n",
       "            </tr>\n",
       "            <tr>\n",
       "                        <th id=\"T_3b1a848a_78fe_11ec_8e4f_f875a417a9fclevel0_row1\" class=\"row_heading level0 row1\" >1</th>\n",
       "                        <td id=\"T_3b1a848a_78fe_11ec_8e4f_f875a417a9fcrow1_col0\" class=\"data row1 col0\" >-1.143017</td>\n",
       "                        <td id=\"T_3b1a848a_78fe_11ec_8e4f_f875a417a9fcrow1_col1\" class=\"data row1 col1\" >-0.124958</td>\n",
       "                        <td id=\"T_3b1a848a_78fe_11ec_8e4f_f875a417a9fcrow1_col2\" class=\"data row1 col2\" >-1.341272</td>\n",
       "                        <td id=\"T_3b1a848a_78fe_11ec_8e4f_f875a417a9fcrow1_col3\" class=\"data row1 col3\" >-1.312977</td>\n",
       "                        <td id=\"T_3b1a848a_78fe_11ec_8e4f_f875a417a9fcrow1_col4\" class=\"data row1 col4\" >Iris-setosa</td>\n",
       "            </tr>\n",
       "            <tr>\n",
       "                        <th id=\"T_3b1a848a_78fe_11ec_8e4f_f875a417a9fclevel0_row2\" class=\"row_heading level0 row2\" >2</th>\n",
       "                        <td id=\"T_3b1a848a_78fe_11ec_8e4f_f875a417a9fcrow2_col0\" class=\"data row2 col0\" >-1.385353</td>\n",
       "                        <td id=\"T_3b1a848a_78fe_11ec_8e4f_f875a417a9fcrow2_col1\" class=\"data row2 col1\" >0.337848</td>\n",
       "                        <td id=\"T_3b1a848a_78fe_11ec_8e4f_f875a417a9fcrow2_col2\" class=\"data row2 col2\" >-1.398138</td>\n",
       "                        <td id=\"T_3b1a848a_78fe_11ec_8e4f_f875a417a9fcrow2_col3\" class=\"data row2 col3\" >-1.312977</td>\n",
       "                        <td id=\"T_3b1a848a_78fe_11ec_8e4f_f875a417a9fcrow2_col4\" class=\"data row2 col4\" >Iris-setosa</td>\n",
       "            </tr>\n",
       "            <tr>\n",
       "                        <th id=\"T_3b1a848a_78fe_11ec_8e4f_f875a417a9fclevel0_row3\" class=\"row_heading level0 row3\" >3</th>\n",
       "                        <td id=\"T_3b1a848a_78fe_11ec_8e4f_f875a417a9fcrow3_col0\" class=\"data row3 col0\" >-1.506521</td>\n",
       "                        <td id=\"T_3b1a848a_78fe_11ec_8e4f_f875a417a9fcrow3_col1\" class=\"data row3 col1\" >0.106445</td>\n",
       "                        <td id=\"T_3b1a848a_78fe_11ec_8e4f_f875a417a9fcrow3_col2\" class=\"data row3 col2\" >-1.284407</td>\n",
       "                        <td id=\"T_3b1a848a_78fe_11ec_8e4f_f875a417a9fcrow3_col3\" class=\"data row3 col3\" >-1.312977</td>\n",
       "                        <td id=\"T_3b1a848a_78fe_11ec_8e4f_f875a417a9fcrow3_col4\" class=\"data row3 col4\" >Iris-setosa</td>\n",
       "            </tr>\n",
       "            <tr>\n",
       "                        <th id=\"T_3b1a848a_78fe_11ec_8e4f_f875a417a9fclevel0_row4\" class=\"row_heading level0 row4\" >4</th>\n",
       "                        <td id=\"T_3b1a848a_78fe_11ec_8e4f_f875a417a9fcrow4_col0\" class=\"data row4 col0\" >-1.021849</td>\n",
       "                        <td id=\"T_3b1a848a_78fe_11ec_8e4f_f875a417a9fcrow4_col1\" class=\"data row4 col1\" >1.263460</td>\n",
       "                        <td id=\"T_3b1a848a_78fe_11ec_8e4f_f875a417a9fcrow4_col2\" class=\"data row4 col2\" >-1.341272</td>\n",
       "                        <td id=\"T_3b1a848a_78fe_11ec_8e4f_f875a417a9fcrow4_col3\" class=\"data row4 col3\" >-1.312977</td>\n",
       "                        <td id=\"T_3b1a848a_78fe_11ec_8e4f_f875a417a9fcrow4_col4\" class=\"data row4 col4\" >Iris-setosa</td>\n",
       "            </tr>\n",
       "    </tbody></table>"
      ]
     },
     "metadata": {},
     "output_type": "display_data"
    }
   ],
   "source": [
    "X=iris_df[['sepal_length', 'sepal_width', 'petal_length', 'petal_width']] # features\n",
    "y=iris_df['class'] #target\n",
    "\n",
    "X=StandardScaler().fit_transform(X) # scale the data\n",
    "X=pd.DataFrame(X, columns=['sepal_length', 'sepal_width', 'petal_length', 'petal_width']) # create dataframe of scaled data\n",
    "scaled_df=pd.concat([X,y],axis=1) # join scaled dataframe with target variable\n",
    "\n",
    "# Display the two dataframes side by side\n",
    "iris_df = iris_df.head().style.set_table_attributes(\"style='display:inline'\").set_caption('Original DataFrame')\n",
    "scaled_df = scaled_df.head().style.set_table_attributes(\"style='display:inline'\").set_caption('Scaled DtaFrame')\n",
    "\n",
    "display_html(iris_df._repr_html_()+\"&nbsp;&nbsp;&nbsp;&nbsp;&nbsp;\"+scaled_df._repr_html_(), raw=True)"
   ]
  },
  {
   "cell_type": "markdown",
   "metadata": {},
   "source": [
    "Perform PCA with 2 components"
   ]
  },
  {
   "cell_type": "code",
   "execution_count": 62,
   "metadata": {},
   "outputs": [
    {
     "data": {
      "text/html": [
       "<div>\n",
       "<style scoped>\n",
       "    .dataframe tbody tr th:only-of-type {\n",
       "        vertical-align: middle;\n",
       "    }\n",
       "\n",
       "    .dataframe tbody tr th {\n",
       "        vertical-align: top;\n",
       "    }\n",
       "\n",
       "    .dataframe thead th {\n",
       "        text-align: right;\n",
       "    }\n",
       "</style>\n",
       "<table border=\"1\" class=\"dataframe\">\n",
       "  <thead>\n",
       "    <tr style=\"text-align: right;\">\n",
       "      <th></th>\n",
       "      <th>PC1</th>\n",
       "      <th>PC2</th>\n",
       "      <th>class</th>\n",
       "    </tr>\n",
       "  </thead>\n",
       "  <tbody>\n",
       "    <tr>\n",
       "      <th>0</th>\n",
       "      <td>-2.264542</td>\n",
       "      <td>0.505704</td>\n",
       "      <td>Iris-setosa</td>\n",
       "    </tr>\n",
       "    <tr>\n",
       "      <th>1</th>\n",
       "      <td>-2.086426</td>\n",
       "      <td>-0.655405</td>\n",
       "      <td>Iris-setosa</td>\n",
       "    </tr>\n",
       "    <tr>\n",
       "      <th>2</th>\n",
       "      <td>-2.367950</td>\n",
       "      <td>-0.318477</td>\n",
       "      <td>Iris-setosa</td>\n",
       "    </tr>\n",
       "    <tr>\n",
       "      <th>3</th>\n",
       "      <td>-2.304197</td>\n",
       "      <td>-0.575368</td>\n",
       "      <td>Iris-setosa</td>\n",
       "    </tr>\n",
       "    <tr>\n",
       "      <th>4</th>\n",
       "      <td>-2.388777</td>\n",
       "      <td>0.674767</td>\n",
       "      <td>Iris-setosa</td>\n",
       "    </tr>\n",
       "  </tbody>\n",
       "</table>\n",
       "</div>"
      ],
      "text/plain": [
       "        PC1       PC2        class\n",
       "0 -2.264542  0.505704  Iris-setosa\n",
       "1 -2.086426 -0.655405  Iris-setosa\n",
       "2 -2.367950 -0.318477  Iris-setosa\n",
       "3 -2.304197 -0.575368  Iris-setosa\n",
       "4 -2.388777  0.674767  Iris-setosa"
      ]
     },
     "execution_count": 62,
     "metadata": {},
     "output_type": "execute_result"
    }
   ],
   "source": [
    "pca=PCA(n_components=2).fit_transform(X) # fit and transform data with 2 Components\n",
    "pca_df=pd.DataFrame(pca,columns=['PC1','PC2']) # Create PCA dataframe\n",
    "pca_df=pd.concat([pca_df,y],axis=1) # join pca dataframe with target variable\n",
    "pca_df.head()"
   ]
  },
  {
   "cell_type": "markdown",
   "metadata": {},
   "source": [
    "Visualize PCA"
   ]
  },
  {
   "cell_type": "code",
   "execution_count": null,
   "metadata": {},
   "outputs": [],
   "source": []
  }
 ],
 "metadata": {
  "kernelspec": {
   "display_name": "Python 3",
   "language": "python",
   "name": "python3"
  },
  "language_info": {
   "codemirror_mode": {
    "name": "ipython",
    "version": 3
   },
   "file_extension": ".py",
   "mimetype": "text/x-python",
   "name": "python",
   "nbconvert_exporter": "python",
   "pygments_lexer": "ipython3",
   "version": "3.6.5"
  }
 },
 "nbformat": 4,
 "nbformat_minor": 2
}

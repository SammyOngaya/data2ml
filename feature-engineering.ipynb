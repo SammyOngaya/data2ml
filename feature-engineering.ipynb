{
 "cells": [
  {
   "cell_type": "markdown",
   "metadata": {},
   "source": [
    "# 1. Dimensionality Reduction"
   ]
  },
  {
   "cell_type": "markdown",
   "metadata": {},
   "source": [
    "### 1. Principal Component Analysis (PCA)"
   ]
  },
  {
   "cell_type": "markdown",
   "metadata": {},
   "source": [
    "Load Required Libraries"
   ]
  },
  {
   "cell_type": "code",
   "execution_count": 1,
   "metadata": {},
   "outputs": [],
   "source": [
    "import pandas as pd\n",
    "import numpy as np\n",
    "from sklearn.preprocessing import StandardScaler\n",
    "from sklearn.decomposition import PCA\n",
    "from IPython.display import display_html \n",
    "import matplotlib.pyplot as plt\n",
    "import seaborn as sns"
   ]
  },
  {
   "cell_type": "code",
   "execution_count": 2,
   "metadata": {},
   "outputs": [],
   "source": [
    "# Configure visual display properties\n",
    "sns.set_theme(style=\"whitegrid\")\n",
    "sns.set(rc={'figure.figsize':(20,10)})"
   ]
  },
  {
   "cell_type": "markdown",
   "metadata": {},
   "source": [
    "Load data"
   ]
  },
  {
   "cell_type": "code",
   "execution_count": 3,
   "metadata": {},
   "outputs": [
    {
     "data": {
      "text/html": [
       "<div>\n",
       "<style scoped>\n",
       "    .dataframe tbody tr th:only-of-type {\n",
       "        vertical-align: middle;\n",
       "    }\n",
       "\n",
       "    .dataframe tbody tr th {\n",
       "        vertical-align: top;\n",
       "    }\n",
       "\n",
       "    .dataframe thead th {\n",
       "        text-align: right;\n",
       "    }\n",
       "</style>\n",
       "<table border=\"1\" class=\"dataframe\">\n",
       "  <thead>\n",
       "    <tr style=\"text-align: right;\">\n",
       "      <th></th>\n",
       "      <th>sepal_length</th>\n",
       "      <th>sepal_width</th>\n",
       "      <th>petal_length</th>\n",
       "      <th>petal_width</th>\n",
       "      <th>class</th>\n",
       "    </tr>\n",
       "  </thead>\n",
       "  <tbody>\n",
       "    <tr>\n",
       "      <th>0</th>\n",
       "      <td>5.1</td>\n",
       "      <td>3.5</td>\n",
       "      <td>1.4</td>\n",
       "      <td>0.2</td>\n",
       "      <td>Iris-setosa</td>\n",
       "    </tr>\n",
       "    <tr>\n",
       "      <th>1</th>\n",
       "      <td>4.9</td>\n",
       "      <td>3.0</td>\n",
       "      <td>1.4</td>\n",
       "      <td>0.2</td>\n",
       "      <td>Iris-setosa</td>\n",
       "    </tr>\n",
       "    <tr>\n",
       "      <th>2</th>\n",
       "      <td>4.7</td>\n",
       "      <td>3.2</td>\n",
       "      <td>1.3</td>\n",
       "      <td>0.2</td>\n",
       "      <td>Iris-setosa</td>\n",
       "    </tr>\n",
       "    <tr>\n",
       "      <th>3</th>\n",
       "      <td>4.6</td>\n",
       "      <td>3.1</td>\n",
       "      <td>1.5</td>\n",
       "      <td>0.2</td>\n",
       "      <td>Iris-setosa</td>\n",
       "    </tr>\n",
       "    <tr>\n",
       "      <th>4</th>\n",
       "      <td>5.0</td>\n",
       "      <td>3.6</td>\n",
       "      <td>1.4</td>\n",
       "      <td>0.2</td>\n",
       "      <td>Iris-setosa</td>\n",
       "    </tr>\n",
       "  </tbody>\n",
       "</table>\n",
       "</div>"
      ],
      "text/plain": [
       "   sepal_length  sepal_width  petal_length  petal_width        class\n",
       "0           5.1          3.5           1.4          0.2  Iris-setosa\n",
       "1           4.9          3.0           1.4          0.2  Iris-setosa\n",
       "2           4.7          3.2           1.3          0.2  Iris-setosa\n",
       "3           4.6          3.1           1.5          0.2  Iris-setosa\n",
       "4           5.0          3.6           1.4          0.2  Iris-setosa"
      ]
     },
     "execution_count": 3,
     "metadata": {},
     "output_type": "execute_result"
    }
   ],
   "source": [
    "iris_df=pd.read_csv('iris.csv')\n",
    "iris_df.head()"
   ]
  },
  {
   "cell_type": "markdown",
   "metadata": {},
   "source": [
    "Standarddize data first<br />\n",
    "PCA requires us to standardize the data first to a unit scale with mean 0 and variance 1"
   ]
  },
  {
   "cell_type": "code",
   "execution_count": 4,
   "metadata": {},
   "outputs": [
    {
     "data": {
      "text/html": [
       "<style  type=\"text/css\" >\n",
       "</style><table id=\"T_fd5ffcac_800b_11ec_9f1c_f875a417a9fc\" style='display:inline'><caption>Original DataFrame</caption><thead>    <tr>        <th class=\"blank level0\" ></th>        <th class=\"col_heading level0 col0\" >sepal_length</th>        <th class=\"col_heading level0 col1\" >sepal_width</th>        <th class=\"col_heading level0 col2\" >petal_length</th>        <th class=\"col_heading level0 col3\" >petal_width</th>        <th class=\"col_heading level0 col4\" >class</th>    </tr></thead><tbody>\n",
       "                <tr>\n",
       "                        <th id=\"T_fd5ffcac_800b_11ec_9f1c_f875a417a9fclevel0_row0\" class=\"row_heading level0 row0\" >0</th>\n",
       "                        <td id=\"T_fd5ffcac_800b_11ec_9f1c_f875a417a9fcrow0_col0\" class=\"data row0 col0\" >5.100000</td>\n",
       "                        <td id=\"T_fd5ffcac_800b_11ec_9f1c_f875a417a9fcrow0_col1\" class=\"data row0 col1\" >3.500000</td>\n",
       "                        <td id=\"T_fd5ffcac_800b_11ec_9f1c_f875a417a9fcrow0_col2\" class=\"data row0 col2\" >1.400000</td>\n",
       "                        <td id=\"T_fd5ffcac_800b_11ec_9f1c_f875a417a9fcrow0_col3\" class=\"data row0 col3\" >0.200000</td>\n",
       "                        <td id=\"T_fd5ffcac_800b_11ec_9f1c_f875a417a9fcrow0_col4\" class=\"data row0 col4\" >Iris-setosa</td>\n",
       "            </tr>\n",
       "            <tr>\n",
       "                        <th id=\"T_fd5ffcac_800b_11ec_9f1c_f875a417a9fclevel0_row1\" class=\"row_heading level0 row1\" >1</th>\n",
       "                        <td id=\"T_fd5ffcac_800b_11ec_9f1c_f875a417a9fcrow1_col0\" class=\"data row1 col0\" >4.900000</td>\n",
       "                        <td id=\"T_fd5ffcac_800b_11ec_9f1c_f875a417a9fcrow1_col1\" class=\"data row1 col1\" >3.000000</td>\n",
       "                        <td id=\"T_fd5ffcac_800b_11ec_9f1c_f875a417a9fcrow1_col2\" class=\"data row1 col2\" >1.400000</td>\n",
       "                        <td id=\"T_fd5ffcac_800b_11ec_9f1c_f875a417a9fcrow1_col3\" class=\"data row1 col3\" >0.200000</td>\n",
       "                        <td id=\"T_fd5ffcac_800b_11ec_9f1c_f875a417a9fcrow1_col4\" class=\"data row1 col4\" >Iris-setosa</td>\n",
       "            </tr>\n",
       "            <tr>\n",
       "                        <th id=\"T_fd5ffcac_800b_11ec_9f1c_f875a417a9fclevel0_row2\" class=\"row_heading level0 row2\" >2</th>\n",
       "                        <td id=\"T_fd5ffcac_800b_11ec_9f1c_f875a417a9fcrow2_col0\" class=\"data row2 col0\" >4.700000</td>\n",
       "                        <td id=\"T_fd5ffcac_800b_11ec_9f1c_f875a417a9fcrow2_col1\" class=\"data row2 col1\" >3.200000</td>\n",
       "                        <td id=\"T_fd5ffcac_800b_11ec_9f1c_f875a417a9fcrow2_col2\" class=\"data row2 col2\" >1.300000</td>\n",
       "                        <td id=\"T_fd5ffcac_800b_11ec_9f1c_f875a417a9fcrow2_col3\" class=\"data row2 col3\" >0.200000</td>\n",
       "                        <td id=\"T_fd5ffcac_800b_11ec_9f1c_f875a417a9fcrow2_col4\" class=\"data row2 col4\" >Iris-setosa</td>\n",
       "            </tr>\n",
       "            <tr>\n",
       "                        <th id=\"T_fd5ffcac_800b_11ec_9f1c_f875a417a9fclevel0_row3\" class=\"row_heading level0 row3\" >3</th>\n",
       "                        <td id=\"T_fd5ffcac_800b_11ec_9f1c_f875a417a9fcrow3_col0\" class=\"data row3 col0\" >4.600000</td>\n",
       "                        <td id=\"T_fd5ffcac_800b_11ec_9f1c_f875a417a9fcrow3_col1\" class=\"data row3 col1\" >3.100000</td>\n",
       "                        <td id=\"T_fd5ffcac_800b_11ec_9f1c_f875a417a9fcrow3_col2\" class=\"data row3 col2\" >1.500000</td>\n",
       "                        <td id=\"T_fd5ffcac_800b_11ec_9f1c_f875a417a9fcrow3_col3\" class=\"data row3 col3\" >0.200000</td>\n",
       "                        <td id=\"T_fd5ffcac_800b_11ec_9f1c_f875a417a9fcrow3_col4\" class=\"data row3 col4\" >Iris-setosa</td>\n",
       "            </tr>\n",
       "            <tr>\n",
       "                        <th id=\"T_fd5ffcac_800b_11ec_9f1c_f875a417a9fclevel0_row4\" class=\"row_heading level0 row4\" >4</th>\n",
       "                        <td id=\"T_fd5ffcac_800b_11ec_9f1c_f875a417a9fcrow4_col0\" class=\"data row4 col0\" >5.000000</td>\n",
       "                        <td id=\"T_fd5ffcac_800b_11ec_9f1c_f875a417a9fcrow4_col1\" class=\"data row4 col1\" >3.600000</td>\n",
       "                        <td id=\"T_fd5ffcac_800b_11ec_9f1c_f875a417a9fcrow4_col2\" class=\"data row4 col2\" >1.400000</td>\n",
       "                        <td id=\"T_fd5ffcac_800b_11ec_9f1c_f875a417a9fcrow4_col3\" class=\"data row4 col3\" >0.200000</td>\n",
       "                        <td id=\"T_fd5ffcac_800b_11ec_9f1c_f875a417a9fcrow4_col4\" class=\"data row4 col4\" >Iris-setosa</td>\n",
       "            </tr>\n",
       "    </tbody></table>&nbsp;&nbsp;&nbsp;&nbsp;&nbsp;<style  type=\"text/css\" >\n",
       "</style><table id=\"T_fd616cd0_800b_11ec_9988_f875a417a9fc\" style='display:inline'><caption>Scaled DtaFrame</caption><thead>    <tr>        <th class=\"blank level0\" ></th>        <th class=\"col_heading level0 col0\" >sepal_length</th>        <th class=\"col_heading level0 col1\" >sepal_width</th>        <th class=\"col_heading level0 col2\" >petal_length</th>        <th class=\"col_heading level0 col3\" >petal_width</th>        <th class=\"col_heading level0 col4\" >class</th>    </tr></thead><tbody>\n",
       "                <tr>\n",
       "                        <th id=\"T_fd616cd0_800b_11ec_9988_f875a417a9fclevel0_row0\" class=\"row_heading level0 row0\" >0</th>\n",
       "                        <td id=\"T_fd616cd0_800b_11ec_9988_f875a417a9fcrow0_col0\" class=\"data row0 col0\" >-0.900681</td>\n",
       "                        <td id=\"T_fd616cd0_800b_11ec_9988_f875a417a9fcrow0_col1\" class=\"data row0 col1\" >1.032057</td>\n",
       "                        <td id=\"T_fd616cd0_800b_11ec_9988_f875a417a9fcrow0_col2\" class=\"data row0 col2\" >-1.341272</td>\n",
       "                        <td id=\"T_fd616cd0_800b_11ec_9988_f875a417a9fcrow0_col3\" class=\"data row0 col3\" >-1.312977</td>\n",
       "                        <td id=\"T_fd616cd0_800b_11ec_9988_f875a417a9fcrow0_col4\" class=\"data row0 col4\" >Iris-setosa</td>\n",
       "            </tr>\n",
       "            <tr>\n",
       "                        <th id=\"T_fd616cd0_800b_11ec_9988_f875a417a9fclevel0_row1\" class=\"row_heading level0 row1\" >1</th>\n",
       "                        <td id=\"T_fd616cd0_800b_11ec_9988_f875a417a9fcrow1_col0\" class=\"data row1 col0\" >-1.143017</td>\n",
       "                        <td id=\"T_fd616cd0_800b_11ec_9988_f875a417a9fcrow1_col1\" class=\"data row1 col1\" >-0.124958</td>\n",
       "                        <td id=\"T_fd616cd0_800b_11ec_9988_f875a417a9fcrow1_col2\" class=\"data row1 col2\" >-1.341272</td>\n",
       "                        <td id=\"T_fd616cd0_800b_11ec_9988_f875a417a9fcrow1_col3\" class=\"data row1 col3\" >-1.312977</td>\n",
       "                        <td id=\"T_fd616cd0_800b_11ec_9988_f875a417a9fcrow1_col4\" class=\"data row1 col4\" >Iris-setosa</td>\n",
       "            </tr>\n",
       "            <tr>\n",
       "                        <th id=\"T_fd616cd0_800b_11ec_9988_f875a417a9fclevel0_row2\" class=\"row_heading level0 row2\" >2</th>\n",
       "                        <td id=\"T_fd616cd0_800b_11ec_9988_f875a417a9fcrow2_col0\" class=\"data row2 col0\" >-1.385353</td>\n",
       "                        <td id=\"T_fd616cd0_800b_11ec_9988_f875a417a9fcrow2_col1\" class=\"data row2 col1\" >0.337848</td>\n",
       "                        <td id=\"T_fd616cd0_800b_11ec_9988_f875a417a9fcrow2_col2\" class=\"data row2 col2\" >-1.398138</td>\n",
       "                        <td id=\"T_fd616cd0_800b_11ec_9988_f875a417a9fcrow2_col3\" class=\"data row2 col3\" >-1.312977</td>\n",
       "                        <td id=\"T_fd616cd0_800b_11ec_9988_f875a417a9fcrow2_col4\" class=\"data row2 col4\" >Iris-setosa</td>\n",
       "            </tr>\n",
       "            <tr>\n",
       "                        <th id=\"T_fd616cd0_800b_11ec_9988_f875a417a9fclevel0_row3\" class=\"row_heading level0 row3\" >3</th>\n",
       "                        <td id=\"T_fd616cd0_800b_11ec_9988_f875a417a9fcrow3_col0\" class=\"data row3 col0\" >-1.506521</td>\n",
       "                        <td id=\"T_fd616cd0_800b_11ec_9988_f875a417a9fcrow3_col1\" class=\"data row3 col1\" >0.106445</td>\n",
       "                        <td id=\"T_fd616cd0_800b_11ec_9988_f875a417a9fcrow3_col2\" class=\"data row3 col2\" >-1.284407</td>\n",
       "                        <td id=\"T_fd616cd0_800b_11ec_9988_f875a417a9fcrow3_col3\" class=\"data row3 col3\" >-1.312977</td>\n",
       "                        <td id=\"T_fd616cd0_800b_11ec_9988_f875a417a9fcrow3_col4\" class=\"data row3 col4\" >Iris-setosa</td>\n",
       "            </tr>\n",
       "            <tr>\n",
       "                        <th id=\"T_fd616cd0_800b_11ec_9988_f875a417a9fclevel0_row4\" class=\"row_heading level0 row4\" >4</th>\n",
       "                        <td id=\"T_fd616cd0_800b_11ec_9988_f875a417a9fcrow4_col0\" class=\"data row4 col0\" >-1.021849</td>\n",
       "                        <td id=\"T_fd616cd0_800b_11ec_9988_f875a417a9fcrow4_col1\" class=\"data row4 col1\" >1.263460</td>\n",
       "                        <td id=\"T_fd616cd0_800b_11ec_9988_f875a417a9fcrow4_col2\" class=\"data row4 col2\" >-1.341272</td>\n",
       "                        <td id=\"T_fd616cd0_800b_11ec_9988_f875a417a9fcrow4_col3\" class=\"data row4 col3\" >-1.312977</td>\n",
       "                        <td id=\"T_fd616cd0_800b_11ec_9988_f875a417a9fcrow4_col4\" class=\"data row4 col4\" >Iris-setosa</td>\n",
       "            </tr>\n",
       "    </tbody></table>"
      ]
     },
     "metadata": {},
     "output_type": "display_data"
    }
   ],
   "source": [
    "features=iris_df[['sepal_length', 'sepal_width', 'petal_length', 'petal_width']] # features\n",
    "y=iris_df['class'] #target\n",
    "\n",
    "X=StandardScaler().fit_transform(features) # scale the data\n",
    "X_scaled=pd.DataFrame(X, columns=['sepal_length', 'sepal_width', 'petal_length', 'petal_width']) # create dataframe of scaled data\n",
    "scaled_df=pd.concat([X_scaled,y],axis=1) # join scaled dataframe with target variable\n",
    "\n",
    "# Display the two dataframes side by side\n",
    "iris_df = iris_df.head().style.set_table_attributes(\"style='display:inline'\").set_caption('Original DataFrame')\n",
    "scaled_df = scaled_df.head().style.set_table_attributes(\"style='display:inline'\").set_caption('Scaled DtaFrame')\n",
    "\n",
    "display_html(iris_df._repr_html_()+\"&nbsp;&nbsp;&nbsp;&nbsp;&nbsp;\"+scaled_df._repr_html_(), raw=True)"
   ]
  },
  {
   "cell_type": "markdown",
   "metadata": {},
   "source": [
    "Perform PCA with 2 components"
   ]
  },
  {
   "cell_type": "code",
   "execution_count": 5,
   "metadata": {},
   "outputs": [
    {
     "data": {
      "text/html": [
       "<div>\n",
       "<style scoped>\n",
       "    .dataframe tbody tr th:only-of-type {\n",
       "        vertical-align: middle;\n",
       "    }\n",
       "\n",
       "    .dataframe tbody tr th {\n",
       "        vertical-align: top;\n",
       "    }\n",
       "\n",
       "    .dataframe thead th {\n",
       "        text-align: right;\n",
       "    }\n",
       "</style>\n",
       "<table border=\"1\" class=\"dataframe\">\n",
       "  <thead>\n",
       "    <tr style=\"text-align: right;\">\n",
       "      <th></th>\n",
       "      <th>PC1</th>\n",
       "      <th>PC2</th>\n",
       "      <th>class</th>\n",
       "    </tr>\n",
       "  </thead>\n",
       "  <tbody>\n",
       "    <tr>\n",
       "      <th>0</th>\n",
       "      <td>-2.264542</td>\n",
       "      <td>0.505704</td>\n",
       "      <td>Iris-setosa</td>\n",
       "    </tr>\n",
       "    <tr>\n",
       "      <th>1</th>\n",
       "      <td>-2.086426</td>\n",
       "      <td>-0.655405</td>\n",
       "      <td>Iris-setosa</td>\n",
       "    </tr>\n",
       "    <tr>\n",
       "      <th>2</th>\n",
       "      <td>-2.367950</td>\n",
       "      <td>-0.318477</td>\n",
       "      <td>Iris-setosa</td>\n",
       "    </tr>\n",
       "    <tr>\n",
       "      <th>3</th>\n",
       "      <td>-2.304197</td>\n",
       "      <td>-0.575368</td>\n",
       "      <td>Iris-setosa</td>\n",
       "    </tr>\n",
       "    <tr>\n",
       "      <th>4</th>\n",
       "      <td>-2.388777</td>\n",
       "      <td>0.674767</td>\n",
       "      <td>Iris-setosa</td>\n",
       "    </tr>\n",
       "  </tbody>\n",
       "</table>\n",
       "</div>"
      ],
      "text/plain": [
       "        PC1       PC2        class\n",
       "0 -2.264542  0.505704  Iris-setosa\n",
       "1 -2.086426 -0.655405  Iris-setosa\n",
       "2 -2.367950 -0.318477  Iris-setosa\n",
       "3 -2.304197 -0.575368  Iris-setosa\n",
       "4 -2.388777  0.674767  Iris-setosa"
      ]
     },
     "execution_count": 5,
     "metadata": {},
     "output_type": "execute_result"
    }
   ],
   "source": [
    "pca=PCA(n_components=2)\n",
    "pca_fit=pca.fit_transform(X_scaled) # fit and transform data with 2 Components\n",
    "pca_df=pd.DataFrame(pca_fit,columns=['PC1','PC2']) # Create PCA dataframe\n",
    "pca_df=pd.concat([pca_df,y],axis=1) # join pca dataframe with target variable\n",
    "pca_df.head()"
   ]
  },
  {
   "cell_type": "markdown",
   "metadata": {},
   "source": [
    "Visualize PCA"
   ]
  },
  {
   "cell_type": "code",
   "execution_count": 6,
   "metadata": {},
   "outputs": [
    {
     "data": {
      "image/png": "[encoded data removed]",
      "text/plain": [
       "<Figure size 1440x720 with 1 Axes>"
      ]
     },
     "metadata": {},
     "output_type": "display_data"
    }
   ],
   "source": [
    "plt.rcParams['axes.labelsize'] = 20\n",
    "sns.set(font_scale = 2)\n",
    "sns.scatterplot(x=\"PC1\", y=\"PC2\", sizes=(1, 8), linewidth=0,data=pca_df,hue='class')\n",
    "plt.show()"
   ]
  },
  {
   "cell_type": "markdown",
   "metadata": {},
   "source": [
    "Explained Variance<br />\n",
    "Explained Variance tells us the variation in each principal component and how much information we have lost when reducing the dimensionality of the data from high-space (4 features) to low-space (2 features). Variance for teh first and second principal components"
   ]
  },
  {
   "cell_type": "code",
   "execution_count": 7,
   "metadata": {},
   "outputs": [
    {
     "data": {
      "text/plain": [
       "array([72.77045209, 23.03052327])"
      ]
     },
     "execution_count": 7,
     "metadata": {},
     "output_type": "execute_result"
    }
   ],
   "source": [
    "(pca.explained_variance_ratio_)*100"
   ]
  },
  {
   "cell_type": "markdown",
   "metadata": {},
   "source": [
    "Total variance after dimensionality reduction"
   ]
  },
  {
   "cell_type": "code",
   "execution_count": 8,
   "metadata": {},
   "outputs": [
    {
     "data": {
      "text/plain": [
       "95.80097536148199"
      ]
     },
     "execution_count": 8,
     "metadata": {},
     "output_type": "execute_result"
    }
   ],
   "source": [
    "sum(pca.explained_variance_ratio_)*100"
   ]
  },
  {
   "cell_type": "markdown",
   "metadata": {},
   "source": [
    "### 2. Independent Component Analysis"
   ]
  },
  {
   "cell_type": "code",
   "execution_count": 9,
   "metadata": {},
   "outputs": [],
   "source": [
    "from sklearn.decomposition import FastICA"
   ]
  },
  {
   "cell_type": "code",
   "execution_count": 10,
   "metadata": {},
   "outputs": [
    {
     "data": {
      "text/html": [
       "<div>\n",
       "<style scoped>\n",
       "    .dataframe tbody tr th:only-of-type {\n",
       "        vertical-align: middle;\n",
       "    }\n",
       "\n",
       "    .dataframe tbody tr th {\n",
       "        vertical-align: top;\n",
       "    }\n",
       "\n",
       "    .dataframe thead th {\n",
       "        text-align: right;\n",
       "    }\n",
       "</style>\n",
       "<table border=\"1\" class=\"dataframe\">\n",
       "  <thead>\n",
       "    <tr style=\"text-align: right;\">\n",
       "      <th></th>\n",
       "      <th>IC1</th>\n",
       "      <th>IC2</th>\n",
       "      <th>class</th>\n",
       "    </tr>\n",
       "  </thead>\n",
       "  <tbody>\n",
       "    <tr>\n",
       "      <th>0</th>\n",
       "      <td>0.106742</td>\n",
       "      <td>-0.046924</td>\n",
       "      <td>Iris-setosa</td>\n",
       "    </tr>\n",
       "    <tr>\n",
       "      <th>1</th>\n",
       "      <td>0.101808</td>\n",
       "      <td>0.052094</td>\n",
       "      <td>Iris-setosa</td>\n",
       "    </tr>\n",
       "    <tr>\n",
       "      <th>2</th>\n",
       "      <td>0.114232</td>\n",
       "      <td>0.022962</td>\n",
       "      <td>Iris-setosa</td>\n",
       "    </tr>\n",
       "    <tr>\n",
       "      <th>3</th>\n",
       "      <td>0.111976</td>\n",
       "      <td>0.044912</td>\n",
       "      <td>Iris-setosa</td>\n",
       "    </tr>\n",
       "    <tr>\n",
       "      <th>4</th>\n",
       "      <td>0.112162</td>\n",
       "      <td>-0.061513</td>\n",
       "      <td>Iris-setosa</td>\n",
       "    </tr>\n",
       "  </tbody>\n",
       "</table>\n",
       "</div>"
      ],
      "text/plain": [
       "        IC1       IC2        class\n",
       "0  0.106742 -0.046924  Iris-setosa\n",
       "1  0.101808  0.052094  Iris-setosa\n",
       "2  0.114232  0.022962  Iris-setosa\n",
       "3  0.111976  0.044912  Iris-setosa\n",
       "4  0.112162 -0.061513  Iris-setosa"
      ]
     },
     "execution_count": 10,
     "metadata": {},
     "output_type": "execute_result"
    }
   ],
   "source": [
    "ica=FastICA(n_components=2,random_state=0)\n",
    "ica_fit=ica.fit_transform(X_scaled)\n",
    "ica_df=pd.DataFrame(ica_fit,columns=['IC1','IC2'])\n",
    "ica_df=pd.concat([ica_df,y],axis=1)\n",
    "ica_df.head()"
   ]
  },
  {
   "cell_type": "markdown",
   "metadata": {},
   "source": [
    "Visualize Independet Component Analysis"
   ]
  },
  {
   "cell_type": "code",
   "execution_count": 11,
   "metadata": {},
   "outputs": [
    {
     "data": {
      "image/png": "[encoded data removed]",
      "text/plain": [
       "<Figure size 1440x720 with 1 Axes>"
      ]
     },
     "metadata": {},
     "output_type": "display_data"
    }
   ],
   "source": [
    "plt.rcParams['axes.labelsize'] = 20\n",
    "sns.set(font_scale = 2)\n",
    "sns.scatterplot(x=\"IC1\", y=\"IC2\", sizes=(1, 8), linewidth=0,data=ica_df,hue='class')\n",
    "plt.show()"
   ]
  },
  {
   "cell_type": "markdown",
   "metadata": {},
   "source": [
    "### 3. Random Forest\n",
    "Get feature importance with RandomForest"
   ]
  },
  {
   "cell_type": "code",
   "execution_count": 12,
   "metadata": {},
   "outputs": [],
   "source": [
    "from sklearn.ensemble import RandomForestClassifier"
   ]
  },
  {
   "cell_type": "code",
   "execution_count": 13,
   "metadata": {},
   "outputs": [
    {
     "data": {
      "text/plain": [
       "petal_length    0.436982\n",
       "petal_width     0.399513\n",
       "sepal_length    0.128690\n",
       "sepal_width     0.034815\n",
       "dtype: float64"
      ]
     },
     "execution_count": 13,
     "metadata": {},
     "output_type": "execute_result"
    }
   ],
   "source": [
    "rf_clf=RandomForestClassifier(n_estimators=100)\n",
    "rf_clf.fit(X_scaled,y) # train the model\n",
    "\n",
    "feature_imp = pd.Series(rf_clf.feature_importances_,index=X_scaled.columns).sort_values(ascending=False)\n",
    "feature_imp"
   ]
  },
  {
   "cell_type": "markdown",
   "metadata": {},
   "source": [
    "Visualize Feature Importance"
   ]
  },
  {
   "cell_type": "code",
   "execution_count": 14,
   "metadata": {},
   "outputs": [
    {
     "data": {
      "image/png": "[encoded data removed]",
      "text/plain": [
       "<Figure size 1440x720 with 1 Axes>"
      ]
     },
     "metadata": {},
     "output_type": "display_data"
    }
   ],
   "source": [
    "sns.barplot(y=feature_imp.index, x=feature_imp)\n",
    "plt.xlabel('Feature Importance Score')\n",
    "plt.ylabel('Features')\n",
    "plt.title(\"Visualizing Important Features\")\n",
    "plt.show()"
   ]
  },
  {
   "cell_type": "markdown",
   "metadata": {},
   "source": [
    "### 4. Factor Analysis"
   ]
  },
  {
   "cell_type": "code",
   "execution_count": 15,
   "metadata": {},
   "outputs": [],
   "source": [
    "from sklearn.decomposition import FactorAnalysis"
   ]
  },
  {
   "cell_type": "code",
   "execution_count": 16,
   "metadata": {},
   "outputs": [
    {
     "data": {
      "text/html": [
       "<div>\n",
       "<style scoped>\n",
       "    .dataframe tbody tr th:only-of-type {\n",
       "        vertical-align: middle;\n",
       "    }\n",
       "\n",
       "    .dataframe tbody tr th {\n",
       "        vertical-align: top;\n",
       "    }\n",
       "\n",
       "    .dataframe thead th {\n",
       "        text-align: right;\n",
       "    }\n",
       "</style>\n",
       "<table border=\"1\" class=\"dataframe\">\n",
       "  <thead>\n",
       "    <tr style=\"text-align: right;\">\n",
       "      <th></th>\n",
       "      <th>FA1</th>\n",
       "      <th>FA2</th>\n",
       "      <th>class</th>\n",
       "    </tr>\n",
       "  </thead>\n",
       "  <tbody>\n",
       "    <tr>\n",
       "      <th>0</th>\n",
       "      <td>-1.342095</td>\n",
       "      <td>0.505984</td>\n",
       "      <td>Iris-setosa</td>\n",
       "    </tr>\n",
       "    <tr>\n",
       "      <th>1</th>\n",
       "      <td>-1.336775</td>\n",
       "      <td>-0.689392</td>\n",
       "      <td>Iris-setosa</td>\n",
       "    </tr>\n",
       "    <tr>\n",
       "      <th>2</th>\n",
       "      <td>-1.396478</td>\n",
       "      <td>-0.278447</td>\n",
       "      <td>Iris-setosa</td>\n",
       "    </tr>\n",
       "    <tr>\n",
       "      <th>3</th>\n",
       "      <td>-1.284444</td>\n",
       "      <td>-0.503736</td>\n",
       "      <td>Iris-setosa</td>\n",
       "    </tr>\n",
       "    <tr>\n",
       "      <th>4</th>\n",
       "      <td>-1.344103</td>\n",
       "      <td>0.717821</td>\n",
       "      <td>Iris-setosa</td>\n",
       "    </tr>\n",
       "  </tbody>\n",
       "</table>\n",
       "</div>"
      ],
      "text/plain": [
       "        FA1       FA2        class\n",
       "0 -1.342095  0.505984  Iris-setosa\n",
       "1 -1.336775 -0.689392  Iris-setosa\n",
       "2 -1.396478 -0.278447  Iris-setosa\n",
       "3 -1.284444 -0.503736  Iris-setosa\n",
       "4 -1.344103  0.717821  Iris-setosa"
      ]
     },
     "execution_count": 16,
     "metadata": {},
     "output_type": "execute_result"
    }
   ],
   "source": [
    "fa=FactorAnalysis(n_components=2,random_state=0)\n",
    "fa_transform=fa.fit_transform(X_scaled)\n",
    "fa_df=pd.DataFrame(fa_transform,columns=['FA1','FA2'])\n",
    "fa_df=pd.concat([fa_df,y],axis=1)\n",
    "fa_df.head()"
   ]
  },
  {
   "cell_type": "markdown",
   "metadata": {},
   "source": [
    "Visualize Factor Analysis output"
   ]
  },
  {
   "cell_type": "code",
   "execution_count": 17,
   "metadata": {},
   "outputs": [
    {
     "data": {
      "image/png": "[encoded data removed]",
      "text/plain": [
       "<Figure size 1440x720 with 1 Axes>"
      ]
     },
     "metadata": {},
     "output_type": "display_data"
    }
   ],
   "source": [
    "plt.rcParams['axes.labelsize'] = 20\n",
    "sns.set(font_scale = 2)\n",
    "sns.scatterplot(x=\"FA1\", y=\"FA2\", sizes=(1, 8), linewidth=0,data=fa_df,hue='class')\n",
    "plt.show()"
   ]
  },
  {
   "cell_type": "markdown",
   "metadata": {},
   "source": [
    "Compute Features Covariance"
   ]
  },
  {
   "cell_type": "code",
   "execution_count": 18,
   "metadata": {},
   "outputs": [
    {
     "data": {
      "text/html": [
       "<div>\n",
       "<style scoped>\n",
       "    .dataframe tbody tr th:only-of-type {\n",
       "        vertical-align: middle;\n",
       "    }\n",
       "\n",
       "    .dataframe tbody tr th {\n",
       "        vertical-align: top;\n",
       "    }\n",
       "\n",
       "    .dataframe thead th {\n",
       "        text-align: right;\n",
       "    }\n",
       "</style>\n",
       "<table border=\"1\" class=\"dataframe\">\n",
       "  <thead>\n",
       "    <tr style=\"text-align: right;\">\n",
       "      <th></th>\n",
       "      <th>sepal_length</th>\n",
       "      <th>sepal_width</th>\n",
       "      <th>petal_length</th>\n",
       "      <th>petal_width</th>\n",
       "    </tr>\n",
       "  </thead>\n",
       "  <tbody>\n",
       "    <tr>\n",
       "      <th>sepal_length</th>\n",
       "      <td>0.999936</td>\n",
       "      <td>-0.111460</td>\n",
       "      <td>0.871248</td>\n",
       "      <td>0.853953</td>\n",
       "    </tr>\n",
       "    <tr>\n",
       "      <th>sepal_width</th>\n",
       "      <td>-0.111460</td>\n",
       "      <td>1.000667</td>\n",
       "      <td>-0.420422</td>\n",
       "      <td>-0.362274</td>\n",
       "    </tr>\n",
       "    <tr>\n",
       "      <th>petal_length</th>\n",
       "      <td>0.871248</td>\n",
       "      <td>-0.420422</td>\n",
       "      <td>1.000007</td>\n",
       "      <td>0.962519</td>\n",
       "    </tr>\n",
       "    <tr>\n",
       "      <th>petal_width</th>\n",
       "      <td>0.853953</td>\n",
       "      <td>-0.362274</td>\n",
       "      <td>0.962519</td>\n",
       "      <td>1.000002</td>\n",
       "    </tr>\n",
       "  </tbody>\n",
       "</table>\n",
       "</div>"
      ],
      "text/plain": [
       "              sepal_length  sepal_width  petal_length  petal_width\n",
       "sepal_length      0.999936    -0.111460      0.871248     0.853953\n",
       "sepal_width      -0.111460     1.000667     -0.420422    -0.362274\n",
       "petal_length      0.871248    -0.420422      1.000007     0.962519\n",
       "petal_width       0.853953    -0.362274      0.962519     1.000002"
      ]
     },
     "execution_count": 18,
     "metadata": {},
     "output_type": "execute_result"
    }
   ],
   "source": [
    "fa_cov=pd.DataFrame(fa.get_covariance(),columns=X_scaled.columns,index=X_scaled.columns)\n",
    "fa_cov"
   ]
  },
  {
   "cell_type": "code",
   "execution_count": 19,
   "metadata": {},
   "outputs": [
    {
     "data": {
      "image/png": "[encoded data removed]",
      "text/plain": [
       "<Figure size 1440x720 with 2 Axes>"
      ]
     },
     "metadata": {},
     "output_type": "display_data"
    }
   ],
   "source": [
    "plt.rcParams['axes.labelsize'] = 20\n",
    "sns.set(font_scale = 2)\n",
    "plt.rcParams['text.color'] = 'blue'\n",
    "plt.rcParams['font.size'] = 20\n",
    "sns.heatmap(fa_cov, annot=True, fmt=\".4f\", linewidths=.5,cmap='summer')\n",
    "plt.show()"
   ]
  },
  {
   "cell_type": "markdown",
   "metadata": {},
   "source": [
    "### 5. Low Variance filter"
   ]
  },
  {
   "cell_type": "code",
   "execution_count": 20,
   "metadata": {},
   "outputs": [],
   "source": [
    "from sklearn.feature_selection import VarianceThreshold"
   ]
  },
  {
   "cell_type": "code",
   "execution_count": 21,
   "metadata": {},
   "outputs": [],
   "source": [
    "threshold_value=0.5\n",
    "vt=VarianceThreshold(threshold=threshold_value)   \n",
    "vt_fit=vt.fit_transform(features)"
   ]
  },
  {
   "cell_type": "markdown",
   "metadata": {},
   "source": [
    "Get variances for each feature"
   ]
  },
  {
   "cell_type": "code",
   "execution_count": 22,
   "metadata": {},
   "outputs": [
    {
     "name": "stdout",
     "output_type": "stream",
     "text": [
      "[0.68112222 0.18675067 3.09242489 0.57853156]\n",
      "[ True False  True  True]\n"
     ]
    }
   ],
   "source": [
    "print(vt.variances_) # actual variance values\n",
    "print(vt.get_support()) # True has high variance False has low variance than the threshold"
   ]
  },
  {
   "cell_type": "markdown",
   "metadata": {},
   "source": [
    "Get columns with low variance based on 0.05 threshold i.e value with similarity of 50%"
   ]
  },
  {
   "cell_type": "code",
   "execution_count": 23,
   "metadata": {},
   "outputs": [
    {
     "data": {
      "text/plain": [
       "['sepal_width']"
      ]
     },
     "execution_count": 23,
     "metadata": {},
     "output_type": "execute_result"
    }
   ],
   "source": [
    "low_var_=[column for column in features.columns if column not in features.columns[vt.get_support()]]\n",
    "low_var_"
   ]
  },
  {
   "cell_type": "code",
   "execution_count": 24,
   "metadata": {},
   "outputs": [
    {
     "data": {
      "text/html": [
       "<style  type=\"text/css\" >\n",
       "</style><table id=\"T_021a7154_800c_11ec_9c46_f875a417a9fc\" style='display:inline'><caption>Original Data</caption><thead>    <tr>        <th class=\"blank level0\" ></th>        <th class=\"col_heading level0 col0\" >sepal_length</th>        <th class=\"col_heading level0 col1\" >sepal_width</th>        <th class=\"col_heading level0 col2\" >petal_length</th>        <th class=\"col_heading level0 col3\" >petal_width</th>    </tr></thead><tbody>\n",
       "                <tr>\n",
       "                        <th id=\"T_021a7154_800c_11ec_9c46_f875a417a9fclevel0_row0\" class=\"row_heading level0 row0\" >0</th>\n",
       "                        <td id=\"T_021a7154_800c_11ec_9c46_f875a417a9fcrow0_col0\" class=\"data row0 col0\" >5.100000</td>\n",
       "                        <td id=\"T_021a7154_800c_11ec_9c46_f875a417a9fcrow0_col1\" class=\"data row0 col1\" >3.500000</td>\n",
       "                        <td id=\"T_021a7154_800c_11ec_9c46_f875a417a9fcrow0_col2\" class=\"data row0 col2\" >1.400000</td>\n",
       "                        <td id=\"T_021a7154_800c_11ec_9c46_f875a417a9fcrow0_col3\" class=\"data row0 col3\" >0.200000</td>\n",
       "            </tr>\n",
       "            <tr>\n",
       "                        <th id=\"T_021a7154_800c_11ec_9c46_f875a417a9fclevel0_row1\" class=\"row_heading level0 row1\" >1</th>\n",
       "                        <td id=\"T_021a7154_800c_11ec_9c46_f875a417a9fcrow1_col0\" class=\"data row1 col0\" >4.900000</td>\n",
       "                        <td id=\"T_021a7154_800c_11ec_9c46_f875a417a9fcrow1_col1\" class=\"data row1 col1\" >3.000000</td>\n",
       "                        <td id=\"T_021a7154_800c_11ec_9c46_f875a417a9fcrow1_col2\" class=\"data row1 col2\" >1.400000</td>\n",
       "                        <td id=\"T_021a7154_800c_11ec_9c46_f875a417a9fcrow1_col3\" class=\"data row1 col3\" >0.200000</td>\n",
       "            </tr>\n",
       "            <tr>\n",
       "                        <th id=\"T_021a7154_800c_11ec_9c46_f875a417a9fclevel0_row2\" class=\"row_heading level0 row2\" >2</th>\n",
       "                        <td id=\"T_021a7154_800c_11ec_9c46_f875a417a9fcrow2_col0\" class=\"data row2 col0\" >4.700000</td>\n",
       "                        <td id=\"T_021a7154_800c_11ec_9c46_f875a417a9fcrow2_col1\" class=\"data row2 col1\" >3.200000</td>\n",
       "                        <td id=\"T_021a7154_800c_11ec_9c46_f875a417a9fcrow2_col2\" class=\"data row2 col2\" >1.300000</td>\n",
       "                        <td id=\"T_021a7154_800c_11ec_9c46_f875a417a9fcrow2_col3\" class=\"data row2 col3\" >0.200000</td>\n",
       "            </tr>\n",
       "            <tr>\n",
       "                        <th id=\"T_021a7154_800c_11ec_9c46_f875a417a9fclevel0_row3\" class=\"row_heading level0 row3\" >3</th>\n",
       "                        <td id=\"T_021a7154_800c_11ec_9c46_f875a417a9fcrow3_col0\" class=\"data row3 col0\" >4.600000</td>\n",
       "                        <td id=\"T_021a7154_800c_11ec_9c46_f875a417a9fcrow3_col1\" class=\"data row3 col1\" >3.100000</td>\n",
       "                        <td id=\"T_021a7154_800c_11ec_9c46_f875a417a9fcrow3_col2\" class=\"data row3 col2\" >1.500000</td>\n",
       "                        <td id=\"T_021a7154_800c_11ec_9c46_f875a417a9fcrow3_col3\" class=\"data row3 col3\" >0.200000</td>\n",
       "            </tr>\n",
       "            <tr>\n",
       "                        <th id=\"T_021a7154_800c_11ec_9c46_f875a417a9fclevel0_row4\" class=\"row_heading level0 row4\" >4</th>\n",
       "                        <td id=\"T_021a7154_800c_11ec_9c46_f875a417a9fcrow4_col0\" class=\"data row4 col0\" >5.000000</td>\n",
       "                        <td id=\"T_021a7154_800c_11ec_9c46_f875a417a9fcrow4_col1\" class=\"data row4 col1\" >3.600000</td>\n",
       "                        <td id=\"T_021a7154_800c_11ec_9c46_f875a417a9fcrow4_col2\" class=\"data row4 col2\" >1.400000</td>\n",
       "                        <td id=\"T_021a7154_800c_11ec_9c46_f875a417a9fcrow4_col3\" class=\"data row4 col3\" >0.200000</td>\n",
       "            </tr>\n",
       "    </tbody></table>&nbsp;&nbsp;&nbsp;&nbsp;&nbsp;<style  type=\"text/css\" >\n",
       "</style><table id=\"T_021b82b8_800c_11ec_a3ce_f875a417a9fc\" style='display:inline'><caption>After Removing Low Variance Features</caption><thead>    <tr>        <th class=\"blank level0\" ></th>        <th class=\"col_heading level0 col0\" >sepal_length</th>        <th class=\"col_heading level0 col1\" >petal_length</th>        <th class=\"col_heading level0 col2\" >petal_width</th>    </tr></thead><tbody>\n",
       "                <tr>\n",
       "                        <th id=\"T_021b82b8_800c_11ec_a3ce_f875a417a9fclevel0_row0\" class=\"row_heading level0 row0\" >0</th>\n",
       "                        <td id=\"T_021b82b8_800c_11ec_a3ce_f875a417a9fcrow0_col0\" class=\"data row0 col0\" >5.100000</td>\n",
       "                        <td id=\"T_021b82b8_800c_11ec_a3ce_f875a417a9fcrow0_col1\" class=\"data row0 col1\" >1.400000</td>\n",
       "                        <td id=\"T_021b82b8_800c_11ec_a3ce_f875a417a9fcrow0_col2\" class=\"data row0 col2\" >0.200000</td>\n",
       "            </tr>\n",
       "            <tr>\n",
       "                        <th id=\"T_021b82b8_800c_11ec_a3ce_f875a417a9fclevel0_row1\" class=\"row_heading level0 row1\" >1</th>\n",
       "                        <td id=\"T_021b82b8_800c_11ec_a3ce_f875a417a9fcrow1_col0\" class=\"data row1 col0\" >4.900000</td>\n",
       "                        <td id=\"T_021b82b8_800c_11ec_a3ce_f875a417a9fcrow1_col1\" class=\"data row1 col1\" >1.400000</td>\n",
       "                        <td id=\"T_021b82b8_800c_11ec_a3ce_f875a417a9fcrow1_col2\" class=\"data row1 col2\" >0.200000</td>\n",
       "            </tr>\n",
       "            <tr>\n",
       "                        <th id=\"T_021b82b8_800c_11ec_a3ce_f875a417a9fclevel0_row2\" class=\"row_heading level0 row2\" >2</th>\n",
       "                        <td id=\"T_021b82b8_800c_11ec_a3ce_f875a417a9fcrow2_col0\" class=\"data row2 col0\" >4.700000</td>\n",
       "                        <td id=\"T_021b82b8_800c_11ec_a3ce_f875a417a9fcrow2_col1\" class=\"data row2 col1\" >1.300000</td>\n",
       "                        <td id=\"T_021b82b8_800c_11ec_a3ce_f875a417a9fcrow2_col2\" class=\"data row2 col2\" >0.200000</td>\n",
       "            </tr>\n",
       "            <tr>\n",
       "                        <th id=\"T_021b82b8_800c_11ec_a3ce_f875a417a9fclevel0_row3\" class=\"row_heading level0 row3\" >3</th>\n",
       "                        <td id=\"T_021b82b8_800c_11ec_a3ce_f875a417a9fcrow3_col0\" class=\"data row3 col0\" >4.600000</td>\n",
       "                        <td id=\"T_021b82b8_800c_11ec_a3ce_f875a417a9fcrow3_col1\" class=\"data row3 col1\" >1.500000</td>\n",
       "                        <td id=\"T_021b82b8_800c_11ec_a3ce_f875a417a9fcrow3_col2\" class=\"data row3 col2\" >0.200000</td>\n",
       "            </tr>\n",
       "            <tr>\n",
       "                        <th id=\"T_021b82b8_800c_11ec_a3ce_f875a417a9fclevel0_row4\" class=\"row_heading level0 row4\" >4</th>\n",
       "                        <td id=\"T_021b82b8_800c_11ec_a3ce_f875a417a9fcrow4_col0\" class=\"data row4 col0\" >5.000000</td>\n",
       "                        <td id=\"T_021b82b8_800c_11ec_a3ce_f875a417a9fcrow4_col1\" class=\"data row4 col1\" >1.400000</td>\n",
       "                        <td id=\"T_021b82b8_800c_11ec_a3ce_f875a417a9fcrow4_col2\" class=\"data row4 col2\" >0.200000</td>\n",
       "            </tr>\n",
       "    </tbody></table>"
      ]
     },
     "metadata": {},
     "output_type": "display_data"
    }
   ],
   "source": [
    "remove_low_vars_=features.drop(low_var_,axis=1)\n",
    "\n",
    "# Drop features with variance less than 50%\n",
    "iris_df = features.head().style.set_table_attributes(\"style='display:inline'\").set_caption('Original Data')\n",
    "low_vars_df_ = remove_low_vars_.head().style.set_table_attributes(\"style='display:inline'\").set_caption('After Removing Low Variance Features')\n",
    "\n",
    "display_html(iris_df._repr_html_()+\"&nbsp;&nbsp;&nbsp;&nbsp;&nbsp;\"+low_vars_df_._repr_html_(), raw=True)"
   ]
  },
  {
   "cell_type": "markdown",
   "metadata": {},
   "source": [
    "Option 2 Get features with variance < 50%"
   ]
  },
  {
   "cell_type": "code",
   "execution_count": 25,
   "metadata": {},
   "outputs": [
    {
     "data": {
      "text/plain": [
       "sepal_length    0.685694\n",
       "sepal_width     0.188004\n",
       "petal_length    3.113179\n",
       "petal_width     0.582414\n",
       "dtype: float64"
      ]
     },
     "execution_count": 25,
     "metadata": {},
     "output_type": "execute_result"
    }
   ],
   "source": [
    "variance=features.var()\n",
    "variance"
   ]
  },
  {
   "cell_type": "code",
   "execution_count": 26,
   "metadata": {},
   "outputs": [
    {
     "data": {
      "text/plain": [
       "['sepal_width']"
      ]
     },
     "execution_count": 26,
     "metadata": {},
     "output_type": "execute_result"
    }
   ],
   "source": [
    "low_var_features = [ ]\n",
    "\n",
    "for i in range(0,len(variance)):\n",
    "    if variance[i]<=0.50: \n",
    "        low_var_features.append(features.columns[i])\n",
    "        \n",
    "low_var_features"
   ]
  },
  {
   "cell_type": "code",
   "execution_count": 27,
   "metadata": {},
   "outputs": [
    {
     "data": {
      "text/html": [
       "<div>\n",
       "<style scoped>\n",
       "    .dataframe tbody tr th:only-of-type {\n",
       "        vertical-align: middle;\n",
       "    }\n",
       "\n",
       "    .dataframe tbody tr th {\n",
       "        vertical-align: top;\n",
       "    }\n",
       "\n",
       "    .dataframe thead th {\n",
       "        text-align: right;\n",
       "    }\n",
       "</style>\n",
       "<table border=\"1\" class=\"dataframe\">\n",
       "  <thead>\n",
       "    <tr style=\"text-align: right;\">\n",
       "      <th></th>\n",
       "      <th>sepal_length</th>\n",
       "      <th>petal_length</th>\n",
       "      <th>petal_width</th>\n",
       "    </tr>\n",
       "  </thead>\n",
       "  <tbody>\n",
       "    <tr>\n",
       "      <th>0</th>\n",
       "      <td>5.1</td>\n",
       "      <td>1.4</td>\n",
       "      <td>0.2</td>\n",
       "    </tr>\n",
       "    <tr>\n",
       "      <th>1</th>\n",
       "      <td>4.9</td>\n",
       "      <td>1.4</td>\n",
       "      <td>0.2</td>\n",
       "    </tr>\n",
       "    <tr>\n",
       "      <th>2</th>\n",
       "      <td>4.7</td>\n",
       "      <td>1.3</td>\n",
       "      <td>0.2</td>\n",
       "    </tr>\n",
       "    <tr>\n",
       "      <th>3</th>\n",
       "      <td>4.6</td>\n",
       "      <td>1.5</td>\n",
       "      <td>0.2</td>\n",
       "    </tr>\n",
       "    <tr>\n",
       "      <th>4</th>\n",
       "      <td>5.0</td>\n",
       "      <td>1.4</td>\n",
       "      <td>0.2</td>\n",
       "    </tr>\n",
       "  </tbody>\n",
       "</table>\n",
       "</div>"
      ],
      "text/plain": [
       "   sepal_length  petal_length  petal_width\n",
       "0           5.1           1.4          0.2\n",
       "1           4.9           1.4          0.2\n",
       "2           4.7           1.3          0.2\n",
       "3           4.6           1.5          0.2\n",
       "4           5.0           1.4          0.2"
      ]
     },
     "execution_count": 27,
     "metadata": {},
     "output_type": "execute_result"
    }
   ],
   "source": [
    "remove_low_var_features=features.drop(low_var_features,axis=1)\n",
    "remove_low_var_features.head()"
   ]
  },
  {
   "cell_type": "code",
   "execution_count": 28,
   "metadata": {},
   "outputs": [
    {
     "data": {
      "text/html": [
       "<style  type=\"text/css\" >\n",
       "</style><table id=\"T_02310534_800c_11ec_a53b_f875a417a9fc\" style='display:inline'><caption>Original Data</caption><thead>    <tr>        <th class=\"blank level0\" ></th>        <th class=\"col_heading level0 col0\" >sepal_length</th>        <th class=\"col_heading level0 col1\" >sepal_width</th>        <th class=\"col_heading level0 col2\" >petal_length</th>        <th class=\"col_heading level0 col3\" >petal_width</th>    </tr></thead><tbody>\n",
       "                <tr>\n",
       "                        <th id=\"T_02310534_800c_11ec_a53b_f875a417a9fclevel0_row0\" class=\"row_heading level0 row0\" >0</th>\n",
       "                        <td id=\"T_02310534_800c_11ec_a53b_f875a417a9fcrow0_col0\" class=\"data row0 col0\" >5.100000</td>\n",
       "                        <td id=\"T_02310534_800c_11ec_a53b_f875a417a9fcrow0_col1\" class=\"data row0 col1\" >3.500000</td>\n",
       "                        <td id=\"T_02310534_800c_11ec_a53b_f875a417a9fcrow0_col2\" class=\"data row0 col2\" >1.400000</td>\n",
       "                        <td id=\"T_02310534_800c_11ec_a53b_f875a417a9fcrow0_col3\" class=\"data row0 col3\" >0.200000</td>\n",
       "            </tr>\n",
       "            <tr>\n",
       "                        <th id=\"T_02310534_800c_11ec_a53b_f875a417a9fclevel0_row1\" class=\"row_heading level0 row1\" >1</th>\n",
       "                        <td id=\"T_02310534_800c_11ec_a53b_f875a417a9fcrow1_col0\" class=\"data row1 col0\" >4.900000</td>\n",
       "                        <td id=\"T_02310534_800c_11ec_a53b_f875a417a9fcrow1_col1\" class=\"data row1 col1\" >3.000000</td>\n",
       "                        <td id=\"T_02310534_800c_11ec_a53b_f875a417a9fcrow1_col2\" class=\"data row1 col2\" >1.400000</td>\n",
       "                        <td id=\"T_02310534_800c_11ec_a53b_f875a417a9fcrow1_col3\" class=\"data row1 col3\" >0.200000</td>\n",
       "            </tr>\n",
       "            <tr>\n",
       "                        <th id=\"T_02310534_800c_11ec_a53b_f875a417a9fclevel0_row2\" class=\"row_heading level0 row2\" >2</th>\n",
       "                        <td id=\"T_02310534_800c_11ec_a53b_f875a417a9fcrow2_col0\" class=\"data row2 col0\" >4.700000</td>\n",
       "                        <td id=\"T_02310534_800c_11ec_a53b_f875a417a9fcrow2_col1\" class=\"data row2 col1\" >3.200000</td>\n",
       "                        <td id=\"T_02310534_800c_11ec_a53b_f875a417a9fcrow2_col2\" class=\"data row2 col2\" >1.300000</td>\n",
       "                        <td id=\"T_02310534_800c_11ec_a53b_f875a417a9fcrow2_col3\" class=\"data row2 col3\" >0.200000</td>\n",
       "            </tr>\n",
       "            <tr>\n",
       "                        <th id=\"T_02310534_800c_11ec_a53b_f875a417a9fclevel0_row3\" class=\"row_heading level0 row3\" >3</th>\n",
       "                        <td id=\"T_02310534_800c_11ec_a53b_f875a417a9fcrow3_col0\" class=\"data row3 col0\" >4.600000</td>\n",
       "                        <td id=\"T_02310534_800c_11ec_a53b_f875a417a9fcrow3_col1\" class=\"data row3 col1\" >3.100000</td>\n",
       "                        <td id=\"T_02310534_800c_11ec_a53b_f875a417a9fcrow3_col2\" class=\"data row3 col2\" >1.500000</td>\n",
       "                        <td id=\"T_02310534_800c_11ec_a53b_f875a417a9fcrow3_col3\" class=\"data row3 col3\" >0.200000</td>\n",
       "            </tr>\n",
       "            <tr>\n",
       "                        <th id=\"T_02310534_800c_11ec_a53b_f875a417a9fclevel0_row4\" class=\"row_heading level0 row4\" >4</th>\n",
       "                        <td id=\"T_02310534_800c_11ec_a53b_f875a417a9fcrow4_col0\" class=\"data row4 col0\" >5.000000</td>\n",
       "                        <td id=\"T_02310534_800c_11ec_a53b_f875a417a9fcrow4_col1\" class=\"data row4 col1\" >3.600000</td>\n",
       "                        <td id=\"T_02310534_800c_11ec_a53b_f875a417a9fcrow4_col2\" class=\"data row4 col2\" >1.400000</td>\n",
       "                        <td id=\"T_02310534_800c_11ec_a53b_f875a417a9fcrow4_col3\" class=\"data row4 col3\" >0.200000</td>\n",
       "            </tr>\n",
       "    </tbody></table>&nbsp;&nbsp;&nbsp;&nbsp;&nbsp;<style  type=\"text/css\" >\n",
       "</style><table id=\"T_02315340_800c_11ec_b09b_f875a417a9fc\" style='display:inline'><caption>After Removing Low Variance Features</caption><thead>    <tr>        <th class=\"blank level0\" ></th>        <th class=\"col_heading level0 col0\" >sepal_length</th>        <th class=\"col_heading level0 col1\" >petal_length</th>        <th class=\"col_heading level0 col2\" >petal_width</th>    </tr></thead><tbody>\n",
       "                <tr>\n",
       "                        <th id=\"T_02315340_800c_11ec_b09b_f875a417a9fclevel0_row0\" class=\"row_heading level0 row0\" >0</th>\n",
       "                        <td id=\"T_02315340_800c_11ec_b09b_f875a417a9fcrow0_col0\" class=\"data row0 col0\" >5.100000</td>\n",
       "                        <td id=\"T_02315340_800c_11ec_b09b_f875a417a9fcrow0_col1\" class=\"data row0 col1\" >1.400000</td>\n",
       "                        <td id=\"T_02315340_800c_11ec_b09b_f875a417a9fcrow0_col2\" class=\"data row0 col2\" >0.200000</td>\n",
       "            </tr>\n",
       "            <tr>\n",
       "                        <th id=\"T_02315340_800c_11ec_b09b_f875a417a9fclevel0_row1\" class=\"row_heading level0 row1\" >1</th>\n",
       "                        <td id=\"T_02315340_800c_11ec_b09b_f875a417a9fcrow1_col0\" class=\"data row1 col0\" >4.900000</td>\n",
       "                        <td id=\"T_02315340_800c_11ec_b09b_f875a417a9fcrow1_col1\" class=\"data row1 col1\" >1.400000</td>\n",
       "                        <td id=\"T_02315340_800c_11ec_b09b_f875a417a9fcrow1_col2\" class=\"data row1 col2\" >0.200000</td>\n",
       "            </tr>\n",
       "            <tr>\n",
       "                        <th id=\"T_02315340_800c_11ec_b09b_f875a417a9fclevel0_row2\" class=\"row_heading level0 row2\" >2</th>\n",
       "                        <td id=\"T_02315340_800c_11ec_b09b_f875a417a9fcrow2_col0\" class=\"data row2 col0\" >4.700000</td>\n",
       "                        <td id=\"T_02315340_800c_11ec_b09b_f875a417a9fcrow2_col1\" class=\"data row2 col1\" >1.300000</td>\n",
       "                        <td id=\"T_02315340_800c_11ec_b09b_f875a417a9fcrow2_col2\" class=\"data row2 col2\" >0.200000</td>\n",
       "            </tr>\n",
       "            <tr>\n",
       "                        <th id=\"T_02315340_800c_11ec_b09b_f875a417a9fclevel0_row3\" class=\"row_heading level0 row3\" >3</th>\n",
       "                        <td id=\"T_02315340_800c_11ec_b09b_f875a417a9fcrow3_col0\" class=\"data row3 col0\" >4.600000</td>\n",
       "                        <td id=\"T_02315340_800c_11ec_b09b_f875a417a9fcrow3_col1\" class=\"data row3 col1\" >1.500000</td>\n",
       "                        <td id=\"T_02315340_800c_11ec_b09b_f875a417a9fcrow3_col2\" class=\"data row3 col2\" >0.200000</td>\n",
       "            </tr>\n",
       "            <tr>\n",
       "                        <th id=\"T_02315340_800c_11ec_b09b_f875a417a9fclevel0_row4\" class=\"row_heading level0 row4\" >4</th>\n",
       "                        <td id=\"T_02315340_800c_11ec_b09b_f875a417a9fcrow4_col0\" class=\"data row4 col0\" >5.000000</td>\n",
       "                        <td id=\"T_02315340_800c_11ec_b09b_f875a417a9fcrow4_col1\" class=\"data row4 col1\" >1.400000</td>\n",
       "                        <td id=\"T_02315340_800c_11ec_b09b_f875a417a9fcrow4_col2\" class=\"data row4 col2\" >0.200000</td>\n",
       "            </tr>\n",
       "    </tbody></table>"
      ]
     },
     "metadata": {},
     "output_type": "display_data"
    }
   ],
   "source": [
    "# Drop features with variance less than 50%\n",
    "iris_df = features.head().style.set_table_attributes(\"style='display:inline'\").set_caption('Original Data')\n",
    "low_var_features_df = remove_low_var_features.head().style.set_table_attributes(\"style='display:inline'\").set_caption('After Removing Low Variance Features')\n",
    "\n",
    "display_html(iris_df._repr_html_()+\"&nbsp;&nbsp;&nbsp;&nbsp;&nbsp;\"+low_var_features_df._repr_html_(), raw=True)"
   ]
  },
  {
   "cell_type": "markdown",
   "metadata": {},
   "source": [
    "### 6. High Correlation Filter <a id='high_correlation_filter'></a>"
   ]
  },
  {
   "cell_type": "markdown",
   "metadata": {},
   "source": [
    "Get the correlation matrix first"
   ]
  },
  {
   "cell_type": "code",
   "execution_count": 29,
   "metadata": {},
   "outputs": [
    {
     "data": {
      "text/html": [
       "<div>\n",
       "<style scoped>\n",
       "    .dataframe tbody tr th:only-of-type {\n",
       "        vertical-align: middle;\n",
       "    }\n",
       "\n",
       "    .dataframe tbody tr th {\n",
       "        vertical-align: top;\n",
       "    }\n",
       "\n",
       "    .dataframe thead th {\n",
       "        text-align: right;\n",
       "    }\n",
       "</style>\n",
       "<table border=\"1\" class=\"dataframe\">\n",
       "  <thead>\n",
       "    <tr style=\"text-align: right;\">\n",
       "      <th></th>\n",
       "      <th>sepal_length</th>\n",
       "      <th>sepal_width</th>\n",
       "      <th>petal_length</th>\n",
       "      <th>petal_width</th>\n",
       "    </tr>\n",
       "  </thead>\n",
       "  <tbody>\n",
       "    <tr>\n",
       "      <th>sepal_length</th>\n",
       "      <td>1.000000</td>\n",
       "      <td>-0.109369</td>\n",
       "      <td>0.871754</td>\n",
       "      <td>0.817954</td>\n",
       "    </tr>\n",
       "    <tr>\n",
       "      <th>sepal_width</th>\n",
       "      <td>-0.109369</td>\n",
       "      <td>1.000000</td>\n",
       "      <td>-0.420516</td>\n",
       "      <td>-0.356544</td>\n",
       "    </tr>\n",
       "    <tr>\n",
       "      <th>petal_length</th>\n",
       "      <td>0.871754</td>\n",
       "      <td>-0.420516</td>\n",
       "      <td>1.000000</td>\n",
       "      <td>0.962757</td>\n",
       "    </tr>\n",
       "    <tr>\n",
       "      <th>petal_width</th>\n",
       "      <td>0.817954</td>\n",
       "      <td>-0.356544</td>\n",
       "      <td>0.962757</td>\n",
       "      <td>1.000000</td>\n",
       "    </tr>\n",
       "  </tbody>\n",
       "</table>\n",
       "</div>"
      ],
      "text/plain": [
       "              sepal_length  sepal_width  petal_length  petal_width\n",
       "sepal_length      1.000000    -0.109369      0.871754     0.817954\n",
       "sepal_width      -0.109369     1.000000     -0.420516    -0.356544\n",
       "petal_length      0.871754    -0.420516      1.000000     0.962757\n",
       "petal_width       0.817954    -0.356544      0.962757     1.000000"
      ]
     },
     "execution_count": 29,
     "metadata": {},
     "output_type": "execute_result"
    }
   ],
   "source": [
    "cor_matrix=features.corr()\n",
    "cor_matrix"
   ]
  },
  {
   "cell_type": "code",
   "execution_count": 30,
   "metadata": {},
   "outputs": [
    {
     "data": {
      "image/png": "[encoded data removed]",
      "text/plain": [
       "<Figure size 1440x720 with 2 Axes>"
      ]
     },
     "metadata": {},
     "output_type": "display_data"
    }
   ],
   "source": [
    "plt.rcParams['axes.labelsize'] = 20\n",
    "sns.set(font_scale = 2)\n",
    "plt.rcParams['text.color'] = 'blue'\n",
    "plt.rcParams['font.size'] = 20\n",
    "sns.heatmap(cor_matrix, annot=True, fmt=\".4f\", linewidths=.5,cmap='winter')\n",
    "plt.show()"
   ]
  },
  {
   "cell_type": "markdown",
   "metadata": {},
   "source": [
    "Remove correlated features that are duplicates"
   ]
  },
  {
   "cell_type": "code",
   "execution_count": 31,
   "metadata": {},
   "outputs": [
    {
     "data": {
      "text/plain": [
       "sepal_width   petal_length   -0.420516\n",
       "petal_length  sepal_width    -0.420516\n",
       "sepal_width   petal_width    -0.356544\n",
       "petal_width   sepal_width    -0.356544\n",
       "sepal_length  sepal_width    -0.109369\n",
       "sepal_width   sepal_length   -0.109369\n",
       "sepal_length  petal_width     0.817954\n",
       "petal_width   sepal_length    0.817954\n",
       "sepal_length  petal_length    0.871754\n",
       "petal_length  sepal_length    0.871754\n",
       "              petal_width     0.962757\n",
       "petal_width   petal_length    0.962757\n",
       "sepal_length  sepal_length    1.000000\n",
       "sepal_width   sepal_width     1.000000\n",
       "petal_length  petal_length    1.000000\n",
       "petal_width   petal_width     1.000000\n",
       "dtype: float64"
      ]
     },
     "execution_count": 31,
     "metadata": {},
     "output_type": "execute_result"
    }
   ],
   "source": [
    "cor_matrix.unstack().sort_values()"
   ]
  },
  {
   "cell_type": "code",
   "execution_count": 32,
   "metadata": {},
   "outputs": [
    {
     "data": {
      "text/plain": [
       "sepal_width   petal_length   -0.420516\n",
       "              petal_width    -0.356544\n",
       "sepal_length  sepal_width    -0.109369\n",
       "              petal_width     0.817954\n",
       "              petal_length    0.871754\n",
       "petal_length  petal_width     0.962757\n",
       "sepal_length  sepal_length    1.000000\n",
       "dtype: float64"
      ]
     },
     "execution_count": 32,
     "metadata": {},
     "output_type": "execute_result"
    }
   ],
   "source": [
    "cor_matrix.unstack().sort_values().drop_duplicates() # drop duplicates features"
   ]
  },
  {
   "cell_type": "markdown",
   "metadata": {},
   "source": [
    "Remove correlated features based on defined correlation threshold"
   ]
  },
  {
   "cell_type": "code",
   "execution_count": 33,
   "metadata": {},
   "outputs": [
    {
     "data": {
      "text/html": [
       "<div>\n",
       "<style scoped>\n",
       "    .dataframe tbody tr th:only-of-type {\n",
       "        vertical-align: middle;\n",
       "    }\n",
       "\n",
       "    .dataframe tbody tr th {\n",
       "        vertical-align: top;\n",
       "    }\n",
       "\n",
       "    .dataframe thead th {\n",
       "        text-align: right;\n",
       "    }\n",
       "</style>\n",
       "<table border=\"1\" class=\"dataframe\">\n",
       "  <thead>\n",
       "    <tr style=\"text-align: right;\">\n",
       "      <th></th>\n",
       "      <th>sepal_length</th>\n",
       "      <th>sepal_width</th>\n",
       "      <th>petal_length</th>\n",
       "      <th>petal_width</th>\n",
       "    </tr>\n",
       "  </thead>\n",
       "  <tbody>\n",
       "    <tr>\n",
       "      <th>sepal_length</th>\n",
       "      <td>NaN</td>\n",
       "      <td>-0.109369</td>\n",
       "      <td>0.871754</td>\n",
       "      <td>0.817954</td>\n",
       "    </tr>\n",
       "    <tr>\n",
       "      <th>sepal_width</th>\n",
       "      <td>NaN</td>\n",
       "      <td>NaN</td>\n",
       "      <td>-0.420516</td>\n",
       "      <td>-0.356544</td>\n",
       "    </tr>\n",
       "    <tr>\n",
       "      <th>petal_length</th>\n",
       "      <td>NaN</td>\n",
       "      <td>NaN</td>\n",
       "      <td>NaN</td>\n",
       "      <td>0.962757</td>\n",
       "    </tr>\n",
       "    <tr>\n",
       "      <th>petal_width</th>\n",
       "      <td>NaN</td>\n",
       "      <td>NaN</td>\n",
       "      <td>NaN</td>\n",
       "      <td>NaN</td>\n",
       "    </tr>\n",
       "  </tbody>\n",
       "</table>\n",
       "</div>"
      ],
      "text/plain": [
       "              sepal_length  sepal_width  petal_length  petal_width\n",
       "sepal_length           NaN    -0.109369      0.871754     0.817954\n",
       "sepal_width            NaN          NaN     -0.420516    -0.356544\n",
       "petal_length           NaN          NaN           NaN     0.962757\n",
       "petal_width            NaN          NaN           NaN          NaN"
      ]
     },
     "execution_count": 33,
     "metadata": {},
     "output_type": "execute_result"
    }
   ],
   "source": [
    "# Create an upper triangle matrix with np.triu\n",
    "upper_triangle_martix = cor_matrix.where(np.triu(np.ones(cor_matrix.shape),k=1).astype(np.bool))\n",
    "upper_triangle_martix"
   ]
  },
  {
   "cell_type": "code",
   "execution_count": 34,
   "metadata": {},
   "outputs": [
    {
     "data": {
      "image/png": "[encoded data removed]",
      "text/plain": [
       "<Figure size 1440x720 with 2 Axes>"
      ]
     },
     "metadata": {},
     "output_type": "display_data"
    }
   ],
   "source": [
    "plt.rcParams['axes.labelsize'] = 20\n",
    "sns.set(font_scale = 2)\n",
    "plt.rcParams['font.size'] = 20\n",
    "sns.heatmap(upper_triangle_martix, annot=True, fmt=\".4f\", linewidths=.5,cmap='Greens')\n",
    "plt.show()"
   ]
  },
  {
   "cell_type": "code",
   "execution_count": 35,
   "metadata": {},
   "outputs": [
    {
     "data": {
      "text/plain": [
       "['petal_width']"
      ]
     },
     "execution_count": 35,
     "metadata": {},
     "output_type": "execute_result"
    }
   ],
   "source": [
    "correlated_features=[column for column in upper_triangle_martix.columns if any(upper_triangle_martix[column] > 0.90)]\n",
    "correlated_features"
   ]
  },
  {
   "cell_type": "code",
   "execution_count": 36,
   "metadata": {},
   "outputs": [
    {
     "data": {
      "text/html": [
       "<div>\n",
       "<style scoped>\n",
       "    .dataframe tbody tr th:only-of-type {\n",
       "        vertical-align: middle;\n",
       "    }\n",
       "\n",
       "    .dataframe tbody tr th {\n",
       "        vertical-align: top;\n",
       "    }\n",
       "\n",
       "    .dataframe thead th {\n",
       "        text-align: right;\n",
       "    }\n",
       "</style>\n",
       "<table border=\"1\" class=\"dataframe\">\n",
       "  <thead>\n",
       "    <tr style=\"text-align: right;\">\n",
       "      <th></th>\n",
       "      <th>sepal_length</th>\n",
       "      <th>sepal_width</th>\n",
       "      <th>petal_length</th>\n",
       "    </tr>\n",
       "  </thead>\n",
       "  <tbody>\n",
       "    <tr>\n",
       "      <th>0</th>\n",
       "      <td>5.1</td>\n",
       "      <td>3.5</td>\n",
       "      <td>1.4</td>\n",
       "    </tr>\n",
       "    <tr>\n",
       "      <th>1</th>\n",
       "      <td>4.9</td>\n",
       "      <td>3.0</td>\n",
       "      <td>1.4</td>\n",
       "    </tr>\n",
       "    <tr>\n",
       "      <th>2</th>\n",
       "      <td>4.7</td>\n",
       "      <td>3.2</td>\n",
       "      <td>1.3</td>\n",
       "    </tr>\n",
       "    <tr>\n",
       "      <th>3</th>\n",
       "      <td>4.6</td>\n",
       "      <td>3.1</td>\n",
       "      <td>1.5</td>\n",
       "    </tr>\n",
       "    <tr>\n",
       "      <th>4</th>\n",
       "      <td>5.0</td>\n",
       "      <td>3.6</td>\n",
       "      <td>1.4</td>\n",
       "    </tr>\n",
       "  </tbody>\n",
       "</table>\n",
       "</div>"
      ],
      "text/plain": [
       "   sepal_length  sepal_width  petal_length\n",
       "0           5.1          3.5           1.4\n",
       "1           4.9          3.0           1.4\n",
       "2           4.7          3.2           1.3\n",
       "3           4.6          3.1           1.5\n",
       "4           5.0          3.6           1.4"
      ]
     },
     "execution_count": 36,
     "metadata": {},
     "output_type": "execute_result"
    }
   ],
   "source": [
    "remove_correlated_features=features.drop(correlated_features,axis=1)\n",
    "remove_correlated_features.head()"
   ]
  },
  {
   "cell_type": "code",
   "execution_count": 37,
   "metadata": {},
   "outputs": [
    {
     "data": {
      "text/html": [
       "<style  type=\"text/css\" >\n",
       "</style><table id=\"T_03c6cb52_800c_11ec_a080_f875a417a9fc\" style='display:inline'><caption>Original Data</caption><thead>    <tr>        <th class=\"blank level0\" ></th>        <th class=\"col_heading level0 col0\" >sepal_length</th>        <th class=\"col_heading level0 col1\" >sepal_width</th>        <th class=\"col_heading level0 col2\" >petal_length</th>        <th class=\"col_heading level0 col3\" >petal_width</th>    </tr></thead><tbody>\n",
       "                <tr>\n",
       "                        <th id=\"T_03c6cb52_800c_11ec_a080_f875a417a9fclevel0_row0\" class=\"row_heading level0 row0\" >0</th>\n",
       "                        <td id=\"T_03c6cb52_800c_11ec_a080_f875a417a9fcrow0_col0\" class=\"data row0 col0\" >5.100000</td>\n",
       "                        <td id=\"T_03c6cb52_800c_11ec_a080_f875a417a9fcrow0_col1\" class=\"data row0 col1\" >3.500000</td>\n",
       "                        <td id=\"T_03c6cb52_800c_11ec_a080_f875a417a9fcrow0_col2\" class=\"data row0 col2\" >1.400000</td>\n",
       "                        <td id=\"T_03c6cb52_800c_11ec_a080_f875a417a9fcrow0_col3\" class=\"data row0 col3\" >0.200000</td>\n",
       "            </tr>\n",
       "            <tr>\n",
       "                        <th id=\"T_03c6cb52_800c_11ec_a080_f875a417a9fclevel0_row1\" class=\"row_heading level0 row1\" >1</th>\n",
       "                        <td id=\"T_03c6cb52_800c_11ec_a080_f875a417a9fcrow1_col0\" class=\"data row1 col0\" >4.900000</td>\n",
       "                        <td id=\"T_03c6cb52_800c_11ec_a080_f875a417a9fcrow1_col1\" class=\"data row1 col1\" >3.000000</td>\n",
       "                        <td id=\"T_03c6cb52_800c_11ec_a080_f875a417a9fcrow1_col2\" class=\"data row1 col2\" >1.400000</td>\n",
       "                        <td id=\"T_03c6cb52_800c_11ec_a080_f875a417a9fcrow1_col3\" class=\"data row1 col3\" >0.200000</td>\n",
       "            </tr>\n",
       "            <tr>\n",
       "                        <th id=\"T_03c6cb52_800c_11ec_a080_f875a417a9fclevel0_row2\" class=\"row_heading level0 row2\" >2</th>\n",
       "                        <td id=\"T_03c6cb52_800c_11ec_a080_f875a417a9fcrow2_col0\" class=\"data row2 col0\" >4.700000</td>\n",
       "                        <td id=\"T_03c6cb52_800c_11ec_a080_f875a417a9fcrow2_col1\" class=\"data row2 col1\" >3.200000</td>\n",
       "                        <td id=\"T_03c6cb52_800c_11ec_a080_f875a417a9fcrow2_col2\" class=\"data row2 col2\" >1.300000</td>\n",
       "                        <td id=\"T_03c6cb52_800c_11ec_a080_f875a417a9fcrow2_col3\" class=\"data row2 col3\" >0.200000</td>\n",
       "            </tr>\n",
       "            <tr>\n",
       "                        <th id=\"T_03c6cb52_800c_11ec_a080_f875a417a9fclevel0_row3\" class=\"row_heading level0 row3\" >3</th>\n",
       "                        <td id=\"T_03c6cb52_800c_11ec_a080_f875a417a9fcrow3_col0\" class=\"data row3 col0\" >4.600000</td>\n",
       "                        <td id=\"T_03c6cb52_800c_11ec_a080_f875a417a9fcrow3_col1\" class=\"data row3 col1\" >3.100000</td>\n",
       "                        <td id=\"T_03c6cb52_800c_11ec_a080_f875a417a9fcrow3_col2\" class=\"data row3 col2\" >1.500000</td>\n",
       "                        <td id=\"T_03c6cb52_800c_11ec_a080_f875a417a9fcrow3_col3\" class=\"data row3 col3\" >0.200000</td>\n",
       "            </tr>\n",
       "            <tr>\n",
       "                        <th id=\"T_03c6cb52_800c_11ec_a080_f875a417a9fclevel0_row4\" class=\"row_heading level0 row4\" >4</th>\n",
       "                        <td id=\"T_03c6cb52_800c_11ec_a080_f875a417a9fcrow4_col0\" class=\"data row4 col0\" >5.000000</td>\n",
       "                        <td id=\"T_03c6cb52_800c_11ec_a080_f875a417a9fcrow4_col1\" class=\"data row4 col1\" >3.600000</td>\n",
       "                        <td id=\"T_03c6cb52_800c_11ec_a080_f875a417a9fcrow4_col2\" class=\"data row4 col2\" >1.400000</td>\n",
       "                        <td id=\"T_03c6cb52_800c_11ec_a080_f875a417a9fcrow4_col3\" class=\"data row4 col3\" >0.200000</td>\n",
       "            </tr>\n",
       "    </tbody></table>&nbsp;&nbsp;&nbsp;&nbsp;&nbsp;<style  type=\"text/css\" >\n",
       "</style><table id=\"T_03c80a62_800c_11ec_b9cb_f875a417a9fc\" style='display:inline'><caption>After Removing Correlated Features</caption><thead>    <tr>        <th class=\"blank level0\" ></th>        <th class=\"col_heading level0 col0\" >sepal_length</th>        <th class=\"col_heading level0 col1\" >sepal_width</th>        <th class=\"col_heading level0 col2\" >petal_length</th>    </tr></thead><tbody>\n",
       "                <tr>\n",
       "                        <th id=\"T_03c80a62_800c_11ec_b9cb_f875a417a9fclevel0_row0\" class=\"row_heading level0 row0\" >0</th>\n",
       "                        <td id=\"T_03c80a62_800c_11ec_b9cb_f875a417a9fcrow0_col0\" class=\"data row0 col0\" >5.100000</td>\n",
       "                        <td id=\"T_03c80a62_800c_11ec_b9cb_f875a417a9fcrow0_col1\" class=\"data row0 col1\" >3.500000</td>\n",
       "                        <td id=\"T_03c80a62_800c_11ec_b9cb_f875a417a9fcrow0_col2\" class=\"data row0 col2\" >1.400000</td>\n",
       "            </tr>\n",
       "            <tr>\n",
       "                        <th id=\"T_03c80a62_800c_11ec_b9cb_f875a417a9fclevel0_row1\" class=\"row_heading level0 row1\" >1</th>\n",
       "                        <td id=\"T_03c80a62_800c_11ec_b9cb_f875a417a9fcrow1_col0\" class=\"data row1 col0\" >4.900000</td>\n",
       "                        <td id=\"T_03c80a62_800c_11ec_b9cb_f875a417a9fcrow1_col1\" class=\"data row1 col1\" >3.000000</td>\n",
       "                        <td id=\"T_03c80a62_800c_11ec_b9cb_f875a417a9fcrow1_col2\" class=\"data row1 col2\" >1.400000</td>\n",
       "            </tr>\n",
       "            <tr>\n",
       "                        <th id=\"T_03c80a62_800c_11ec_b9cb_f875a417a9fclevel0_row2\" class=\"row_heading level0 row2\" >2</th>\n",
       "                        <td id=\"T_03c80a62_800c_11ec_b9cb_f875a417a9fcrow2_col0\" class=\"data row2 col0\" >4.700000</td>\n",
       "                        <td id=\"T_03c80a62_800c_11ec_b9cb_f875a417a9fcrow2_col1\" class=\"data row2 col1\" >3.200000</td>\n",
       "                        <td id=\"T_03c80a62_800c_11ec_b9cb_f875a417a9fcrow2_col2\" class=\"data row2 col2\" >1.300000</td>\n",
       "            </tr>\n",
       "            <tr>\n",
       "                        <th id=\"T_03c80a62_800c_11ec_b9cb_f875a417a9fclevel0_row3\" class=\"row_heading level0 row3\" >3</th>\n",
       "                        <td id=\"T_03c80a62_800c_11ec_b9cb_f875a417a9fcrow3_col0\" class=\"data row3 col0\" >4.600000</td>\n",
       "                        <td id=\"T_03c80a62_800c_11ec_b9cb_f875a417a9fcrow3_col1\" class=\"data row3 col1\" >3.100000</td>\n",
       "                        <td id=\"T_03c80a62_800c_11ec_b9cb_f875a417a9fcrow3_col2\" class=\"data row3 col2\" >1.500000</td>\n",
       "            </tr>\n",
       "            <tr>\n",
       "                        <th id=\"T_03c80a62_800c_11ec_b9cb_f875a417a9fclevel0_row4\" class=\"row_heading level0 row4\" >4</th>\n",
       "                        <td id=\"T_03c80a62_800c_11ec_b9cb_f875a417a9fcrow4_col0\" class=\"data row4 col0\" >5.000000</td>\n",
       "                        <td id=\"T_03c80a62_800c_11ec_b9cb_f875a417a9fcrow4_col1\" class=\"data row4 col1\" >3.600000</td>\n",
       "                        <td id=\"T_03c80a62_800c_11ec_b9cb_f875a417a9fcrow4_col2\" class=\"data row4 col2\" >1.400000</td>\n",
       "            </tr>\n",
       "    </tbody></table>"
      ]
     },
     "metadata": {},
     "output_type": "display_data"
    }
   ],
   "source": [
    "# Display the two dataframes side by side\n",
    "iris_df = features.head().style.set_table_attributes(\"style='display:inline'\").set_caption('Original Data')\n",
    "uncorrelated_df = remove_correlated_features.head().style.set_table_attributes(\"style='display:inline'\").set_caption('After Removing Correlated Features')\n",
    "\n",
    "display_html(iris_df._repr_html_()+\"&nbsp;&nbsp;&nbsp;&nbsp;&nbsp;\"+uncorrelated_df._repr_html_(), raw=True)"
   ]
  },
  {
   "cell_type": "markdown",
   "metadata": {},
   "source": [
    "#### 7. t-Distributed Stochastic Neighbor Embedding (t-SNE)"
   ]
  },
  {
   "cell_type": "code",
   "execution_count": 38,
   "metadata": {},
   "outputs": [],
   "source": [
    "from sklearn.manifold import TSNE"
   ]
  },
  {
   "cell_type": "code",
   "execution_count": 39,
   "metadata": {},
   "outputs": [
    {
     "data": {
      "text/html": [
       "<div>\n",
       "<style scoped>\n",
       "    .dataframe tbody tr th:only-of-type {\n",
       "        vertical-align: middle;\n",
       "    }\n",
       "\n",
       "    .dataframe tbody tr th {\n",
       "        vertical-align: top;\n",
       "    }\n",
       "\n",
       "    .dataframe thead th {\n",
       "        text-align: right;\n",
       "    }\n",
       "</style>\n",
       "<table border=\"1\" class=\"dataframe\">\n",
       "  <thead>\n",
       "    <tr style=\"text-align: right;\">\n",
       "      <th></th>\n",
       "      <th>Component 1</th>\n",
       "      <th>Component 2</th>\n",
       "      <th>class</th>\n",
       "    </tr>\n",
       "  </thead>\n",
       "  <tbody>\n",
       "    <tr>\n",
       "      <th>0</th>\n",
       "      <td>-13.393528</td>\n",
       "      <td>-10.616657</td>\n",
       "      <td>Iris-setosa</td>\n",
       "    </tr>\n",
       "    <tr>\n",
       "      <th>1</th>\n",
       "      <td>-9.864830</td>\n",
       "      <td>-12.134668</td>\n",
       "      <td>Iris-setosa</td>\n",
       "    </tr>\n",
       "    <tr>\n",
       "      <th>2</th>\n",
       "      <td>-10.778847</td>\n",
       "      <td>-11.105656</td>\n",
       "      <td>Iris-setosa</td>\n",
       "    </tr>\n",
       "    <tr>\n",
       "      <th>3</th>\n",
       "      <td>-10.024701</td>\n",
       "      <td>-11.151320</td>\n",
       "      <td>Iris-setosa</td>\n",
       "    </tr>\n",
       "    <tr>\n",
       "      <th>4</th>\n",
       "      <td>-14.010548</td>\n",
       "      <td>-10.978813</td>\n",
       "      <td>Iris-setosa</td>\n",
       "    </tr>\n",
       "  </tbody>\n",
       "</table>\n",
       "</div>"
      ],
      "text/plain": [
       "   Component 1  Component 2        class\n",
       "0   -13.393528   -10.616657  Iris-setosa\n",
       "1    -9.864830   -12.134668  Iris-setosa\n",
       "2   -10.778847   -11.105656  Iris-setosa\n",
       "3   -10.024701   -11.151320  Iris-setosa\n",
       "4   -14.010548   -10.978813  Iris-setosa"
      ]
     },
     "execution_count": 39,
     "metadata": {},
     "output_type": "execute_result"
    }
   ],
   "source": [
    "tsne=TSNE(n_components=2,init='random',random_state=0)\n",
    "tsne_fit=tsne.fit_transform(X_scaled)\n",
    "tsne_df=pd.DataFrame(tsne_fit,columns=['Component 1','Component 2'])\n",
    "tsne_df=pd.concat([tsne_df,y],axis=1)\n",
    "tsne_df.head()"
   ]
  },
  {
   "cell_type": "markdown",
   "metadata": {},
   "source": [
    "Visualize tsne"
   ]
  },
  {
   "cell_type": "code",
   "execution_count": 40,
   "metadata": {},
   "outputs": [
    {
     "data": {
      "image/png": "[encoded data removed]",
      "text/plain": [
       "<Figure size 1440x720 with 1 Axes>"
      ]
     },
     "metadata": {},
     "output_type": "display_data"
    }
   ],
   "source": [
    "plt.rcParams['axes.labelsize'] = 20\n",
    "sns.set(font_scale = 2)\n",
    "sns.scatterplot(x=\"Component 1\", y=\"Component 2\", sizes=(1, 8), linewidth=0,data=tsne_df,hue='class')\n",
    "plt.show()"
   ]
  },
  {
   "cell_type": "markdown",
   "metadata": {},
   "source": [
    "# 2. Feature Selection"
   ]
  },
  {
   "cell_type": "markdown",
   "metadata": {},
   "source": [
    "## 1. Univariate Feature Selection"
   ]
  },
  {
   "cell_type": "markdown",
   "metadata": {},
   "source": [
    "i. Univariate Feature Selection using SelectKBest<br />\n",
    "We use chi2 as our score function because the input features are non-negative and the output is categorical. For categorical output variable we use f_classif scoring function. For numerical output variable we use r_regression scoring function."
   ]
  },
  {
   "cell_type": "code",
   "execution_count": 41,
   "metadata": {},
   "outputs": [],
   "source": [
    "from sklearn.feature_selection import SelectKBest,chi2"
   ]
  },
  {
   "cell_type": "code",
   "execution_count": 42,
   "metadata": {},
   "outputs": [
    {
     "data": {
      "text/html": [
       "<div>\n",
       "<style scoped>\n",
       "    .dataframe tbody tr th:only-of-type {\n",
       "        vertical-align: middle;\n",
       "    }\n",
       "\n",
       "    .dataframe tbody tr th {\n",
       "        vertical-align: top;\n",
       "    }\n",
       "\n",
       "    .dataframe thead th {\n",
       "        text-align: right;\n",
       "    }\n",
       "</style>\n",
       "<table border=\"1\" class=\"dataframe\">\n",
       "  <thead>\n",
       "    <tr style=\"text-align: right;\">\n",
       "      <th></th>\n",
       "      <th>Score</th>\n",
       "    </tr>\n",
       "  </thead>\n",
       "  <tbody>\n",
       "    <tr>\n",
       "      <th>petal_length</th>\n",
       "      <td>116.169847</td>\n",
       "    </tr>\n",
       "    <tr>\n",
       "      <th>petal_width</th>\n",
       "      <td>67.244828</td>\n",
       "    </tr>\n",
       "    <tr>\n",
       "      <th>sepal_length</th>\n",
       "      <td>10.817821</td>\n",
       "    </tr>\n",
       "    <tr>\n",
       "      <th>sepal_width</th>\n",
       "      <td>3.594499</td>\n",
       "    </tr>\n",
       "  </tbody>\n",
       "</table>\n",
       "</div>"
      ],
      "text/plain": [
       "                   Score\n",
       "petal_length  116.169847\n",
       "petal_width    67.244828\n",
       "sepal_length   10.817821\n",
       "sepal_width     3.594499"
      ]
     },
     "execution_count": 42,
     "metadata": {},
     "output_type": "execute_result"
    }
   ],
   "source": [
    "select_k_best=SelectKBest(chi2,k=3)\n",
    "select_k_best_fit=select_k_best.fit(features,y)\n",
    "k_best=pd.DataFrame(select_k_best_fit.scores_,columns=['Score'],index=features.columns).sort_values(by='Score',ascending=False)\n",
    "k_best"
   ]
  },
  {
   "cell_type": "markdown",
   "metadata": {},
   "source": [
    "Visualize k best features"
   ]
  },
  {
   "cell_type": "code",
   "execution_count": 43,
   "metadata": {},
   "outputs": [
    {
     "data": {
      "image/png": "[encoded data removed]",
      "text/plain": [
       "<Figure size 1440x720 with 1 Axes>"
      ]
     },
     "metadata": {},
     "output_type": "display_data"
    }
   ],
   "source": [
    "sns.barplot(y=k_best.index, x=k_best.Score)\n",
    "plt.xlabel('Feature Score')\n",
    "plt.ylabel('Features')\n",
    "plt.title(\"Visualizing Best Features\")\n",
    "plt.show()"
   ]
  },
  {
   "cell_type": "markdown",
   "metadata": {},
   "source": [
    "Select 3 best features"
   ]
  },
  {
   "cell_type": "code",
   "execution_count": 44,
   "metadata": {},
   "outputs": [
    {
     "name": "stdout",
     "output_type": "stream",
     "text": [
      "                   Score\n",
      "petal_length  116.169847\n",
      "petal_width    67.244828\n",
      "sepal_length   10.817821\n"
     ]
    }
   ],
   "source": [
    "print(k_best.nlargest(3,'Score'))"
   ]
  },
  {
   "cell_type": "markdown",
   "metadata": {},
   "source": [
    "ii. Univariate Feature Selection using SelectPercentile<br />\n",
    "We use chi2 as our score function because the input features are non-negative and the output is categorical. For categorical output variable we use f_classif scoring function. For numerical output variable we use r_regression scoring function."
   ]
  },
  {
   "cell_type": "code",
   "execution_count": 45,
   "metadata": {},
   "outputs": [],
   "source": [
    "from sklearn.feature_selection import SelectPercentile, chi2"
   ]
  },
  {
   "cell_type": "code",
   "execution_count": 46,
   "metadata": {},
   "outputs": [
    {
     "data": {
      "text/html": [
       "<div>\n",
       "<style scoped>\n",
       "    .dataframe tbody tr th:only-of-type {\n",
       "        vertical-align: middle;\n",
       "    }\n",
       "\n",
       "    .dataframe tbody tr th {\n",
       "        vertical-align: top;\n",
       "    }\n",
       "\n",
       "    .dataframe thead th {\n",
       "        text-align: right;\n",
       "    }\n",
       "</style>\n",
       "<table border=\"1\" class=\"dataframe\">\n",
       "  <thead>\n",
       "    <tr style=\"text-align: right;\">\n",
       "      <th></th>\n",
       "      <th>Score</th>\n",
       "    </tr>\n",
       "  </thead>\n",
       "  <tbody>\n",
       "    <tr>\n",
       "      <th>petal_length</th>\n",
       "      <td>116.169847</td>\n",
       "    </tr>\n",
       "    <tr>\n",
       "      <th>petal_width</th>\n",
       "      <td>67.244828</td>\n",
       "    </tr>\n",
       "    <tr>\n",
       "      <th>sepal_length</th>\n",
       "      <td>10.817821</td>\n",
       "    </tr>\n",
       "    <tr>\n",
       "      <th>sepal_width</th>\n",
       "      <td>3.594499</td>\n",
       "    </tr>\n",
       "  </tbody>\n",
       "</table>\n",
       "</div>"
      ],
      "text/plain": [
       "                   Score\n",
       "petal_length  116.169847\n",
       "petal_width    67.244828\n",
       "sepal_length   10.817821\n",
       "sepal_width     3.594499"
      ]
     },
     "execution_count": 46,
     "metadata": {},
     "output_type": "execute_result"
    }
   ],
   "source": [
    "select_p_best=SelectPercentile(chi2,percentile=10)\n",
    "select_p_best_fit=select_p_best.fit(features,y)\n",
    "p_best=pd.DataFrame(select_p_best_fit.scores_,columns=['Score'],index=features.columns).sort_values(by='Score',ascending=False)\n",
    "p_best"
   ]
  },
  {
   "cell_type": "markdown",
   "metadata": {},
   "source": [
    "Select best 3 features"
   ]
  },
  {
   "cell_type": "code",
   "execution_count": 47,
   "metadata": {},
   "outputs": [
    {
     "name": "stdout",
     "output_type": "stream",
     "text": [
      "petal_length    116.169847\n",
      "petal_width      67.244828\n",
      "sepal_length     10.817821\n",
      "Name: Score, dtype: float64\n"
     ]
    }
   ],
   "source": [
    "print(p_best['Score'].nlargest(3))"
   ]
  },
  {
   "cell_type": "markdown",
   "metadata": {},
   "source": [
    "## 2. Feature importance with Random Forest"
   ]
  },
  {
   "cell_type": "code",
   "execution_count": 48,
   "metadata": {},
   "outputs": [],
   "source": [
    "from sklearn.ensemble import RandomForestClassifier"
   ]
  },
  {
   "cell_type": "code",
   "execution_count": 49,
   "metadata": {},
   "outputs": [
    {
     "data": {
      "text/html": [
       "<div>\n",
       "<style scoped>\n",
       "    .dataframe tbody tr th:only-of-type {\n",
       "        vertical-align: middle;\n",
       "    }\n",
       "\n",
       "    .dataframe tbody tr th {\n",
       "        vertical-align: top;\n",
       "    }\n",
       "\n",
       "    .dataframe thead th {\n",
       "        text-align: right;\n",
       "    }\n",
       "</style>\n",
       "<table border=\"1\" class=\"dataframe\">\n",
       "  <thead>\n",
       "    <tr style=\"text-align: right;\">\n",
       "      <th></th>\n",
       "      <th>Score</th>\n",
       "    </tr>\n",
       "  </thead>\n",
       "  <tbody>\n",
       "    <tr>\n",
       "      <th>petal_width</th>\n",
       "      <td>0.469050</td>\n",
       "    </tr>\n",
       "    <tr>\n",
       "      <th>petal_length</th>\n",
       "      <td>0.417185</td>\n",
       "    </tr>\n",
       "    <tr>\n",
       "      <th>sepal_length</th>\n",
       "      <td>0.093986</td>\n",
       "    </tr>\n",
       "    <tr>\n",
       "      <th>sepal_width</th>\n",
       "      <td>0.019779</td>\n",
       "    </tr>\n",
       "  </tbody>\n",
       "</table>\n",
       "</div>"
      ],
      "text/plain": [
       "                 Score\n",
       "petal_width   0.469050\n",
       "petal_length  0.417185\n",
       "sepal_length  0.093986\n",
       "sepal_width   0.019779"
      ]
     },
     "execution_count": 49,
     "metadata": {},
     "output_type": "execute_result"
    }
   ],
   "source": [
    "rf_clf=RandomForestClassifier(n_estimators=100)\n",
    "rf_clf.fit(X_scaled,y) # train the model\n",
    "\n",
    "feature_imp = pd.DataFrame(rf_clf.feature_importances_,columns=['Score'],index=features.columns).sort_values(by='Score',ascending=False)\n",
    "feature_imp"
   ]
  },
  {
   "cell_type": "markdown",
   "metadata": {},
   "source": [
    "Visualize Feature importance"
   ]
  },
  {
   "cell_type": "code",
   "execution_count": 50,
   "metadata": {},
   "outputs": [
    {
     "data": {
      "image/png": "[encoded data removed]",
      "text/plain": [
       "<Figure size 1440x720 with 1 Axes>"
      ]
     },
     "metadata": {},
     "output_type": "display_data"
    }
   ],
   "source": [
    "sns.barplot(y=feature_imp.index, x=feature_imp['Score'])\n",
    "plt.xlabel('Feature Importance Score')\n",
    "plt.ylabel('Features')\n",
    "plt.title(\"Visualizing Important Features\")\n",
    "plt.show()"
   ]
  },
  {
   "cell_type": "markdown",
   "metadata": {},
   "source": [
    "Select 3 best features"
   ]
  },
  {
   "cell_type": "code",
   "execution_count": 51,
   "metadata": {},
   "outputs": [
    {
     "name": "stdout",
     "output_type": "stream",
     "text": [
      "petal_width     0.469050\n",
      "petal_length    0.417185\n",
      "sepal_length    0.093986\n",
      "Name: Score, dtype: float64\n"
     ]
    }
   ],
   "source": [
    "print(feature_imp['Score'].nlargest(3))"
   ]
  },
  {
   "cell_type": "markdown",
   "metadata": {},
   "source": [
    "## 3. Low Variance Filter"
   ]
  },
  {
   "cell_type": "markdown",
   "metadata": {},
   "source": [
    "1. Low Variance filter using sklearn VarianceThreshold"
   ]
  },
  {
   "cell_type": "code",
   "execution_count": 52,
   "metadata": {},
   "outputs": [],
   "source": [
    "from sklearn.feature_selection import VarianceThreshold"
   ]
  },
  {
   "cell_type": "code",
   "execution_count": 53,
   "metadata": {},
   "outputs": [],
   "source": [
    "threshold_value=0.5\n",
    "vt=VarianceThreshold(threshold=threshold_value)   \n",
    "vt_fit=vt.fit_transform(features)"
   ]
  },
  {
   "cell_type": "markdown",
   "metadata": {},
   "source": [
    "Get variance for each feature"
   ]
  },
  {
   "cell_type": "code",
   "execution_count": 54,
   "metadata": {},
   "outputs": [
    {
     "name": "stdout",
     "output_type": "stream",
     "text": [
      "[0.68112222 0.18675067 3.09242489 0.57853156]\n"
     ]
    }
   ],
   "source": [
    "print(vt.variances_) # actual variance values"
   ]
  },
  {
   "cell_type": "markdown",
   "metadata": {},
   "source": [
    "i. Get features with high variance"
   ]
  },
  {
   "cell_type": "code",
   "execution_count": 55,
   "metadata": {},
   "outputs": [
    {
     "data": {
      "text/html": [
       "<div>\n",
       "<style scoped>\n",
       "    .dataframe tbody tr th:only-of-type {\n",
       "        vertical-align: middle;\n",
       "    }\n",
       "\n",
       "    .dataframe tbody tr th {\n",
       "        vertical-align: top;\n",
       "    }\n",
       "\n",
       "    .dataframe thead th {\n",
       "        text-align: right;\n",
       "    }\n",
       "</style>\n",
       "<table border=\"1\" class=\"dataframe\">\n",
       "  <thead>\n",
       "    <tr style=\"text-align: right;\">\n",
       "      <th></th>\n",
       "      <th>Score</th>\n",
       "    </tr>\n",
       "  </thead>\n",
       "  <tbody>\n",
       "    <tr>\n",
       "      <th>petal_length</th>\n",
       "      <td>3.092425</td>\n",
       "    </tr>\n",
       "    <tr>\n",
       "      <th>sepal_length</th>\n",
       "      <td>0.681122</td>\n",
       "    </tr>\n",
       "    <tr>\n",
       "      <th>petal_width</th>\n",
       "      <td>0.578532</td>\n",
       "    </tr>\n",
       "    <tr>\n",
       "      <th>sepal_width</th>\n",
       "      <td>0.186751</td>\n",
       "    </tr>\n",
       "  </tbody>\n",
       "</table>\n",
       "</div>"
      ],
      "text/plain": [
       "                 Score\n",
       "petal_length  3.092425\n",
       "sepal_length  0.681122\n",
       "petal_width   0.578532\n",
       "sepal_width   0.186751"
      ]
     },
     "execution_count": 55,
     "metadata": {},
     "output_type": "execute_result"
    }
   ],
   "source": [
    "feature_variance=pd.DataFrame(vt.variances_,columns=['Score'],index=features.columns).sort_values(by='Score',ascending=False)\n",
    "feature_variance"
   ]
  },
  {
   "cell_type": "markdown",
   "metadata": {},
   "source": [
    "Visualize Feature Variance"
   ]
  },
  {
   "cell_type": "code",
   "execution_count": 56,
   "metadata": {},
   "outputs": [
    {
     "data": {
      "image/png": "[encoded data removed]",
      "text/plain": [
       "<Figure size 1440x720 with 1 Axes>"
      ]
     },
     "metadata": {},
     "output_type": "display_data"
    }
   ],
   "source": [
    "sns.barplot(y=feature_variance.index, x=feature_variance['Score'])\n",
    "plt.xlabel('Feature Variance')\n",
    "plt.ylabel('Features')\n",
    "plt.title(\"Visualizing Feature Variance\")\n",
    "plt.show()"
   ]
  },
  {
   "cell_type": "code",
   "execution_count": 57,
   "metadata": {},
   "outputs": [
    {
     "name": "stdout",
     "output_type": "stream",
     "text": [
      "petal_length    3.092425\n",
      "sepal_length    0.681122\n",
      "petal_width     0.578532\n",
      "Name: Score, dtype: float64\n"
     ]
    }
   ],
   "source": [
    "print(feature_variance['Score'].nlargest(3))"
   ]
  },
  {
   "cell_type": "markdown",
   "metadata": {},
   "source": [
    "ii. Get columns with low variance based on 0.05 threshold i.e value with similarity of 50%"
   ]
  },
  {
   "cell_type": "code",
   "execution_count": 58,
   "metadata": {},
   "outputs": [
    {
     "name": "stdout",
     "output_type": "stream",
     "text": [
      "[0.68112222 0.18675067 3.09242489 0.57853156]\n",
      "[ True False  True  True]\n"
     ]
    },
    {
     "data": {
      "text/plain": [
       "['sepal_width']"
      ]
     },
     "execution_count": 58,
     "metadata": {},
     "output_type": "execute_result"
    }
   ],
   "source": [
    "print(vt.variances_) # actual variance values\n",
    "print(vt.get_support()) # True has high variance False has low variance than the threshold\n",
    "\n",
    "low_var_=[column for column in features.columns if column not in features.columns[vt.get_support()]]\n",
    "low_var_"
   ]
  },
  {
   "cell_type": "code",
   "execution_count": 59,
   "metadata": {},
   "outputs": [
    {
     "data": {
      "text/html": [
       "<style  type=\"text/css\" >\n",
       "</style><table id=\"T_073a0ba6_800c_11ec_a3c7_f875a417a9fc\" style='display:inline'><caption>Original Data</caption><thead>    <tr>        <th class=\"blank level0\" ></th>        <th class=\"col_heading level0 col0\" >sepal_length</th>        <th class=\"col_heading level0 col1\" >sepal_width</th>        <th class=\"col_heading level0 col2\" >petal_length</th>        <th class=\"col_heading level0 col3\" >petal_width</th>    </tr></thead><tbody>\n",
       "                <tr>\n",
       "                        <th id=\"T_073a0ba6_800c_11ec_a3c7_f875a417a9fclevel0_row0\" class=\"row_heading level0 row0\" >0</th>\n",
       "                        <td id=\"T_073a0ba6_800c_11ec_a3c7_f875a417a9fcrow0_col0\" class=\"data row0 col0\" >5.100000</td>\n",
       "                        <td id=\"T_073a0ba6_800c_11ec_a3c7_f875a417a9fcrow0_col1\" class=\"data row0 col1\" >3.500000</td>\n",
       "                        <td id=\"T_073a0ba6_800c_11ec_a3c7_f875a417a9fcrow0_col2\" class=\"data row0 col2\" >1.400000</td>\n",
       "                        <td id=\"T_073a0ba6_800c_11ec_a3c7_f875a417a9fcrow0_col3\" class=\"data row0 col3\" >0.200000</td>\n",
       "            </tr>\n",
       "            <tr>\n",
       "                        <th id=\"T_073a0ba6_800c_11ec_a3c7_f875a417a9fclevel0_row1\" class=\"row_heading level0 row1\" >1</th>\n",
       "                        <td id=\"T_073a0ba6_800c_11ec_a3c7_f875a417a9fcrow1_col0\" class=\"data row1 col0\" >4.900000</td>\n",
       "                        <td id=\"T_073a0ba6_800c_11ec_a3c7_f875a417a9fcrow1_col1\" class=\"data row1 col1\" >3.000000</td>\n",
       "                        <td id=\"T_073a0ba6_800c_11ec_a3c7_f875a417a9fcrow1_col2\" class=\"data row1 col2\" >1.400000</td>\n",
       "                        <td id=\"T_073a0ba6_800c_11ec_a3c7_f875a417a9fcrow1_col3\" class=\"data row1 col3\" >0.200000</td>\n",
       "            </tr>\n",
       "            <tr>\n",
       "                        <th id=\"T_073a0ba6_800c_11ec_a3c7_f875a417a9fclevel0_row2\" class=\"row_heading level0 row2\" >2</th>\n",
       "                        <td id=\"T_073a0ba6_800c_11ec_a3c7_f875a417a9fcrow2_col0\" class=\"data row2 col0\" >4.700000</td>\n",
       "                        <td id=\"T_073a0ba6_800c_11ec_a3c7_f875a417a9fcrow2_col1\" class=\"data row2 col1\" >3.200000</td>\n",
       "                        <td id=\"T_073a0ba6_800c_11ec_a3c7_f875a417a9fcrow2_col2\" class=\"data row2 col2\" >1.300000</td>\n",
       "                        <td id=\"T_073a0ba6_800c_11ec_a3c7_f875a417a9fcrow2_col3\" class=\"data row2 col3\" >0.200000</td>\n",
       "            </tr>\n",
       "            <tr>\n",
       "                        <th id=\"T_073a0ba6_800c_11ec_a3c7_f875a417a9fclevel0_row3\" class=\"row_heading level0 row3\" >3</th>\n",
       "                        <td id=\"T_073a0ba6_800c_11ec_a3c7_f875a417a9fcrow3_col0\" class=\"data row3 col0\" >4.600000</td>\n",
       "                        <td id=\"T_073a0ba6_800c_11ec_a3c7_f875a417a9fcrow3_col1\" class=\"data row3 col1\" >3.100000</td>\n",
       "                        <td id=\"T_073a0ba6_800c_11ec_a3c7_f875a417a9fcrow3_col2\" class=\"data row3 col2\" >1.500000</td>\n",
       "                        <td id=\"T_073a0ba6_800c_11ec_a3c7_f875a417a9fcrow3_col3\" class=\"data row3 col3\" >0.200000</td>\n",
       "            </tr>\n",
       "            <tr>\n",
       "                        <th id=\"T_073a0ba6_800c_11ec_a3c7_f875a417a9fclevel0_row4\" class=\"row_heading level0 row4\" >4</th>\n",
       "                        <td id=\"T_073a0ba6_800c_11ec_a3c7_f875a417a9fcrow4_col0\" class=\"data row4 col0\" >5.000000</td>\n",
       "                        <td id=\"T_073a0ba6_800c_11ec_a3c7_f875a417a9fcrow4_col1\" class=\"data row4 col1\" >3.600000</td>\n",
       "                        <td id=\"T_073a0ba6_800c_11ec_a3c7_f875a417a9fcrow4_col2\" class=\"data row4 col2\" >1.400000</td>\n",
       "                        <td id=\"T_073a0ba6_800c_11ec_a3c7_f875a417a9fcrow4_col3\" class=\"data row4 col3\" >0.200000</td>\n",
       "            </tr>\n",
       "    </tbody></table>&nbsp;&nbsp;&nbsp;&nbsp;&nbsp;<style  type=\"text/css\" >\n",
       "</style><table id=\"T_073aa7e4_800c_11ec_afa3_f875a417a9fc\" style='display:inline'><caption>After Removing Low Variance Features</caption><thead>    <tr>        <th class=\"blank level0\" ></th>        <th class=\"col_heading level0 col0\" >sepal_length</th>        <th class=\"col_heading level0 col1\" >petal_length</th>        <th class=\"col_heading level0 col2\" >petal_width</th>    </tr></thead><tbody>\n",
       "                <tr>\n",
       "                        <th id=\"T_073aa7e4_800c_11ec_afa3_f875a417a9fclevel0_row0\" class=\"row_heading level0 row0\" >0</th>\n",
       "                        <td id=\"T_073aa7e4_800c_11ec_afa3_f875a417a9fcrow0_col0\" class=\"data row0 col0\" >5.100000</td>\n",
       "                        <td id=\"T_073aa7e4_800c_11ec_afa3_f875a417a9fcrow0_col1\" class=\"data row0 col1\" >1.400000</td>\n",
       "                        <td id=\"T_073aa7e4_800c_11ec_afa3_f875a417a9fcrow0_col2\" class=\"data row0 col2\" >0.200000</td>\n",
       "            </tr>\n",
       "            <tr>\n",
       "                        <th id=\"T_073aa7e4_800c_11ec_afa3_f875a417a9fclevel0_row1\" class=\"row_heading level0 row1\" >1</th>\n",
       "                        <td id=\"T_073aa7e4_800c_11ec_afa3_f875a417a9fcrow1_col0\" class=\"data row1 col0\" >4.900000</td>\n",
       "                        <td id=\"T_073aa7e4_800c_11ec_afa3_f875a417a9fcrow1_col1\" class=\"data row1 col1\" >1.400000</td>\n",
       "                        <td id=\"T_073aa7e4_800c_11ec_afa3_f875a417a9fcrow1_col2\" class=\"data row1 col2\" >0.200000</td>\n",
       "            </tr>\n",
       "            <tr>\n",
       "                        <th id=\"T_073aa7e4_800c_11ec_afa3_f875a417a9fclevel0_row2\" class=\"row_heading level0 row2\" >2</th>\n",
       "                        <td id=\"T_073aa7e4_800c_11ec_afa3_f875a417a9fcrow2_col0\" class=\"data row2 col0\" >4.700000</td>\n",
       "                        <td id=\"T_073aa7e4_800c_11ec_afa3_f875a417a9fcrow2_col1\" class=\"data row2 col1\" >1.300000</td>\n",
       "                        <td id=\"T_073aa7e4_800c_11ec_afa3_f875a417a9fcrow2_col2\" class=\"data row2 col2\" >0.200000</td>\n",
       "            </tr>\n",
       "            <tr>\n",
       "                        <th id=\"T_073aa7e4_800c_11ec_afa3_f875a417a9fclevel0_row3\" class=\"row_heading level0 row3\" >3</th>\n",
       "                        <td id=\"T_073aa7e4_800c_11ec_afa3_f875a417a9fcrow3_col0\" class=\"data row3 col0\" >4.600000</td>\n",
       "                        <td id=\"T_073aa7e4_800c_11ec_afa3_f875a417a9fcrow3_col1\" class=\"data row3 col1\" >1.500000</td>\n",
       "                        <td id=\"T_073aa7e4_800c_11ec_afa3_f875a417a9fcrow3_col2\" class=\"data row3 col2\" >0.200000</td>\n",
       "            </tr>\n",
       "            <tr>\n",
       "                        <th id=\"T_073aa7e4_800c_11ec_afa3_f875a417a9fclevel0_row4\" class=\"row_heading level0 row4\" >4</th>\n",
       "                        <td id=\"T_073aa7e4_800c_11ec_afa3_f875a417a9fcrow4_col0\" class=\"data row4 col0\" >5.000000</td>\n",
       "                        <td id=\"T_073aa7e4_800c_11ec_afa3_f875a417a9fcrow4_col1\" class=\"data row4 col1\" >1.400000</td>\n",
       "                        <td id=\"T_073aa7e4_800c_11ec_afa3_f875a417a9fcrow4_col2\" class=\"data row4 col2\" >0.200000</td>\n",
       "            </tr>\n",
       "    </tbody></table>"
      ]
     },
     "metadata": {},
     "output_type": "display_data"
    }
   ],
   "source": [
    "remove_low_vars_=features.drop(low_var_,axis=1)\n",
    "\n",
    "# Drop features with variance less than 50%\n",
    "iris_df = features.head().style.set_table_attributes(\"style='display:inline'\").set_caption('Original Data')\n",
    "low_vars_df_ = remove_low_vars_.head().style.set_table_attributes(\"style='display:inline'\").set_caption('After Removing Low Variance Features')\n",
    "\n",
    "display_html(iris_df._repr_html_()+\"&nbsp;&nbsp;&nbsp;&nbsp;&nbsp;\"+low_vars_df_._repr_html_(), raw=True)"
   ]
  },
  {
   "cell_type": "markdown",
   "metadata": {},
   "source": [
    "iii. Get Feature Variance from DataFrame"
   ]
  },
  {
   "cell_type": "code",
   "execution_count": 60,
   "metadata": {},
   "outputs": [
    {
     "data": {
      "text/plain": [
       "sepal_length    0.685694\n",
       "sepal_width     0.188004\n",
       "petal_length    3.113179\n",
       "petal_width     0.582414\n",
       "dtype: float64"
      ]
     },
     "execution_count": 60,
     "metadata": {},
     "output_type": "execute_result"
    }
   ],
   "source": [
    "variance=features.var()\n",
    "variance"
   ]
  },
  {
   "cell_type": "code",
   "execution_count": 61,
   "metadata": {},
   "outputs": [
    {
     "data": {
      "text/plain": [
       "['sepal_width']"
      ]
     },
     "execution_count": 61,
     "metadata": {},
     "output_type": "execute_result"
    }
   ],
   "source": [
    "low_var_features = [ ]\n",
    "\n",
    "for i in range(0,len(variance)):\n",
    "    if variance[i]<=0.50: \n",
    "        low_var_features.append(features.columns[i])\n",
    "        \n",
    "low_var_features"
   ]
  },
  {
   "cell_type": "code",
   "execution_count": 62,
   "metadata": {},
   "outputs": [
    {
     "data": {
      "text/html": [
       "<div>\n",
       "<style scoped>\n",
       "    .dataframe tbody tr th:only-of-type {\n",
       "        vertical-align: middle;\n",
       "    }\n",
       "\n",
       "    .dataframe tbody tr th {\n",
       "        vertical-align: top;\n",
       "    }\n",
       "\n",
       "    .dataframe thead th {\n",
       "        text-align: right;\n",
       "    }\n",
       "</style>\n",
       "<table border=\"1\" class=\"dataframe\">\n",
       "  <thead>\n",
       "    <tr style=\"text-align: right;\">\n",
       "      <th></th>\n",
       "      <th>sepal_length</th>\n",
       "      <th>petal_length</th>\n",
       "      <th>petal_width</th>\n",
       "    </tr>\n",
       "  </thead>\n",
       "  <tbody>\n",
       "    <tr>\n",
       "      <th>0</th>\n",
       "      <td>5.1</td>\n",
       "      <td>1.4</td>\n",
       "      <td>0.2</td>\n",
       "    </tr>\n",
       "    <tr>\n",
       "      <th>1</th>\n",
       "      <td>4.9</td>\n",
       "      <td>1.4</td>\n",
       "      <td>0.2</td>\n",
       "    </tr>\n",
       "    <tr>\n",
       "      <th>2</th>\n",
       "      <td>4.7</td>\n",
       "      <td>1.3</td>\n",
       "      <td>0.2</td>\n",
       "    </tr>\n",
       "    <tr>\n",
       "      <th>3</th>\n",
       "      <td>4.6</td>\n",
       "      <td>1.5</td>\n",
       "      <td>0.2</td>\n",
       "    </tr>\n",
       "    <tr>\n",
       "      <th>4</th>\n",
       "      <td>5.0</td>\n",
       "      <td>1.4</td>\n",
       "      <td>0.2</td>\n",
       "    </tr>\n",
       "  </tbody>\n",
       "</table>\n",
       "</div>"
      ],
      "text/plain": [
       "   sepal_length  petal_length  petal_width\n",
       "0           5.1           1.4          0.2\n",
       "1           4.9           1.4          0.2\n",
       "2           4.7           1.3          0.2\n",
       "3           4.6           1.5          0.2\n",
       "4           5.0           1.4          0.2"
      ]
     },
     "execution_count": 62,
     "metadata": {},
     "output_type": "execute_result"
    }
   ],
   "source": [
    "remove_low_var_features=features.drop(low_var_features,axis=1)\n",
    "remove_low_var_features.head()"
   ]
  },
  {
   "cell_type": "code",
   "execution_count": 63,
   "metadata": {},
   "outputs": [
    {
     "data": {
      "text/html": [
       "<style  type=\"text/css\" >\n",
       "</style><table id=\"T_07502bba_800c_11ec_8d42_f875a417a9fc\" style='display:inline'><caption>Original Data</caption><thead>    <tr>        <th class=\"blank level0\" ></th>        <th class=\"col_heading level0 col0\" >sepal_length</th>        <th class=\"col_heading level0 col1\" >sepal_width</th>        <th class=\"col_heading level0 col2\" >petal_length</th>        <th class=\"col_heading level0 col3\" >petal_width</th>    </tr></thead><tbody>\n",
       "                <tr>\n",
       "                        <th id=\"T_07502bba_800c_11ec_8d42_f875a417a9fclevel0_row0\" class=\"row_heading level0 row0\" >0</th>\n",
       "                        <td id=\"T_07502bba_800c_11ec_8d42_f875a417a9fcrow0_col0\" class=\"data row0 col0\" >5.100000</td>\n",
       "                        <td id=\"T_07502bba_800c_11ec_8d42_f875a417a9fcrow0_col1\" class=\"data row0 col1\" >3.500000</td>\n",
       "                        <td id=\"T_07502bba_800c_11ec_8d42_f875a417a9fcrow0_col2\" class=\"data row0 col2\" >1.400000</td>\n",
       "                        <td id=\"T_07502bba_800c_11ec_8d42_f875a417a9fcrow0_col3\" class=\"data row0 col3\" >0.200000</td>\n",
       "            </tr>\n",
       "            <tr>\n",
       "                        <th id=\"T_07502bba_800c_11ec_8d42_f875a417a9fclevel0_row1\" class=\"row_heading level0 row1\" >1</th>\n",
       "                        <td id=\"T_07502bba_800c_11ec_8d42_f875a417a9fcrow1_col0\" class=\"data row1 col0\" >4.900000</td>\n",
       "                        <td id=\"T_07502bba_800c_11ec_8d42_f875a417a9fcrow1_col1\" class=\"data row1 col1\" >3.000000</td>\n",
       "                        <td id=\"T_07502bba_800c_11ec_8d42_f875a417a9fcrow1_col2\" class=\"data row1 col2\" >1.400000</td>\n",
       "                        <td id=\"T_07502bba_800c_11ec_8d42_f875a417a9fcrow1_col3\" class=\"data row1 col3\" >0.200000</td>\n",
       "            </tr>\n",
       "            <tr>\n",
       "                        <th id=\"T_07502bba_800c_11ec_8d42_f875a417a9fclevel0_row2\" class=\"row_heading level0 row2\" >2</th>\n",
       "                        <td id=\"T_07502bba_800c_11ec_8d42_f875a417a9fcrow2_col0\" class=\"data row2 col0\" >4.700000</td>\n",
       "                        <td id=\"T_07502bba_800c_11ec_8d42_f875a417a9fcrow2_col1\" class=\"data row2 col1\" >3.200000</td>\n",
       "                        <td id=\"T_07502bba_800c_11ec_8d42_f875a417a9fcrow2_col2\" class=\"data row2 col2\" >1.300000</td>\n",
       "                        <td id=\"T_07502bba_800c_11ec_8d42_f875a417a9fcrow2_col3\" class=\"data row2 col3\" >0.200000</td>\n",
       "            </tr>\n",
       "            <tr>\n",
       "                        <th id=\"T_07502bba_800c_11ec_8d42_f875a417a9fclevel0_row3\" class=\"row_heading level0 row3\" >3</th>\n",
       "                        <td id=\"T_07502bba_800c_11ec_8d42_f875a417a9fcrow3_col0\" class=\"data row3 col0\" >4.600000</td>\n",
       "                        <td id=\"T_07502bba_800c_11ec_8d42_f875a417a9fcrow3_col1\" class=\"data row3 col1\" >3.100000</td>\n",
       "                        <td id=\"T_07502bba_800c_11ec_8d42_f875a417a9fcrow3_col2\" class=\"data row3 col2\" >1.500000</td>\n",
       "                        <td id=\"T_07502bba_800c_11ec_8d42_f875a417a9fcrow3_col3\" class=\"data row3 col3\" >0.200000</td>\n",
       "            </tr>\n",
       "            <tr>\n",
       "                        <th id=\"T_07502bba_800c_11ec_8d42_f875a417a9fclevel0_row4\" class=\"row_heading level0 row4\" >4</th>\n",
       "                        <td id=\"T_07502bba_800c_11ec_8d42_f875a417a9fcrow4_col0\" class=\"data row4 col0\" >5.000000</td>\n",
       "                        <td id=\"T_07502bba_800c_11ec_8d42_f875a417a9fcrow4_col1\" class=\"data row4 col1\" >3.600000</td>\n",
       "                        <td id=\"T_07502bba_800c_11ec_8d42_f875a417a9fcrow4_col2\" class=\"data row4 col2\" >1.400000</td>\n",
       "                        <td id=\"T_07502bba_800c_11ec_8d42_f875a417a9fcrow4_col3\" class=\"data row4 col3\" >0.200000</td>\n",
       "            </tr>\n",
       "    </tbody></table>&nbsp;&nbsp;&nbsp;&nbsp;&nbsp;<style  type=\"text/css\" >\n",
       "</style><table id=\"T_0750ef74_800c_11ec_a774_f875a417a9fc\" style='display:inline'><caption>After Removing Low Variance Features</caption><thead>    <tr>        <th class=\"blank level0\" ></th>        <th class=\"col_heading level0 col0\" >sepal_length</th>        <th class=\"col_heading level0 col1\" >petal_length</th>        <th class=\"col_heading level0 col2\" >petal_width</th>    </tr></thead><tbody>\n",
       "                <tr>\n",
       "                        <th id=\"T_0750ef74_800c_11ec_a774_f875a417a9fclevel0_row0\" class=\"row_heading level0 row0\" >0</th>\n",
       "                        <td id=\"T_0750ef74_800c_11ec_a774_f875a417a9fcrow0_col0\" class=\"data row0 col0\" >5.100000</td>\n",
       "                        <td id=\"T_0750ef74_800c_11ec_a774_f875a417a9fcrow0_col1\" class=\"data row0 col1\" >1.400000</td>\n",
       "                        <td id=\"T_0750ef74_800c_11ec_a774_f875a417a9fcrow0_col2\" class=\"data row0 col2\" >0.200000</td>\n",
       "            </tr>\n",
       "            <tr>\n",
       "                        <th id=\"T_0750ef74_800c_11ec_a774_f875a417a9fclevel0_row1\" class=\"row_heading level0 row1\" >1</th>\n",
       "                        <td id=\"T_0750ef74_800c_11ec_a774_f875a417a9fcrow1_col0\" class=\"data row1 col0\" >4.900000</td>\n",
       "                        <td id=\"T_0750ef74_800c_11ec_a774_f875a417a9fcrow1_col1\" class=\"data row1 col1\" >1.400000</td>\n",
       "                        <td id=\"T_0750ef74_800c_11ec_a774_f875a417a9fcrow1_col2\" class=\"data row1 col2\" >0.200000</td>\n",
       "            </tr>\n",
       "            <tr>\n",
       "                        <th id=\"T_0750ef74_800c_11ec_a774_f875a417a9fclevel0_row2\" class=\"row_heading level0 row2\" >2</th>\n",
       "                        <td id=\"T_0750ef74_800c_11ec_a774_f875a417a9fcrow2_col0\" class=\"data row2 col0\" >4.700000</td>\n",
       "                        <td id=\"T_0750ef74_800c_11ec_a774_f875a417a9fcrow2_col1\" class=\"data row2 col1\" >1.300000</td>\n",
       "                        <td id=\"T_0750ef74_800c_11ec_a774_f875a417a9fcrow2_col2\" class=\"data row2 col2\" >0.200000</td>\n",
       "            </tr>\n",
       "            <tr>\n",
       "                        <th id=\"T_0750ef74_800c_11ec_a774_f875a417a9fclevel0_row3\" class=\"row_heading level0 row3\" >3</th>\n",
       "                        <td id=\"T_0750ef74_800c_11ec_a774_f875a417a9fcrow3_col0\" class=\"data row3 col0\" >4.600000</td>\n",
       "                        <td id=\"T_0750ef74_800c_11ec_a774_f875a417a9fcrow3_col1\" class=\"data row3 col1\" >1.500000</td>\n",
       "                        <td id=\"T_0750ef74_800c_11ec_a774_f875a417a9fcrow3_col2\" class=\"data row3 col2\" >0.200000</td>\n",
       "            </tr>\n",
       "            <tr>\n",
       "                        <th id=\"T_0750ef74_800c_11ec_a774_f875a417a9fclevel0_row4\" class=\"row_heading level0 row4\" >4</th>\n",
       "                        <td id=\"T_0750ef74_800c_11ec_a774_f875a417a9fcrow4_col0\" class=\"data row4 col0\" >5.000000</td>\n",
       "                        <td id=\"T_0750ef74_800c_11ec_a774_f875a417a9fcrow4_col1\" class=\"data row4 col1\" >1.400000</td>\n",
       "                        <td id=\"T_0750ef74_800c_11ec_a774_f875a417a9fcrow4_col2\" class=\"data row4 col2\" >0.200000</td>\n",
       "            </tr>\n",
       "    </tbody></table>"
      ]
     },
     "metadata": {},
     "output_type": "display_data"
    }
   ],
   "source": [
    "# Drop features with variance less than 50%\n",
    "iris_df = features.head().style.set_table_attributes(\"style='display:inline'\").set_caption('Original Data')\n",
    "low_var_features_df = remove_low_var_features.head().style.set_table_attributes(\"style='display:inline'\").set_caption('After Removing Low Variance Features')\n",
    "\n",
    "display_html(iris_df._repr_html_()+\"&nbsp;&nbsp;&nbsp;&nbsp;&nbsp;\"+low_var_features_df._repr_html_(), raw=True)"
   ]
  },
  {
   "cell_type": "markdown",
   "metadata": {},
   "source": [
    "## 4. High Correlation Filter"
   ]
  },
  {
   "cell_type": "markdown",
   "metadata": {},
   "source": [
    "Refere to Section [6. High Correlation Filter](#high_correlation_filter) on the Dimensionality Reduction in this notebook"
   ]
  },
  {
   "cell_type": "markdown",
   "metadata": {},
   "source": [
    "## 5. L1 Regularization"
   ]
  },
  {
   "cell_type": "code",
   "execution_count": 64,
   "metadata": {},
   "outputs": [],
   "source": [
    "from sklearn.linear_model import Lasso, LogisticRegression\n",
    "from sklearn.feature_selection import SelectFromModel"
   ]
  },
  {
   "cell_type": "code",
   "execution_count": 65,
   "metadata": {},
   "outputs": [
    {
     "data": {
      "text/plain": [
       "SelectFromModel(estimator=LogisticRegression(C=1, penalty='l1',\n",
       "                                             solver='liblinear'),\n",
       "                threshold=1.0)"
      ]
     },
     "execution_count": 65,
     "metadata": {},
     "output_type": "execute_result"
    }
   ],
   "source": [
    "model=LogisticRegression(C=1,solver='liblinear', penalty='l1')\n",
    "select_model=SelectFromModel(model,threshold=1.0)\n",
    "select_model.fit(X_scaled,y)"
   ]
  },
  {
   "cell_type": "markdown",
   "metadata": {},
   "source": [
    "Features with 0 coefficients"
   ]
  },
  {
   "cell_type": "code",
   "execution_count": 66,
   "metadata": {},
   "outputs": [
    {
     "data": {
      "text/plain": [
       "array([[ 0. ,  1.2, -4.4,  0. ],\n",
       "       [ 0. , -1.2,  0.8, -0.8],\n",
       "       [ 0. , -0.5,  2.7,  4.6]])"
      ]
     },
     "execution_count": 66,
     "metadata": {},
     "output_type": "execute_result"
    }
   ],
   "source": [
    "np.round(select_model.estimator_.coef_,1)"
   ]
  },
  {
   "cell_type": "code",
   "execution_count": 67,
   "metadata": {},
   "outputs": [
    {
     "data": {
      "text/plain": [
       "array([False,  True,  True,  True])"
      ]
     },
     "execution_count": 67,
     "metadata": {},
     "output_type": "execute_result"
    }
   ],
   "source": [
    "select_model.get_support()"
   ]
  },
  {
   "cell_type": "code",
   "execution_count": 68,
   "metadata": {},
   "outputs": [
    {
     "data": {
      "text/plain": [
       "1.0"
      ]
     },
     "execution_count": 68,
     "metadata": {},
     "output_type": "execute_result"
    }
   ],
   "source": [
    "select_model.threshold_"
   ]
  },
  {
   "cell_type": "code",
   "execution_count": 69,
   "metadata": {},
   "outputs": [
    {
     "data": {
      "text/plain": [
       "Index(['sepal_width', 'petal_length', 'petal_width'], dtype='object')"
      ]
     },
     "execution_count": 69,
     "metadata": {},
     "output_type": "execute_result"
    }
   ],
   "source": [
    "X_scaled.columns[(select_model.get_support())]"
   ]
  },
  {
   "cell_type": "markdown",
   "metadata": {},
   "source": [
    "# 4. Feature Encoding"
   ]
  },
  {
   "cell_type": "markdown",
   "metadata": {},
   "source": [
    "Create DataFrame"
   ]
  },
  {
   "cell_type": "code",
   "execution_count": 70,
   "metadata": {},
   "outputs": [
    {
     "data": {
      "text/html": [
       "<div>\n",
       "<style scoped>\n",
       "    .dataframe tbody tr th:only-of-type {\n",
       "        vertical-align: middle;\n",
       "    }\n",
       "\n",
       "    .dataframe tbody tr th {\n",
       "        vertical-align: top;\n",
       "    }\n",
       "\n",
       "    .dataframe thead th {\n",
       "        text-align: right;\n",
       "    }\n",
       "</style>\n",
       "<table border=\"1\" class=\"dataframe\">\n",
       "  <thead>\n",
       "    <tr style=\"text-align: right;\">\n",
       "      <th></th>\n",
       "      <th>Fruit_Type</th>\n",
       "      <th>Weight</th>\n",
       "      <th>Price</th>\n",
       "    </tr>\n",
       "  </thead>\n",
       "  <tbody>\n",
       "    <tr>\n",
       "      <th>0</th>\n",
       "      <td>Banana</td>\n",
       "      <td>50.00</td>\n",
       "      <td>0.50</td>\n",
       "    </tr>\n",
       "    <tr>\n",
       "      <th>1</th>\n",
       "      <td>Orange</td>\n",
       "      <td>55.00</td>\n",
       "      <td>0.60</td>\n",
       "    </tr>\n",
       "    <tr>\n",
       "      <th>2</th>\n",
       "      <td>Apple</td>\n",
       "      <td>53.00</td>\n",
       "      <td>0.65</td>\n",
       "    </tr>\n",
       "    <tr>\n",
       "      <th>3</th>\n",
       "      <td>Mangoe</td>\n",
       "      <td>62.00</td>\n",
       "      <td>0.55</td>\n",
       "    </tr>\n",
       "    <tr>\n",
       "      <th>4</th>\n",
       "      <td>Orange</td>\n",
       "      <td>56.12</td>\n",
       "      <td>0.62</td>\n",
       "    </tr>\n",
       "  </tbody>\n",
       "</table>\n",
       "</div>"
      ],
      "text/plain": [
       "  Fruit_Type  Weight  Price\n",
       "0     Banana   50.00   0.50\n",
       "1     Orange   55.00   0.60\n",
       "2      Apple   53.00   0.65\n",
       "3     Mangoe   62.00   0.55\n",
       "4     Orange   56.12   0.62"
      ]
     },
     "execution_count": 70,
     "metadata": {},
     "output_type": "execute_result"
    }
   ],
   "source": [
    "fruits_df=pd.DataFrame( {'Fruit_Type': ['Banana','Orange','Apple','Mangoe','Orange'],\n",
    "                        'Weight':[50.0, 55.0,53.0,62.0,56.12],\n",
    "                        'Price':[0.5,0.6,0.65,0.55,0.62]})\n",
    "fruits_df"
   ]
  },
  {
   "cell_type": "markdown",
   "metadata": {},
   "source": [
    "##### Feature Encoding Techniques"
   ]
  },
  {
   "cell_type": "markdown",
   "metadata": {},
   "source": [
    "1. Label Encoding <br />\n",
    "Label Encoding converts categorical values to numeric by ordering them alphabeticaly <br />\n",
    "Approach 1 using sklearn "
   ]
  },
  {
   "cell_type": "code",
   "execution_count": 71,
   "metadata": {},
   "outputs": [
    {
     "data": {
      "text/html": [
       "<div>\n",
       "<style scoped>\n",
       "    .dataframe tbody tr th:only-of-type {\n",
       "        vertical-align: middle;\n",
       "    }\n",
       "\n",
       "    .dataframe tbody tr th {\n",
       "        vertical-align: top;\n",
       "    }\n",
       "\n",
       "    .dataframe thead th {\n",
       "        text-align: right;\n",
       "    }\n",
       "</style>\n",
       "<table border=\"1\" class=\"dataframe\">\n",
       "  <thead>\n",
       "    <tr style=\"text-align: right;\">\n",
       "      <th></th>\n",
       "      <th>Fruit_Type</th>\n",
       "      <th>Weight</th>\n",
       "      <th>Price</th>\n",
       "      <th>label_encoded_fruit_type</th>\n",
       "    </tr>\n",
       "  </thead>\n",
       "  <tbody>\n",
       "    <tr>\n",
       "      <th>0</th>\n",
       "      <td>Banana</td>\n",
       "      <td>50.00</td>\n",
       "      <td>0.50</td>\n",
       "      <td>1</td>\n",
       "    </tr>\n",
       "    <tr>\n",
       "      <th>1</th>\n",
       "      <td>Orange</td>\n",
       "      <td>55.00</td>\n",
       "      <td>0.60</td>\n",
       "      <td>3</td>\n",
       "    </tr>\n",
       "    <tr>\n",
       "      <th>2</th>\n",
       "      <td>Apple</td>\n",
       "      <td>53.00</td>\n",
       "      <td>0.65</td>\n",
       "      <td>0</td>\n",
       "    </tr>\n",
       "    <tr>\n",
       "      <th>3</th>\n",
       "      <td>Mangoe</td>\n",
       "      <td>62.00</td>\n",
       "      <td>0.55</td>\n",
       "      <td>2</td>\n",
       "    </tr>\n",
       "    <tr>\n",
       "      <th>4</th>\n",
       "      <td>Orange</td>\n",
       "      <td>56.12</td>\n",
       "      <td>0.62</td>\n",
       "      <td>3</td>\n",
       "    </tr>\n",
       "  </tbody>\n",
       "</table>\n",
       "</div>"
      ],
      "text/plain": [
       "  Fruit_Type  Weight  Price  label_encoded_fruit_type\n",
       "0     Banana   50.00   0.50                         1\n",
       "1     Orange   55.00   0.60                         3\n",
       "2      Apple   53.00   0.65                         0\n",
       "3     Mangoe   62.00   0.55                         2\n",
       "4     Orange   56.12   0.62                         3"
      ]
     },
     "execution_count": 71,
     "metadata": {},
     "output_type": "execute_result"
    }
   ],
   "source": [
    "from sklearn.preprocessing import LabelEncoder\n",
    "\n",
    "le_df=fruits_df\n",
    "le=LabelEncoder()\n",
    "le_df['label_encoded_fruit_type']=le.fit_transform(le_df['Fruit_Type'])\n",
    "le_df"
   ]
  },
  {
   "cell_type": "markdown",
   "metadata": {},
   "source": [
    "Approach 2. Using category_encoder library<br />\n",
    "This is a python library that contains various feature encoding functions. To install open terminal and run below command:<br />\n",
    "pip install category_encoders"
   ]
  },
  {
   "cell_type": "code",
   "execution_count": 72,
   "metadata": {},
   "outputs": [
    {
     "data": {
      "text/html": [
       "<div>\n",
       "<style scoped>\n",
       "    .dataframe tbody tr th:only-of-type {\n",
       "        vertical-align: middle;\n",
       "    }\n",
       "\n",
       "    .dataframe tbody tr th {\n",
       "        vertical-align: top;\n",
       "    }\n",
       "\n",
       "    .dataframe thead th {\n",
       "        text-align: right;\n",
       "    }\n",
       "</style>\n",
       "<table border=\"1\" class=\"dataframe\">\n",
       "  <thead>\n",
       "    <tr style=\"text-align: right;\">\n",
       "      <th></th>\n",
       "      <th>Fruit_Type</th>\n",
       "      <th>Weight</th>\n",
       "      <th>Price</th>\n",
       "      <th>label_encoded_fruit_type</th>\n",
       "      <th>ordinal_encoded_fruit_type</th>\n",
       "    </tr>\n",
       "  </thead>\n",
       "  <tbody>\n",
       "    <tr>\n",
       "      <th>0</th>\n",
       "      <td>Banana</td>\n",
       "      <td>50.00</td>\n",
       "      <td>0.50</td>\n",
       "      <td>1</td>\n",
       "      <td>1</td>\n",
       "    </tr>\n",
       "    <tr>\n",
       "      <th>1</th>\n",
       "      <td>Orange</td>\n",
       "      <td>55.00</td>\n",
       "      <td>0.60</td>\n",
       "      <td>3</td>\n",
       "      <td>3</td>\n",
       "    </tr>\n",
       "    <tr>\n",
       "      <th>2</th>\n",
       "      <td>Apple</td>\n",
       "      <td>53.00</td>\n",
       "      <td>0.65</td>\n",
       "      <td>0</td>\n",
       "      <td>0</td>\n",
       "    </tr>\n",
       "    <tr>\n",
       "      <th>3</th>\n",
       "      <td>Mangoe</td>\n",
       "      <td>62.00</td>\n",
       "      <td>0.55</td>\n",
       "      <td>2</td>\n",
       "      <td>2</td>\n",
       "    </tr>\n",
       "    <tr>\n",
       "      <th>4</th>\n",
       "      <td>Orange</td>\n",
       "      <td>56.12</td>\n",
       "      <td>0.62</td>\n",
       "      <td>3</td>\n",
       "      <td>3</td>\n",
       "    </tr>\n",
       "  </tbody>\n",
       "</table>\n",
       "</div>"
      ],
      "text/plain": [
       "  Fruit_Type  Weight  Price  label_encoded_fruit_type  \\\n",
       "0     Banana   50.00   0.50                         1   \n",
       "1     Orange   55.00   0.60                         3   \n",
       "2      Apple   53.00   0.65                         0   \n",
       "3     Mangoe   62.00   0.55                         2   \n",
       "4     Orange   56.12   0.62                         3   \n",
       "\n",
       "   ordinal_encoded_fruit_type  \n",
       "0                           1  \n",
       "1                           3  \n",
       "2                           0  \n",
       "3                           2  \n",
       "4                           3  "
      ]
     },
     "execution_count": 72,
     "metadata": {},
     "output_type": "execute_result"
    }
   ],
   "source": [
    "import category_encoders as ce\n",
    "\n",
    "le_ce_df=fruits_df\n",
    "le_ce=ce.OrdinalEncoder()\n",
    "le_ce_df['ordinal_encoded_fruit_type']=le.fit_transform(le_ce_df['Fruit_Type'])\n",
    "le_ce_df"
   ]
  },
  {
   "cell_type": "markdown",
   "metadata": {},
   "source": [
    "2. One-Hot Encoding<br />\n",
    "Approach 1: Using category_encoder"
   ]
  },
  {
   "cell_type": "code",
   "execution_count": 73,
   "metadata": {},
   "outputs": [
    {
     "data": {
      "text/html": [
       "<div>\n",
       "<style scoped>\n",
       "    .dataframe tbody tr th:only-of-type {\n",
       "        vertical-align: middle;\n",
       "    }\n",
       "\n",
       "    .dataframe tbody tr th {\n",
       "        vertical-align: top;\n",
       "    }\n",
       "\n",
       "    .dataframe thead th {\n",
       "        text-align: right;\n",
       "    }\n",
       "</style>\n",
       "<table border=\"1\" class=\"dataframe\">\n",
       "  <thead>\n",
       "    <tr style=\"text-align: right;\">\n",
       "      <th></th>\n",
       "      <th>Weight</th>\n",
       "      <th>Price</th>\n",
       "      <th>Fruit_Type_Banana</th>\n",
       "      <th>Fruit_Type_Orange</th>\n",
       "      <th>Fruit_Type_Apple</th>\n",
       "      <th>Fruit_Type_Mangoe</th>\n",
       "    </tr>\n",
       "  </thead>\n",
       "  <tbody>\n",
       "    <tr>\n",
       "      <th>0</th>\n",
       "      <td>50.00</td>\n",
       "      <td>0.50</td>\n",
       "      <td>1.0</td>\n",
       "      <td>0.0</td>\n",
       "      <td>0.0</td>\n",
       "      <td>0.0</td>\n",
       "    </tr>\n",
       "    <tr>\n",
       "      <th>1</th>\n",
       "      <td>55.00</td>\n",
       "      <td>0.60</td>\n",
       "      <td>0.0</td>\n",
       "      <td>1.0</td>\n",
       "      <td>0.0</td>\n",
       "      <td>0.0</td>\n",
       "    </tr>\n",
       "    <tr>\n",
       "      <th>2</th>\n",
       "      <td>53.00</td>\n",
       "      <td>0.65</td>\n",
       "      <td>0.0</td>\n",
       "      <td>0.0</td>\n",
       "      <td>1.0</td>\n",
       "      <td>0.0</td>\n",
       "    </tr>\n",
       "    <tr>\n",
       "      <th>3</th>\n",
       "      <td>62.00</td>\n",
       "      <td>0.55</td>\n",
       "      <td>0.0</td>\n",
       "      <td>0.0</td>\n",
       "      <td>0.0</td>\n",
       "      <td>1.0</td>\n",
       "    </tr>\n",
       "    <tr>\n",
       "      <th>4</th>\n",
       "      <td>56.12</td>\n",
       "      <td>0.62</td>\n",
       "      <td>0.0</td>\n",
       "      <td>1.0</td>\n",
       "      <td>0.0</td>\n",
       "      <td>0.0</td>\n",
       "    </tr>\n",
       "  </tbody>\n",
       "</table>\n",
       "</div>"
      ],
      "text/plain": [
       "   Weight  Price  Fruit_Type_Banana  Fruit_Type_Orange  Fruit_Type_Apple  \\\n",
       "0   50.00   0.50                1.0                0.0               0.0   \n",
       "1   55.00   0.60                0.0                1.0               0.0   \n",
       "2   53.00   0.65                0.0                0.0               1.0   \n",
       "3   62.00   0.55                0.0                0.0               0.0   \n",
       "4   56.12   0.62                0.0                1.0               0.0   \n",
       "\n",
       "   Fruit_Type_Mangoe  \n",
       "0                0.0  \n",
       "1                0.0  \n",
       "2                0.0  \n",
       "3                1.0  \n",
       "4                0.0  "
      ]
     },
     "execution_count": 73,
     "metadata": {},
     "output_type": "execute_result"
    }
   ],
   "source": [
    "ohe_ce=ce.OneHotEncoder(cols='Fruit_Type',handle_unknown='return_nan',return_df=True, use_cat_names=True)\n",
    "ohe_fruits_df=ohe_ce.fit_transform(fruits_df['Fruit_Type'])\n",
    "ohe_fruits_df=pd.concat([fruits_df[['Weight','Price']],ohe_fruits_df],axis=1) # Join the encoded dataframe with original dataframe\n",
    "ohe_fruits_df"
   ]
  },
  {
   "cell_type": "markdown",
   "metadata": {},
   "source": [
    "Approach 2: Using pandas get_dummies()"
   ]
  },
  {
   "cell_type": "code",
   "execution_count": 74,
   "metadata": {},
   "outputs": [
    {
     "data": {
      "text/html": [
       "<div>\n",
       "<style scoped>\n",
       "    .dataframe tbody tr th:only-of-type {\n",
       "        vertical-align: middle;\n",
       "    }\n",
       "\n",
       "    .dataframe tbody tr th {\n",
       "        vertical-align: top;\n",
       "    }\n",
       "\n",
       "    .dataframe thead th {\n",
       "        text-align: right;\n",
       "    }\n",
       "</style>\n",
       "<table border=\"1\" class=\"dataframe\">\n",
       "  <thead>\n",
       "    <tr style=\"text-align: right;\">\n",
       "      <th></th>\n",
       "      <th>Weight</th>\n",
       "      <th>Price</th>\n",
       "      <th>Banana</th>\n",
       "      <th>Mangoe</th>\n",
       "      <th>Orange</th>\n",
       "    </tr>\n",
       "  </thead>\n",
       "  <tbody>\n",
       "    <tr>\n",
       "      <th>0</th>\n",
       "      <td>50.00</td>\n",
       "      <td>0.50</td>\n",
       "      <td>1</td>\n",
       "      <td>0</td>\n",
       "      <td>0</td>\n",
       "    </tr>\n",
       "    <tr>\n",
       "      <th>1</th>\n",
       "      <td>55.00</td>\n",
       "      <td>0.60</td>\n",
       "      <td>0</td>\n",
       "      <td>0</td>\n",
       "      <td>1</td>\n",
       "    </tr>\n",
       "    <tr>\n",
       "      <th>2</th>\n",
       "      <td>53.00</td>\n",
       "      <td>0.65</td>\n",
       "      <td>0</td>\n",
       "      <td>0</td>\n",
       "      <td>0</td>\n",
       "    </tr>\n",
       "    <tr>\n",
       "      <th>3</th>\n",
       "      <td>62.00</td>\n",
       "      <td>0.55</td>\n",
       "      <td>0</td>\n",
       "      <td>1</td>\n",
       "      <td>0</td>\n",
       "    </tr>\n",
       "    <tr>\n",
       "      <th>4</th>\n",
       "      <td>56.12</td>\n",
       "      <td>0.62</td>\n",
       "      <td>0</td>\n",
       "      <td>0</td>\n",
       "      <td>1</td>\n",
       "    </tr>\n",
       "  </tbody>\n",
       "</table>\n",
       "</div>"
      ],
      "text/plain": [
       "   Weight  Price  Banana  Mangoe  Orange\n",
       "0   50.00   0.50       1       0       0\n",
       "1   55.00   0.60       0       0       1\n",
       "2   53.00   0.65       0       0       0\n",
       "3   62.00   0.55       0       1       0\n",
       "4   56.12   0.62       0       0       1"
      ]
     },
     "execution_count": 74,
     "metadata": {},
     "output_type": "execute_result"
    }
   ],
   "source": [
    "dummy_encode=pd.get_dummies(data=fruits_df['Fruit_Type'],drop_first=True)\n",
    "dummy_encode=pd.concat([fruits_df[['Weight','Price']],dummy_encode],axis=1) # Join the encoded dataframe with original dataframe\n",
    "dummy_encode"
   ]
  },
  {
   "cell_type": "markdown",
   "metadata": {},
   "source": [
    "3. Frequency Encoding"
   ]
  },
  {
   "cell_type": "code",
   "execution_count": 75,
   "metadata": {},
   "outputs": [
    {
     "name": "stdout",
     "output_type": "stream",
     "text": [
      "{'Orange': 2, 'Apple': 1, 'Banana': 1, 'Mangoe': 1}\n"
     ]
    },
    {
     "data": {
      "text/html": [
       "<div>\n",
       "<style scoped>\n",
       "    .dataframe tbody tr th:only-of-type {\n",
       "        vertical-align: middle;\n",
       "    }\n",
       "\n",
       "    .dataframe tbody tr th {\n",
       "        vertical-align: top;\n",
       "    }\n",
       "\n",
       "    .dataframe thead th {\n",
       "        text-align: right;\n",
       "    }\n",
       "</style>\n",
       "<table border=\"1\" class=\"dataframe\">\n",
       "  <thead>\n",
       "    <tr style=\"text-align: right;\">\n",
       "      <th></th>\n",
       "      <th>Fruit_Type</th>\n",
       "      <th>Weight</th>\n",
       "      <th>Price</th>\n",
       "      <th>label_encoded_fruit_type</th>\n",
       "      <th>ordinal_encoded_fruit_type</th>\n",
       "    </tr>\n",
       "  </thead>\n",
       "  <tbody>\n",
       "    <tr>\n",
       "      <th>0</th>\n",
       "      <td>1</td>\n",
       "      <td>50.00</td>\n",
       "      <td>0.50</td>\n",
       "      <td>1</td>\n",
       "      <td>1</td>\n",
       "    </tr>\n",
       "    <tr>\n",
       "      <th>1</th>\n",
       "      <td>2</td>\n",
       "      <td>55.00</td>\n",
       "      <td>0.60</td>\n",
       "      <td>3</td>\n",
       "      <td>3</td>\n",
       "    </tr>\n",
       "    <tr>\n",
       "      <th>2</th>\n",
       "      <td>1</td>\n",
       "      <td>53.00</td>\n",
       "      <td>0.65</td>\n",
       "      <td>0</td>\n",
       "      <td>0</td>\n",
       "    </tr>\n",
       "    <tr>\n",
       "      <th>3</th>\n",
       "      <td>1</td>\n",
       "      <td>62.00</td>\n",
       "      <td>0.55</td>\n",
       "      <td>2</td>\n",
       "      <td>2</td>\n",
       "    </tr>\n",
       "    <tr>\n",
       "      <th>4</th>\n",
       "      <td>2</td>\n",
       "      <td>56.12</td>\n",
       "      <td>0.62</td>\n",
       "      <td>3</td>\n",
       "      <td>3</td>\n",
       "    </tr>\n",
       "  </tbody>\n",
       "</table>\n",
       "</div>"
      ],
      "text/plain": [
       "   Fruit_Type  Weight  Price  label_encoded_fruit_type  \\\n",
       "0           1   50.00   0.50                         1   \n",
       "1           2   55.00   0.60                         3   \n",
       "2           1   53.00   0.65                         0   \n",
       "3           1   62.00   0.55                         2   \n",
       "4           2   56.12   0.62                         3   \n",
       "\n",
       "   ordinal_encoded_fruit_type  \n",
       "0                           1  \n",
       "1                           3  \n",
       "2                           0  \n",
       "3                           2  \n",
       "4                           3  "
      ]
     },
     "execution_count": 75,
     "metadata": {},
     "output_type": "execute_result"
    }
   ],
   "source": [
    "freq_encoding_df=fruits_df\n",
    "fruit_type_count = freq_encoding_df['Fruit_Type'].value_counts().to_dict() # return counts of each unique type\n",
    "freq_encoding_df['Fruit_Type'] = freq_encoding_df['Fruit_Type'].map(fruit_type_count)\n",
    "print(fruit_type_count)\n",
    "freq_encoding_df"
   ]
  },
  {
   "cell_type": "markdown",
   "metadata": {},
   "source": [
    "4. Binary Encoding"
   ]
  },
  {
   "cell_type": "code",
   "execution_count": 76,
   "metadata": {},
   "outputs": [
    {
     "data": {
      "text/html": [
       "<div>\n",
       "<style scoped>\n",
       "    .dataframe tbody tr th:only-of-type {\n",
       "        vertical-align: middle;\n",
       "    }\n",
       "\n",
       "    .dataframe tbody tr th {\n",
       "        vertical-align: top;\n",
       "    }\n",
       "\n",
       "    .dataframe thead th {\n",
       "        text-align: right;\n",
       "    }\n",
       "</style>\n",
       "<table border=\"1\" class=\"dataframe\">\n",
       "  <thead>\n",
       "    <tr style=\"text-align: right;\">\n",
       "      <th></th>\n",
       "      <th>Fruit_Type_0</th>\n",
       "      <th>Fruit_Type_1</th>\n",
       "      <th>Weight</th>\n",
       "      <th>Price</th>\n",
       "      <th>label_encoded_fruit_type</th>\n",
       "      <th>ordinal_encoded_fruit_type</th>\n",
       "    </tr>\n",
       "  </thead>\n",
       "  <tbody>\n",
       "    <tr>\n",
       "      <th>0</th>\n",
       "      <td>0</td>\n",
       "      <td>1</td>\n",
       "      <td>50.00</td>\n",
       "      <td>0.50</td>\n",
       "      <td>1</td>\n",
       "      <td>1</td>\n",
       "    </tr>\n",
       "    <tr>\n",
       "      <th>1</th>\n",
       "      <td>1</td>\n",
       "      <td>0</td>\n",
       "      <td>55.00</td>\n",
       "      <td>0.60</td>\n",
       "      <td>3</td>\n",
       "      <td>3</td>\n",
       "    </tr>\n",
       "    <tr>\n",
       "      <th>2</th>\n",
       "      <td>0</td>\n",
       "      <td>1</td>\n",
       "      <td>53.00</td>\n",
       "      <td>0.65</td>\n",
       "      <td>0</td>\n",
       "      <td>0</td>\n",
       "    </tr>\n",
       "    <tr>\n",
       "      <th>3</th>\n",
       "      <td>0</td>\n",
       "      <td>1</td>\n",
       "      <td>62.00</td>\n",
       "      <td>0.55</td>\n",
       "      <td>2</td>\n",
       "      <td>2</td>\n",
       "    </tr>\n",
       "    <tr>\n",
       "      <th>4</th>\n",
       "      <td>1</td>\n",
       "      <td>0</td>\n",
       "      <td>56.12</td>\n",
       "      <td>0.62</td>\n",
       "      <td>3</td>\n",
       "      <td>3</td>\n",
       "    </tr>\n",
       "  </tbody>\n",
       "</table>\n",
       "</div>"
      ],
      "text/plain": [
       "   Fruit_Type_0  Fruit_Type_1  Weight  Price  label_encoded_fruit_type  \\\n",
       "0             0             1   50.00   0.50                         1   \n",
       "1             1             0   55.00   0.60                         3   \n",
       "2             0             1   53.00   0.65                         0   \n",
       "3             0             1   62.00   0.55                         2   \n",
       "4             1             0   56.12   0.62                         3   \n",
       "\n",
       "   ordinal_encoded_fruit_type  \n",
       "0                           1  \n",
       "1                           3  \n",
       "2                           0  \n",
       "3                           2  \n",
       "4                           3  "
      ]
     },
     "execution_count": 76,
     "metadata": {},
     "output_type": "execute_result"
    }
   ],
   "source": [
    "binary_encoded_df=fruits_df\n",
    "binary_en=ce.BinaryEncoder(cols=['Fruit_Type'],return_df=True)\n",
    "binary_encoded_df=binary_en.fit_transform(binary_encoded_df)\n",
    "binary_encoded_df"
   ]
  },
  {
   "cell_type": "markdown",
   "metadata": {},
   "source": [
    "5. Hash Encoding"
   ]
  },
  {
   "cell_type": "code",
   "execution_count": 77,
   "metadata": {},
   "outputs": [
    {
     "data": {
      "text/html": [
       "<div>\n",
       "<style scoped>\n",
       "    .dataframe tbody tr th:only-of-type {\n",
       "        vertical-align: middle;\n",
       "    }\n",
       "\n",
       "    .dataframe tbody tr th {\n",
       "        vertical-align: top;\n",
       "    }\n",
       "\n",
       "    .dataframe thead th {\n",
       "        text-align: right;\n",
       "    }\n",
       "</style>\n",
       "<table border=\"1\" class=\"dataframe\">\n",
       "  <thead>\n",
       "    <tr style=\"text-align: right;\">\n",
       "      <th></th>\n",
       "      <th>col_0</th>\n",
       "      <th>col_1</th>\n",
       "      <th>col_2</th>\n",
       "      <th>Weight</th>\n",
       "      <th>Price</th>\n",
       "      <th>label_encoded_fruit_type</th>\n",
       "      <th>ordinal_encoded_fruit_type</th>\n",
       "    </tr>\n",
       "  </thead>\n",
       "  <tbody>\n",
       "    <tr>\n",
       "      <th>0</th>\n",
       "      <td>0</td>\n",
       "      <td>1</td>\n",
       "      <td>0</td>\n",
       "      <td>50.00</td>\n",
       "      <td>0.50</td>\n",
       "      <td>1</td>\n",
       "      <td>1</td>\n",
       "    </tr>\n",
       "    <tr>\n",
       "      <th>1</th>\n",
       "      <td>1</td>\n",
       "      <td>0</td>\n",
       "      <td>0</td>\n",
       "      <td>55.00</td>\n",
       "      <td>0.60</td>\n",
       "      <td>3</td>\n",
       "      <td>3</td>\n",
       "    </tr>\n",
       "    <tr>\n",
       "      <th>2</th>\n",
       "      <td>0</td>\n",
       "      <td>1</td>\n",
       "      <td>0</td>\n",
       "      <td>53.00</td>\n",
       "      <td>0.65</td>\n",
       "      <td>0</td>\n",
       "      <td>0</td>\n",
       "    </tr>\n",
       "    <tr>\n",
       "      <th>3</th>\n",
       "      <td>0</td>\n",
       "      <td>1</td>\n",
       "      <td>0</td>\n",
       "      <td>62.00</td>\n",
       "      <td>0.55</td>\n",
       "      <td>2</td>\n",
       "      <td>2</td>\n",
       "    </tr>\n",
       "    <tr>\n",
       "      <th>4</th>\n",
       "      <td>1</td>\n",
       "      <td>0</td>\n",
       "      <td>0</td>\n",
       "      <td>56.12</td>\n",
       "      <td>0.62</td>\n",
       "      <td>3</td>\n",
       "      <td>3</td>\n",
       "    </tr>\n",
       "  </tbody>\n",
       "</table>\n",
       "</div>"
      ],
      "text/plain": [
       "   col_0  col_1  col_2  Weight  Price  label_encoded_fruit_type  \\\n",
       "0      0      1      0   50.00   0.50                         1   \n",
       "1      1      0      0   55.00   0.60                         3   \n",
       "2      0      1      0   53.00   0.65                         0   \n",
       "3      0      1      0   62.00   0.55                         2   \n",
       "4      1      0      0   56.12   0.62                         3   \n",
       "\n",
       "   ordinal_encoded_fruit_type  \n",
       "0                           1  \n",
       "1                           3  \n",
       "2                           0  \n",
       "3                           2  \n",
       "4                           3  "
      ]
     },
     "execution_count": 77,
     "metadata": {},
     "output_type": "execute_result"
    }
   ],
   "source": [
    "hashing_encoded_df=fruits_df\n",
    "h_encoded=ce.HashingEncoder(n_components=3, cols=['Fruit_Type'])\n",
    "hashing_encoded_df=h_encoded.fit_transform(hashing_encoded_df)\n",
    "hashing_encoded_df"
   ]
  },
  {
   "cell_type": "markdown",
   "metadata": {},
   "source": [
    "6. Mean / Target Encoding"
   ]
  },
  {
   "cell_type": "code",
   "execution_count": 78,
   "metadata": {},
   "outputs": [
    {
     "data": {
      "text/html": [
       "<div>\n",
       "<style scoped>\n",
       "    .dataframe tbody tr th:only-of-type {\n",
       "        vertical-align: middle;\n",
       "    }\n",
       "\n",
       "    .dataframe tbody tr th {\n",
       "        vertical-align: top;\n",
       "    }\n",
       "\n",
       "    .dataframe thead th {\n",
       "        text-align: right;\n",
       "    }\n",
       "</style>\n",
       "<table border=\"1\" class=\"dataframe\">\n",
       "  <thead>\n",
       "    <tr style=\"text-align: right;\">\n",
       "      <th></th>\n",
       "      <th>Fruit_Type</th>\n",
       "      <th>Weight</th>\n",
       "      <th>Price</th>\n",
       "      <th>label_encoded_fruit_type</th>\n",
       "      <th>ordinal_encoded_fruit_type</th>\n",
       "      <th>Mean_Target_Fruit_Type</th>\n",
       "    </tr>\n",
       "  </thead>\n",
       "  <tbody>\n",
       "    <tr>\n",
       "      <th>0</th>\n",
       "      <td>1</td>\n",
       "      <td>50.00</td>\n",
       "      <td>0.50</td>\n",
       "      <td>1</td>\n",
       "      <td>1</td>\n",
       "      <td>0.568733</td>\n",
       "    </tr>\n",
       "    <tr>\n",
       "      <th>1</th>\n",
       "      <td>2</td>\n",
       "      <td>55.00</td>\n",
       "      <td>0.60</td>\n",
       "      <td>3</td>\n",
       "      <td>3</td>\n",
       "      <td>0.603008</td>\n",
       "    </tr>\n",
       "    <tr>\n",
       "      <th>2</th>\n",
       "      <td>1</td>\n",
       "      <td>53.00</td>\n",
       "      <td>0.65</td>\n",
       "      <td>0</td>\n",
       "      <td>0</td>\n",
       "      <td>0.568733</td>\n",
       "    </tr>\n",
       "    <tr>\n",
       "      <th>3</th>\n",
       "      <td>1</td>\n",
       "      <td>62.00</td>\n",
       "      <td>0.55</td>\n",
       "      <td>2</td>\n",
       "      <td>2</td>\n",
       "      <td>0.568733</td>\n",
       "    </tr>\n",
       "    <tr>\n",
       "      <th>4</th>\n",
       "      <td>2</td>\n",
       "      <td>56.12</td>\n",
       "      <td>0.62</td>\n",
       "      <td>3</td>\n",
       "      <td>3</td>\n",
       "      <td>0.603008</td>\n",
       "    </tr>\n",
       "  </tbody>\n",
       "</table>\n",
       "</div>"
      ],
      "text/plain": [
       "   Fruit_Type  Weight  Price  label_encoded_fruit_type  \\\n",
       "0           1   50.00   0.50                         1   \n",
       "1           2   55.00   0.60                         3   \n",
       "2           1   53.00   0.65                         0   \n",
       "3           1   62.00   0.55                         2   \n",
       "4           2   56.12   0.62                         3   \n",
       "\n",
       "   ordinal_encoded_fruit_type  Mean_Target_Fruit_Type  \n",
       "0                           1                0.568733  \n",
       "1                           3                0.603008  \n",
       "2                           0                0.568733  \n",
       "3                           2                0.568733  \n",
       "4                           3                0.603008  "
      ]
     },
     "execution_count": 78,
     "metadata": {},
     "output_type": "execute_result"
    }
   ],
   "source": [
    "mean_target_df=fruits_df\n",
    "mean_target=ce.TargetEncoder(cols=['Fruit_Type'])\n",
    "mean_target_df['Mean_Target_Fruit_Type']=mean_target.fit_transform(mean_target_df['Fruit_Type'],mean_target_df['Price'])\n",
    "mean_target_df"
   ]
  },
  {
   "cell_type": "markdown",
   "metadata": {},
   "source": [
    "7. Weight of Evidence Encoding <br />\n",
    "Load titanic data"
   ]
  },
  {
   "cell_type": "code",
   "execution_count": 79,
   "metadata": {},
   "outputs": [
    {
     "data": {
      "text/html": [
       "<div>\n",
       "<style scoped>\n",
       "    .dataframe tbody tr th:only-of-type {\n",
       "        vertical-align: middle;\n",
       "    }\n",
       "\n",
       "    .dataframe tbody tr th {\n",
       "        vertical-align: top;\n",
       "    }\n",
       "\n",
       "    .dataframe thead th {\n",
       "        text-align: right;\n",
       "    }\n",
       "</style>\n",
       "<table border=\"1\" class=\"dataframe\">\n",
       "  <thead>\n",
       "    <tr style=\"text-align: right;\">\n",
       "      <th></th>\n",
       "      <th>Survived</th>\n",
       "      <th>Pclass</th>\n",
       "      <th>Name</th>\n",
       "      <th>Sex</th>\n",
       "      <th>Age</th>\n",
       "      <th>Siblings/Spouses Aboard</th>\n",
       "      <th>Parents/Children Aboard</th>\n",
       "      <th>Fare</th>\n",
       "    </tr>\n",
       "  </thead>\n",
       "  <tbody>\n",
       "    <tr>\n",
       "      <th>0</th>\n",
       "      <td>0</td>\n",
       "      <td>3</td>\n",
       "      <td>Mr. Owen Harris Braund</td>\n",
       "      <td>male</td>\n",
       "      <td>22.0</td>\n",
       "      <td>1</td>\n",
       "      <td>0</td>\n",
       "      <td>7.2500</td>\n",
       "    </tr>\n",
       "    <tr>\n",
       "      <th>1</th>\n",
       "      <td>1</td>\n",
       "      <td>1</td>\n",
       "      <td>Mrs. John Bradley (Florence Briggs Thayer) Cum...</td>\n",
       "      <td>female</td>\n",
       "      <td>38.0</td>\n",
       "      <td>1</td>\n",
       "      <td>0</td>\n",
       "      <td>71.2833</td>\n",
       "    </tr>\n",
       "    <tr>\n",
       "      <th>2</th>\n",
       "      <td>1</td>\n",
       "      <td>3</td>\n",
       "      <td>Miss. Laina Heikkinen</td>\n",
       "      <td>female</td>\n",
       "      <td>26.0</td>\n",
       "      <td>0</td>\n",
       "      <td>0</td>\n",
       "      <td>7.9250</td>\n",
       "    </tr>\n",
       "    <tr>\n",
       "      <th>3</th>\n",
       "      <td>1</td>\n",
       "      <td>1</td>\n",
       "      <td>Mrs. Jacques Heath (Lily May Peel) Futrelle</td>\n",
       "      <td>female</td>\n",
       "      <td>35.0</td>\n",
       "      <td>1</td>\n",
       "      <td>0</td>\n",
       "      <td>53.1000</td>\n",
       "    </tr>\n",
       "    <tr>\n",
       "      <th>4</th>\n",
       "      <td>0</td>\n",
       "      <td>3</td>\n",
       "      <td>Mr. William Henry Allen</td>\n",
       "      <td>male</td>\n",
       "      <td>35.0</td>\n",
       "      <td>0</td>\n",
       "      <td>0</td>\n",
       "      <td>8.0500</td>\n",
       "    </tr>\n",
       "  </tbody>\n",
       "</table>\n",
       "</div>"
      ],
      "text/plain": [
       "   Survived  Pclass                                               Name  \\\n",
       "0         0       3                             Mr. Owen Harris Braund   \n",
       "1         1       1  Mrs. John Bradley (Florence Briggs Thayer) Cum...   \n",
       "2         1       3                              Miss. Laina Heikkinen   \n",
       "3         1       1        Mrs. Jacques Heath (Lily May Peel) Futrelle   \n",
       "4         0       3                            Mr. William Henry Allen   \n",
       "\n",
       "      Sex   Age  Siblings/Spouses Aboard  Parents/Children Aboard     Fare  \n",
       "0    male  22.0                        1                        0   7.2500  \n",
       "1  female  38.0                        1                        0  71.2833  \n",
       "2  female  26.0                        0                        0   7.9250  \n",
       "3  female  35.0                        1                        0  53.1000  \n",
       "4    male  35.0                        0                        0   8.0500  "
      ]
     },
     "execution_count": 79,
     "metadata": {},
     "output_type": "execute_result"
    }
   ],
   "source": [
    "titanic_df=pd.read_csv('titanic.csv')\n",
    "titanic_df.head()"
   ]
  },
  {
   "cell_type": "markdown",
   "metadata": {},
   "source": [
    "Approach 1: Using WOEEncoder <br />\n",
    "WOEEncoder from category_encoder provides us with different parameter to adjust to get desirable results.\n",
    "For full details on how to use check the sklearn category_encoder documentation here https://contrib.scikit-learn.org/category_encoders/woe.html"
   ]
  },
  {
   "cell_type": "code",
   "execution_count": 80,
   "metadata": {},
   "outputs": [
    {
     "data": {
      "text/html": [
       "<div>\n",
       "<style scoped>\n",
       "    .dataframe tbody tr th:only-of-type {\n",
       "        vertical-align: middle;\n",
       "    }\n",
       "\n",
       "    .dataframe tbody tr th {\n",
       "        vertical-align: top;\n",
       "    }\n",
       "\n",
       "    .dataframe thead th {\n",
       "        text-align: right;\n",
       "    }\n",
       "</style>\n",
       "<table border=\"1\" class=\"dataframe\">\n",
       "  <thead>\n",
       "    <tr style=\"text-align: right;\">\n",
       "      <th></th>\n",
       "      <th>Survived</th>\n",
       "      <th>Pclass</th>\n",
       "      <th>Name</th>\n",
       "      <th>Sex</th>\n",
       "      <th>Age</th>\n",
       "      <th>Siblings/Spouses Aboard</th>\n",
       "      <th>Parents/Children Aboard</th>\n",
       "      <th>Fare</th>\n",
       "      <th>WoE_Sex</th>\n",
       "    </tr>\n",
       "  </thead>\n",
       "  <tbody>\n",
       "    <tr>\n",
       "      <th>0</th>\n",
       "      <td>0</td>\n",
       "      <td>3</td>\n",
       "      <td>Mr. Owen Harris Braund</td>\n",
       "      <td>male</td>\n",
       "      <td>22.0</td>\n",
       "      <td>1</td>\n",
       "      <td>0</td>\n",
       "      <td>7.2500</td>\n",
       "      <td>-0.977750</td>\n",
       "    </tr>\n",
       "    <tr>\n",
       "      <th>1</th>\n",
       "      <td>1</td>\n",
       "      <td>1</td>\n",
       "      <td>Mrs. John Bradley (Florence Briggs Thayer) Cum...</td>\n",
       "      <td>female</td>\n",
       "      <td>38.0</td>\n",
       "      <td>1</td>\n",
       "      <td>0</td>\n",
       "      <td>71.2833</td>\n",
       "      <td>1.512409</td>\n",
       "    </tr>\n",
       "    <tr>\n",
       "      <th>2</th>\n",
       "      <td>1</td>\n",
       "      <td>3</td>\n",
       "      <td>Miss. Laina Heikkinen</td>\n",
       "      <td>female</td>\n",
       "      <td>26.0</td>\n",
       "      <td>0</td>\n",
       "      <td>0</td>\n",
       "      <td>7.9250</td>\n",
       "      <td>1.512409</td>\n",
       "    </tr>\n",
       "    <tr>\n",
       "      <th>3</th>\n",
       "      <td>1</td>\n",
       "      <td>1</td>\n",
       "      <td>Mrs. Jacques Heath (Lily May Peel) Futrelle</td>\n",
       "      <td>female</td>\n",
       "      <td>35.0</td>\n",
       "      <td>1</td>\n",
       "      <td>0</td>\n",
       "      <td>53.1000</td>\n",
       "      <td>1.512409</td>\n",
       "    </tr>\n",
       "    <tr>\n",
       "      <th>4</th>\n",
       "      <td>0</td>\n",
       "      <td>3</td>\n",
       "      <td>Mr. William Henry Allen</td>\n",
       "      <td>male</td>\n",
       "      <td>35.0</td>\n",
       "      <td>0</td>\n",
       "      <td>0</td>\n",
       "      <td>8.0500</td>\n",
       "      <td>-0.977750</td>\n",
       "    </tr>\n",
       "  </tbody>\n",
       "</table>\n",
       "</div>"
      ],
      "text/plain": [
       "   Survived  Pclass                                               Name  \\\n",
       "0         0       3                             Mr. Owen Harris Braund   \n",
       "1         1       1  Mrs. John Bradley (Florence Briggs Thayer) Cum...   \n",
       "2         1       3                              Miss. Laina Heikkinen   \n",
       "3         1       1        Mrs. Jacques Heath (Lily May Peel) Futrelle   \n",
       "4         0       3                            Mr. William Henry Allen   \n",
       "\n",
       "      Sex   Age  Siblings/Spouses Aboard  Parents/Children Aboard     Fare  \\\n",
       "0    male  22.0                        1                        0   7.2500   \n",
       "1  female  38.0                        1                        0  71.2833   \n",
       "2  female  26.0                        0                        0   7.9250   \n",
       "3  female  35.0                        1                        0  53.1000   \n",
       "4    male  35.0                        0                        0   8.0500   \n",
       "\n",
       "    WoE_Sex  \n",
       "0 -0.977750  \n",
       "1  1.512409  \n",
       "2  1.512409  \n",
       "3  1.512409  \n",
       "4 -0.977750  "
      ]
     },
     "execution_count": 80,
     "metadata": {},
     "output_type": "execute_result"
    }
   ],
   "source": [
    "woe_df=titanic_df\n",
    "woe=ce.WOEEncoder(cols=['Sex'])\n",
    "woe_df['WoE_Sex']=woe.fit_transform(woe_df['Sex'],woe_df['Survived'])\n",
    "woe_df.head()"
   ]
  },
  {
   "cell_type": "markdown",
   "metadata": {},
   "source": [
    "Approach 2: Calculating it manually"
   ]
  },
  {
   "cell_type": "code",
   "execution_count": 81,
   "metadata": {},
   "outputs": [
    {
     "name": "stdout",
     "output_type": "stream",
     "text": [
      "{'female': 1.0565892988932615, 'male': -1.4485366699971116}\n"
     ]
    },
    {
     "data": {
      "text/html": [
       "<div>\n",
       "<style scoped>\n",
       "    .dataframe tbody tr th:only-of-type {\n",
       "        vertical-align: middle;\n",
       "    }\n",
       "\n",
       "    .dataframe tbody tr th {\n",
       "        vertical-align: top;\n",
       "    }\n",
       "\n",
       "    .dataframe thead th {\n",
       "        text-align: right;\n",
       "    }\n",
       "</style>\n",
       "<table border=\"1\" class=\"dataframe\">\n",
       "  <thead>\n",
       "    <tr style=\"text-align: right;\">\n",
       "      <th></th>\n",
       "      <th>Survived</th>\n",
       "      <th>died</th>\n",
       "      <th>woe</th>\n",
       "    </tr>\n",
       "    <tr>\n",
       "      <th>Sex</th>\n",
       "      <th></th>\n",
       "      <th></th>\n",
       "      <th></th>\n",
       "    </tr>\n",
       "  </thead>\n",
       "  <tbody>\n",
       "    <tr>\n",
       "      <th>female</th>\n",
       "      <td>0.742038</td>\n",
       "      <td>0.257962</td>\n",
       "      <td>1.056589</td>\n",
       "    </tr>\n",
       "    <tr>\n",
       "      <th>male</th>\n",
       "      <td>0.190227</td>\n",
       "      <td>0.809773</td>\n",
       "      <td>-1.448537</td>\n",
       "    </tr>\n",
       "  </tbody>\n",
       "</table>\n",
       "</div>"
      ],
      "text/plain": [
       "        Survived      died       woe\n",
       "Sex                                 \n",
       "female  0.742038  0.257962  1.056589\n",
       "male    0.190227  0.809773 -1.448537"
      ]
     },
     "execution_count": 81,
     "metadata": {},
     "output_type": "execute_result"
    }
   ],
   "source": [
    "prob_df = pd.DataFrame(woe_df.groupby(['Sex'])['Survived'].mean()) # This gives us probability of sruvived\n",
    "prob_df['died'] = 1-prob_df['Survived'] # This gives probability of dead\n",
    "prob_df['woe'] = np.log( prob_df['Survived'] / prob_df['died'] ) # woe\n",
    "print(prob_df['woe'].to_dict())\n",
    "prob_df"
   ]
  },
  {
   "cell_type": "markdown",
   "metadata": {},
   "source": [
    "Note that we get slightly different results from the sklearn category_encoder because in category_encoder we have parameter that we can tune to get different output. The above results are based on default parameter values. Try adjusting parameter such sigma and regularization and observe the results."
   ]
  },
  {
   "cell_type": "code",
   "execution_count": 82,
   "metadata": {},
   "outputs": [
    {
     "data": {
      "text/html": [
       "<div>\n",
       "<style scoped>\n",
       "    .dataframe tbody tr th:only-of-type {\n",
       "        vertical-align: middle;\n",
       "    }\n",
       "\n",
       "    .dataframe tbody tr th {\n",
       "        vertical-align: top;\n",
       "    }\n",
       "\n",
       "    .dataframe thead th {\n",
       "        text-align: right;\n",
       "    }\n",
       "</style>\n",
       "<table border=\"1\" class=\"dataframe\">\n",
       "  <thead>\n",
       "    <tr style=\"text-align: right;\">\n",
       "      <th></th>\n",
       "      <th>Survived</th>\n",
       "      <th>Pclass</th>\n",
       "      <th>Name</th>\n",
       "      <th>Sex</th>\n",
       "      <th>Age</th>\n",
       "      <th>Siblings/Spouses Aboard</th>\n",
       "      <th>Parents/Children Aboard</th>\n",
       "      <th>Fare</th>\n",
       "      <th>WoE_Sex</th>\n",
       "      <th>WoE_Gender</th>\n",
       "    </tr>\n",
       "  </thead>\n",
       "  <tbody>\n",
       "    <tr>\n",
       "      <th>0</th>\n",
       "      <td>0</td>\n",
       "      <td>3</td>\n",
       "      <td>Mr. Owen Harris Braund</td>\n",
       "      <td>male</td>\n",
       "      <td>22.0</td>\n",
       "      <td>1</td>\n",
       "      <td>0</td>\n",
       "      <td>7.2500</td>\n",
       "      <td>-0.977750</td>\n",
       "      <td>-1.448537</td>\n",
       "    </tr>\n",
       "    <tr>\n",
       "      <th>1</th>\n",
       "      <td>1</td>\n",
       "      <td>1</td>\n",
       "      <td>Mrs. John Bradley (Florence Briggs Thayer) Cum...</td>\n",
       "      <td>female</td>\n",
       "      <td>38.0</td>\n",
       "      <td>1</td>\n",
       "      <td>0</td>\n",
       "      <td>71.2833</td>\n",
       "      <td>1.512409</td>\n",
       "      <td>1.056589</td>\n",
       "    </tr>\n",
       "    <tr>\n",
       "      <th>2</th>\n",
       "      <td>1</td>\n",
       "      <td>3</td>\n",
       "      <td>Miss. Laina Heikkinen</td>\n",
       "      <td>female</td>\n",
       "      <td>26.0</td>\n",
       "      <td>0</td>\n",
       "      <td>0</td>\n",
       "      <td>7.9250</td>\n",
       "      <td>1.512409</td>\n",
       "      <td>1.056589</td>\n",
       "    </tr>\n",
       "    <tr>\n",
       "      <th>3</th>\n",
       "      <td>1</td>\n",
       "      <td>1</td>\n",
       "      <td>Mrs. Jacques Heath (Lily May Peel) Futrelle</td>\n",
       "      <td>female</td>\n",
       "      <td>35.0</td>\n",
       "      <td>1</td>\n",
       "      <td>0</td>\n",
       "      <td>53.1000</td>\n",
       "      <td>1.512409</td>\n",
       "      <td>1.056589</td>\n",
       "    </tr>\n",
       "    <tr>\n",
       "      <th>4</th>\n",
       "      <td>0</td>\n",
       "      <td>3</td>\n",
       "      <td>Mr. William Henry Allen</td>\n",
       "      <td>male</td>\n",
       "      <td>35.0</td>\n",
       "      <td>0</td>\n",
       "      <td>0</td>\n",
       "      <td>8.0500</td>\n",
       "      <td>-0.977750</td>\n",
       "      <td>-1.448537</td>\n",
       "    </tr>\n",
       "  </tbody>\n",
       "</table>\n",
       "</div>"
      ],
      "text/plain": [
       "   Survived  Pclass                                               Name  \\\n",
       "0         0       3                             Mr. Owen Harris Braund   \n",
       "1         1       1  Mrs. John Bradley (Florence Briggs Thayer) Cum...   \n",
       "2         1       3                              Miss. Laina Heikkinen   \n",
       "3         1       1        Mrs. Jacques Heath (Lily May Peel) Futrelle   \n",
       "4         0       3                            Mr. William Henry Allen   \n",
       "\n",
       "      Sex   Age  Siblings/Spouses Aboard  Parents/Children Aboard     Fare  \\\n",
       "0    male  22.0                        1                        0   7.2500   \n",
       "1  female  38.0                        1                        0  71.2833   \n",
       "2  female  26.0                        0                        0   7.9250   \n",
       "3  female  35.0                        1                        0  53.1000   \n",
       "4    male  35.0                        0                        0   8.0500   \n",
       "\n",
       "    WoE_Sex  WoE_Gender  \n",
       "0 -0.977750   -1.448537  \n",
       "1  1.512409    1.056589  \n",
       "2  1.512409    1.056589  \n",
       "3  1.512409    1.056589  \n",
       "4 -0.977750   -1.448537  "
      ]
     },
     "execution_count": 82,
     "metadata": {},
     "output_type": "execute_result"
    }
   ],
   "source": [
    "woe_df['WoE_Gender']=woe_df['Sex'].map(prob_df['woe'].to_dict())\n",
    "woe_df.head()"
   ]
  },
  {
   "cell_type": "markdown",
   "metadata": {},
   "source": [
    "# 5. Feature Scaling <br />\n",
    "In this section we will use titanic dataset and scale the age and fare features using different techniques."
   ]
  },
  {
   "cell_type": "markdown",
   "metadata": {},
   "source": [
    "#### Load required libraries"
   ]
  },
  {
   "cell_type": "code",
   "execution_count": 83,
   "metadata": {},
   "outputs": [],
   "source": [
    "import pandas as pd\n",
    "import numpy as np\n",
    "from sklearn.preprocessing import MinMaxScaler, StandardScaler"
   ]
  },
  {
   "cell_type": "markdown",
   "metadata": {},
   "source": [
    "#### Load Data"
   ]
  },
  {
   "cell_type": "code",
   "execution_count": 84,
   "metadata": {},
   "outputs": [
    {
     "data": {
      "text/html": [
       "<div>\n",
       "<style scoped>\n",
       "    .dataframe tbody tr th:only-of-type {\n",
       "        vertical-align: middle;\n",
       "    }\n",
       "\n",
       "    .dataframe tbody tr th {\n",
       "        vertical-align: top;\n",
       "    }\n",
       "\n",
       "    .dataframe thead th {\n",
       "        text-align: right;\n",
       "    }\n",
       "</style>\n",
       "<table border=\"1\" class=\"dataframe\">\n",
       "  <thead>\n",
       "    <tr style=\"text-align: right;\">\n",
       "      <th></th>\n",
       "      <th>Survived</th>\n",
       "      <th>Pclass</th>\n",
       "      <th>Name</th>\n",
       "      <th>Sex</th>\n",
       "      <th>Age</th>\n",
       "      <th>Siblings/Spouses Aboard</th>\n",
       "      <th>Parents/Children Aboard</th>\n",
       "      <th>Fare</th>\n",
       "    </tr>\n",
       "  </thead>\n",
       "  <tbody>\n",
       "    <tr>\n",
       "      <th>0</th>\n",
       "      <td>0</td>\n",
       "      <td>3</td>\n",
       "      <td>Mr. Owen Harris Braund</td>\n",
       "      <td>male</td>\n",
       "      <td>22.0</td>\n",
       "      <td>1</td>\n",
       "      <td>0</td>\n",
       "      <td>7.2500</td>\n",
       "    </tr>\n",
       "    <tr>\n",
       "      <th>1</th>\n",
       "      <td>1</td>\n",
       "      <td>1</td>\n",
       "      <td>Mrs. John Bradley (Florence Briggs Thayer) Cum...</td>\n",
       "      <td>female</td>\n",
       "      <td>38.0</td>\n",
       "      <td>1</td>\n",
       "      <td>0</td>\n",
       "      <td>71.2833</td>\n",
       "    </tr>\n",
       "    <tr>\n",
       "      <th>2</th>\n",
       "      <td>1</td>\n",
       "      <td>3</td>\n",
       "      <td>Miss. Laina Heikkinen</td>\n",
       "      <td>female</td>\n",
       "      <td>26.0</td>\n",
       "      <td>0</td>\n",
       "      <td>0</td>\n",
       "      <td>7.9250</td>\n",
       "    </tr>\n",
       "    <tr>\n",
       "      <th>3</th>\n",
       "      <td>1</td>\n",
       "      <td>1</td>\n",
       "      <td>Mrs. Jacques Heath (Lily May Peel) Futrelle</td>\n",
       "      <td>female</td>\n",
       "      <td>35.0</td>\n",
       "      <td>1</td>\n",
       "      <td>0</td>\n",
       "      <td>53.1000</td>\n",
       "    </tr>\n",
       "    <tr>\n",
       "      <th>4</th>\n",
       "      <td>0</td>\n",
       "      <td>3</td>\n",
       "      <td>Mr. William Henry Allen</td>\n",
       "      <td>male</td>\n",
       "      <td>35.0</td>\n",
       "      <td>0</td>\n",
       "      <td>0</td>\n",
       "      <td>8.0500</td>\n",
       "    </tr>\n",
       "  </tbody>\n",
       "</table>\n",
       "</div>"
      ],
      "text/plain": [
       "   Survived  Pclass                                               Name  \\\n",
       "0         0       3                             Mr. Owen Harris Braund   \n",
       "1         1       1  Mrs. John Bradley (Florence Briggs Thayer) Cum...   \n",
       "2         1       3                              Miss. Laina Heikkinen   \n",
       "3         1       1        Mrs. Jacques Heath (Lily May Peel) Futrelle   \n",
       "4         0       3                            Mr. William Henry Allen   \n",
       "\n",
       "      Sex   Age  Siblings/Spouses Aboard  Parents/Children Aboard     Fare  \n",
       "0    male  22.0                        1                        0   7.2500  \n",
       "1  female  38.0                        1                        0  71.2833  \n",
       "2  female  26.0                        0                        0   7.9250  \n",
       "3  female  35.0                        1                        0  53.1000  \n",
       "4    male  35.0                        0                        0   8.0500  "
      ]
     },
     "execution_count": 84,
     "metadata": {},
     "output_type": "execute_result"
    }
   ],
   "source": [
    "titanic_df=pd.read_csv('titanic.csv')\n",
    "titanic_df.head()"
   ]
  },
  {
   "cell_type": "markdown",
   "metadata": {},
   "source": [
    "#### Min-max normalization"
   ]
  },
  {
   "cell_type": "code",
   "execution_count": 85,
   "metadata": {},
   "outputs": [
    {
     "data": {
      "text/html": [
       "<div>\n",
       "<style scoped>\n",
       "    .dataframe tbody tr th:only-of-type {\n",
       "        vertical-align: middle;\n",
       "    }\n",
       "\n",
       "    .dataframe tbody tr th {\n",
       "        vertical-align: top;\n",
       "    }\n",
       "\n",
       "    .dataframe thead th {\n",
       "        text-align: right;\n",
       "    }\n",
       "</style>\n",
       "<table border=\"1\" class=\"dataframe\">\n",
       "  <thead>\n",
       "    <tr style=\"text-align: right;\">\n",
       "      <th></th>\n",
       "      <th>Age</th>\n",
       "      <th>Fare</th>\n",
       "      <th>Normalized_Age</th>\n",
       "      <th>Normalized_Fare</th>\n",
       "    </tr>\n",
       "  </thead>\n",
       "  <tbody>\n",
       "    <tr>\n",
       "      <th>0</th>\n",
       "      <td>22.0</td>\n",
       "      <td>7.2500</td>\n",
       "      <td>0.271174</td>\n",
       "      <td>0.014151</td>\n",
       "    </tr>\n",
       "    <tr>\n",
       "      <th>1</th>\n",
       "      <td>38.0</td>\n",
       "      <td>71.2833</td>\n",
       "      <td>0.472229</td>\n",
       "      <td>0.139136</td>\n",
       "    </tr>\n",
       "    <tr>\n",
       "      <th>2</th>\n",
       "      <td>26.0</td>\n",
       "      <td>7.9250</td>\n",
       "      <td>0.321438</td>\n",
       "      <td>0.015469</td>\n",
       "    </tr>\n",
       "    <tr>\n",
       "      <th>3</th>\n",
       "      <td>35.0</td>\n",
       "      <td>53.1000</td>\n",
       "      <td>0.434531</td>\n",
       "      <td>0.103644</td>\n",
       "    </tr>\n",
       "    <tr>\n",
       "      <th>4</th>\n",
       "      <td>35.0</td>\n",
       "      <td>8.0500</td>\n",
       "      <td>0.434531</td>\n",
       "      <td>0.015713</td>\n",
       "    </tr>\n",
       "  </tbody>\n",
       "</table>\n",
       "</div>"
      ],
      "text/plain": [
       "    Age     Fare  Normalized_Age  Normalized_Fare\n",
       "0  22.0   7.2500        0.271174         0.014151\n",
       "1  38.0  71.2833        0.472229         0.139136\n",
       "2  26.0   7.9250        0.321438         0.015469\n",
       "3  35.0  53.1000        0.434531         0.103644\n",
       "4  35.0   8.0500        0.434531         0.015713"
      ]
     },
     "execution_count": 85,
     "metadata": {},
     "output_type": "execute_result"
    }
   ],
   "source": [
    "features_to_scale=titanic_df[['Age','Fare']]\n",
    "min_max_scaler=MinMaxScaler(feature_range=(0,1)) # You can adjust the range to get the best distribution\n",
    "min_max_normalized=min_max_scaler.fit_transform(features_to_scale)\n",
    "min_max_normalized_df=pd.DataFrame(min_max_normalized,columns=['Normalized_Age','Normalized_Fare'])\n",
    "scaled_df=pd.concat([features_to_scale,min_max_normalized_df],axis=1)\n",
    "scaled_df.head()"
   ]
  },
  {
   "cell_type": "markdown",
   "metadata": {},
   "source": [
    "#### Standardization (Z-score normalization)"
   ]
  },
  {
   "cell_type": "code",
   "execution_count": 86,
   "metadata": {},
   "outputs": [
    {
     "data": {
      "text/html": [
       "<div>\n",
       "<style scoped>\n",
       "    .dataframe tbody tr th:only-of-type {\n",
       "        vertical-align: middle;\n",
       "    }\n",
       "\n",
       "    .dataframe tbody tr th {\n",
       "        vertical-align: top;\n",
       "    }\n",
       "\n",
       "    .dataframe thead th {\n",
       "        text-align: right;\n",
       "    }\n",
       "</style>\n",
       "<table border=\"1\" class=\"dataframe\">\n",
       "  <thead>\n",
       "    <tr style=\"text-align: right;\">\n",
       "      <th></th>\n",
       "      <th>Age</th>\n",
       "      <th>Fare</th>\n",
       "      <th>Normalized_Age</th>\n",
       "      <th>Normalized_Fare</th>\n",
       "      <th>Standardized_Age</th>\n",
       "      <th>Standardized_Fare</th>\n",
       "    </tr>\n",
       "  </thead>\n",
       "  <tbody>\n",
       "    <tr>\n",
       "      <th>0</th>\n",
       "      <td>22.0</td>\n",
       "      <td>7.2500</td>\n",
       "      <td>0.271174</td>\n",
       "      <td>0.014151</td>\n",
       "      <td>-0.529366</td>\n",
       "      <td>-0.503586</td>\n",
       "    </tr>\n",
       "    <tr>\n",
       "      <th>1</th>\n",
       "      <td>38.0</td>\n",
       "      <td>71.2833</td>\n",
       "      <td>0.472229</td>\n",
       "      <td>0.139136</td>\n",
       "      <td>0.604265</td>\n",
       "      <td>0.783412</td>\n",
       "    </tr>\n",
       "    <tr>\n",
       "      <th>2</th>\n",
       "      <td>26.0</td>\n",
       "      <td>7.9250</td>\n",
       "      <td>0.321438</td>\n",
       "      <td>0.015469</td>\n",
       "      <td>-0.245958</td>\n",
       "      <td>-0.490020</td>\n",
       "    </tr>\n",
       "    <tr>\n",
       "      <th>3</th>\n",
       "      <td>35.0</td>\n",
       "      <td>53.1000</td>\n",
       "      <td>0.434531</td>\n",
       "      <td>0.103644</td>\n",
       "      <td>0.391709</td>\n",
       "      <td>0.417948</td>\n",
       "    </tr>\n",
       "    <tr>\n",
       "      <th>4</th>\n",
       "      <td>35.0</td>\n",
       "      <td>8.0500</td>\n",
       "      <td>0.434531</td>\n",
       "      <td>0.015713</td>\n",
       "      <td>0.391709</td>\n",
       "      <td>-0.487507</td>\n",
       "    </tr>\n",
       "  </tbody>\n",
       "</table>\n",
       "</div>"
      ],
      "text/plain": [
       "    Age     Fare  Normalized_Age  Normalized_Fare  Standardized_Age  \\\n",
       "0  22.0   7.2500        0.271174         0.014151         -0.529366   \n",
       "1  38.0  71.2833        0.472229         0.139136          0.604265   \n",
       "2  26.0   7.9250        0.321438         0.015469         -0.245958   \n",
       "3  35.0  53.1000        0.434531         0.103644          0.391709   \n",
       "4  35.0   8.0500        0.434531         0.015713          0.391709   \n",
       "\n",
       "   Standardized_Fare  \n",
       "0          -0.503586  \n",
       "1           0.783412  \n",
       "2          -0.490020  \n",
       "3           0.417948  \n",
       "4          -0.487507  "
      ]
     },
     "execution_count": 86,
     "metadata": {},
     "output_type": "execute_result"
    }
   ],
   "source": [
    "standardized=StandardScaler()\n",
    "standardized_df=standardized.fit_transform(features_to_scale)\n",
    "standardized_df=pd.DataFrame(standardized_df, columns=['Standardized_Age','Standardized_Fare'])\n",
    "scaled_df=pd.concat([scaled_df,standardized_df], axis=1)\n",
    "scaled_df.head()"
   ]
  },
  {
   "cell_type": "markdown",
   "metadata": {},
   "source": [
    "Let's check the distribution of gender before standardization and after standardization <br />\n",
    "Before Standardization"
   ]
  },
  {
   "cell_type": "code",
   "execution_count": 87,
   "metadata": {},
   "outputs": [
    {
     "data": {
      "image/png": "[encoded data removed]",
      "text/plain": [
       "<Figure size 1440x720 with 1 Axes>"
      ]
     },
     "metadata": {},
     "output_type": "display_data"
    }
   ],
   "source": [
    "plt.rcParams['axes.labelsize'] = 20\n",
    "sns.set(font_scale = 2)\n",
    "plt.rcParams['text.color'] = 'blue'\n",
    "plt.rcParams['font.size'] = 20\n",
    "\n",
    "sns.kdeplot(data=scaled_df, x=\"Age\", fill=True, common_norm=False, palette=\"crest\",  alpha=.5, linewidth=0,)\n",
    "plt.show()"
   ]
  },
  {
   "cell_type": "markdown",
   "metadata": {},
   "source": [
    "After Standardization"
   ]
  },
  {
   "cell_type": "code",
   "execution_count": 88,
   "metadata": {},
   "outputs": [
    {
     "data": {
      "image/png": "[encoded data removed]",
      "text/plain": [
       "<Figure size 1440x720 with 1 Axes>"
      ]
     },
     "metadata": {},
     "output_type": "display_data"
    }
   ],
   "source": [
    "plt.rcParams['axes.labelsize'] = 20\n",
    "sns.set(font_scale = 2)\n",
    "plt.rcParams['text.color'] = 'blue'\n",
    "plt.rcParams['font.size'] = 20\n",
    "\n",
    "sns.kdeplot(data=scaled_df, x=\"Standardized_Age\", fill=True, common_norm=False, palette=\"crest\",  alpha=.5, linewidth=0,)\n",
    "sns.kdeplot(data=scaled_df, x=\"Normalized_Age\", fill=True, common_norm=False, palette=\"crest\",  alpha=.5, linewidth=0,)\n",
    "plt.legend(labels=[\"Standardized\",\"Normalized\"])\n",
    "plt.show()"
   ]
  }
 ],
 "metadata": {
  "kernelspec": {
   "display_name": "Python 3",
   "language": "python",
   "name": "python3"
  },
  "language_info": {
   "codemirror_mode": {
    "name": "ipython",
    "version": 3
   },
   "file_extension": ".py",
   "mimetype": "text/x-python",
   "name": "python",
   "nbconvert_exporter": "python",
   "pygments_lexer": "ipython3",
   "version": "3.6.5"
  }
 },
 "nbformat": 4,
 "nbformat_minor": 2
}

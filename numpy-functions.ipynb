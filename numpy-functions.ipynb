{
 "cells": [
  {
   "cell_type": "markdown",
   "metadata": {},
   "source": [
    "## Import NumPy"
   ]
  },
  {
   "cell_type": "code",
   "execution_count": 1,
   "metadata": {},
   "outputs": [],
   "source": [
    "import numpy as np"
   ]
  },
  {
   "cell_type": "markdown",
   "metadata": {},
   "source": [
    "## Creating Arrays"
   ]
  },
  {
   "cell_type": "markdown",
   "metadata": {},
   "source": [
    "###### Create a 1-Dimesnional numpy array"
   ]
  },
  {
   "cell_type": "code",
   "execution_count": 2,
   "metadata": {},
   "outputs": [
    {
     "name": "stdout",
     "output_type": "stream",
     "text": [
      "[70 63 81 58 76]\n"
     ]
    }
   ],
   "source": [
    "score=np.array([70,63,81,58,76])\n",
    "print(score)"
   ]
  },
  {
   "cell_type": "markdown",
   "metadata": {},
   "source": [
    "###### Create a  4*5 2-D array with elements from 0 to 19 sorted ascending"
   ]
  },
  {
   "cell_type": "code",
   "execution_count": 3,
   "metadata": {},
   "outputs": [
    {
     "name": "stdout",
     "output_type": "stream",
     "text": [
      "[[ 0  1  2  3  4]\n",
      " [ 5  6  7  8  9]\n",
      " [10 11 12 13 14]\n",
      " [15 16 17 18 19]]\n"
     ]
    }
   ],
   "source": [
    "numbers_array=np.arange(20).reshape(4,5)\n",
    "print(numbers_array)"
   ]
  },
  {
   "cell_type": "code",
   "execution_count": 4,
   "metadata": {},
   "outputs": [
    {
     "name": "stdout",
     "output_type": "stream",
     "text": [
      "Array 1 \n",
      "  [[ 0  1  2  3  4]\n",
      " [ 5  6  7  8  9]\n",
      " [10 11 12 13 14]\n",
      " [15 16 17 18 19]]\n",
      "\n",
      "Array 2 \n",
      " [[ 0  5 10 15 20]\n",
      " [25 30 35 40 45]\n",
      " [50 55 60 65 70]\n",
      " [75 80 85 90 95]]\n"
     ]
    }
   ],
   "source": [
    "array_1=np.arange(20).reshape(4,5)\n",
    "print(\"Array 1 \\n \",array_1)\n",
    "\n",
    "array_2=np.arange(20).reshape(4,5)*5\n",
    "print(\"\\nArray 2 \\n\",array_2)"
   ]
  },
  {
   "cell_type": "markdown",
   "metadata": {},
   "source": [
    "###### Create a 2*5 2-Dimesnional numpy array"
   ]
  },
  {
   "cell_type": "code",
   "execution_count": 5,
   "metadata": {},
   "outputs": [
    {
     "name": "stdout",
     "output_type": "stream",
     "text": [
      "[[70.  63.  81.  58.  76. ]\n",
      " [ 5.1  4.5  6.   5.3  5.5]]\n"
     ]
    }
   ],
   "source": [
    "score_height=np.array([([70,63,81,58,76]),(5.1,4.5,6.0,5.3,5.5)])\n",
    "print(score_height)"
   ]
  },
  {
   "cell_type": "markdown",
   "metadata": {},
   "source": [
    "###### Create a 4*5 2-Dimesnional 0s numpy array"
   ]
  },
  {
   "cell_type": "code",
   "execution_count": 6,
   "metadata": {},
   "outputs": [
    {
     "name": "stdout",
     "output_type": "stream",
     "text": [
      "[[0 0 0 0 0]\n",
      " [0 0 0 0 0]\n",
      " [0 0 0 0 0]\n",
      " [0 0 0 0 0]]\n"
     ]
    }
   ],
   "source": [
    "zero=np.zeros((4,5),dtype=np.int16)\n",
    "print(zero)"
   ]
  },
  {
   "cell_type": "markdown",
   "metadata": {},
   "source": [
    "###### Create a 4*5 2-Dimesnional 1s numpy array"
   ]
  },
  {
   "cell_type": "code",
   "execution_count": 7,
   "metadata": {},
   "outputs": [
    {
     "name": "stdout",
     "output_type": "stream",
     "text": [
      "[[1 1 1 1 1]\n",
      " [1 1 1 1 1]\n",
      " [1 1 1 1 1]\n",
      " [1 1 1 1 1]]\n"
     ]
    }
   ],
   "source": [
    "one=np.ones((4,5),dtype=np.int16)\n",
    "print(one)"
   ]
  },
  {
   "cell_type": "markdown",
   "metadata": {},
   "source": [
    "###### Create a 5*5 identity matrix"
   ]
  },
  {
   "cell_type": "code",
   "execution_count": 8,
   "metadata": {},
   "outputs": [
    {
     "name": "stdout",
     "output_type": "stream",
     "text": [
      "[[1 0 0 0 0]\n",
      " [0 1 0 0 0]\n",
      " [0 0 1 0 0]\n",
      " [0 0 0 1 0]\n",
      " [0 0 0 0 1]]\n"
     ]
    }
   ],
   "source": [
    "identity=np.eye(5,dtype=np.int16)\n",
    "print(identity)"
   ]
  },
  {
   "cell_type": "markdown",
   "metadata": {},
   "source": [
    "## Inspecting Arrays"
   ]
  },
  {
   "cell_type": "markdown",
   "metadata": {},
   "source": [
    "###### Find the number of elements in an array"
   ]
  },
  {
   "cell_type": "code",
   "execution_count": 9,
   "metadata": {},
   "outputs": [
    {
     "name": "stdout",
     "output_type": "stream",
     "text": [
      "[[70.  63.  81.  58.  76. ]\n",
      " [ 5.1  4.5  6.   5.3  5.5]]\n",
      "10\n"
     ]
    }
   ],
   "source": [
    "print(score_height)\n",
    "print(score_height.size)"
   ]
  },
  {
   "cell_type": "markdown",
   "metadata": {},
   "source": [
    "###### Find the dimensions of an array"
   ]
  },
  {
   "cell_type": "code",
   "execution_count": 10,
   "metadata": {},
   "outputs": [
    {
     "name": "stdout",
     "output_type": "stream",
     "text": [
      "(2, 5)\n"
     ]
    }
   ],
   "source": [
    "print(score_height.shape)"
   ]
  },
  {
   "cell_type": "markdown",
   "metadata": {},
   "source": [
    "###### Find the data type of elements in the array"
   ]
  },
  {
   "cell_type": "code",
   "execution_count": 11,
   "metadata": {},
   "outputs": [
    {
     "name": "stdout",
     "output_type": "stream",
     "text": [
      "float64\n"
     ]
    }
   ],
   "source": [
    "print(score_height.dtype)"
   ]
  },
  {
   "cell_type": "markdown",
   "metadata": {},
   "source": [
    "###### Convert array to Python list"
   ]
  },
  {
   "cell_type": "code",
   "execution_count": 12,
   "metadata": {},
   "outputs": [
    {
     "name": "stdout",
     "output_type": "stream",
     "text": [
      "NumPy array : \n",
      "  [[70.  63.  81.  58.  76. ]\n",
      " [ 5.1  4.5  6.   5.3  5.5]]\n",
      "\n",
      "Python list : \n",
      " [[70.0, 63.0, 81.0, 58.0, 76.0], [5.1, 4.5, 6.0, 5.3, 5.5]]\n"
     ]
    }
   ],
   "source": [
    "print(\"NumPy array : \\n \",score_height)\n",
    "print(\"\\nPython list : \\n\",score_height.tolist())"
   ]
  },
  {
   "cell_type": "markdown",
   "metadata": {},
   "source": [
    "## Adding Elements to an array"
   ]
  },
  {
   "cell_type": "markdown",
   "metadata": {},
   "source": [
    "###### Append new elements at the end of an array"
   ]
  },
  {
   "cell_type": "code",
   "execution_count": 13,
   "metadata": {},
   "outputs": [
    {
     "name": "stdout",
     "output_type": "stream",
     "text": [
      "[70 63 81 58 76 90]\n",
      "[70 63 81 58 76 90 45 59 94]\n"
     ]
    }
   ],
   "source": [
    "score=np.append(score,90)\n",
    "print(score)\n",
    "score=np.append(score,[45,59,94])\n",
    "print(score)"
   ]
  },
  {
   "cell_type": "markdown",
   "metadata": {},
   "source": [
    "###### Insert new element(s) at a specific position in an array"
   ]
  },
  {
   "cell_type": "code",
   "execution_count": 14,
   "metadata": {},
   "outputs": [
    {
     "name": "stdout",
     "output_type": "stream",
     "text": [
      "[70 63 81 20 58 76 90 45 59 94]\n"
     ]
    }
   ],
   "source": [
    "score=np.insert(score,3,20)\n",
    "print(score)"
   ]
  },
  {
   "cell_type": "markdown",
   "metadata": {},
   "source": [
    "## Removing Elements from an array"
   ]
  },
  {
   "cell_type": "markdown",
   "metadata": {},
   "source": [
    "###### Delete row on index 2 from an array"
   ]
  },
  {
   "cell_type": "code",
   "execution_count": 15,
   "metadata": {},
   "outputs": [
    {
     "name": "stdout",
     "output_type": "stream",
     "text": [
      "[70 63 81 20 58 76 90 45 59 94]\n",
      "\n",
      "Removed 76 from the original array \n",
      " [70 63 20 58 76 90 45 59 94]\n"
     ]
    }
   ],
   "source": [
    "print(score)\n",
    "score=np.delete(score,2,axis=0)\n",
    "print(\"\\nRemoved 76 from the original array \\n\",score)"
   ]
  },
  {
   "cell_type": "markdown",
   "metadata": {},
   "source": [
    "###### Delete column on index 2 from an array"
   ]
  },
  {
   "cell_type": "code",
   "execution_count": 16,
   "metadata": {},
   "outputs": [
    {
     "name": "stdout",
     "output_type": "stream",
     "text": [
      "[[70.  63.  81.  58.  76. ]\n",
      " [ 5.1  4.5  6.   5.3  5.5]]\n",
      "\n",
      "Remove element at index 2 \n",
      " [[70.  63.  58.  76. ]\n",
      " [ 5.1  4.5  5.3  5.5]]\n"
     ]
    }
   ],
   "source": [
    "print(score_height)\n",
    "score_height=np.delete(score_height,2,axis=1)\n",
    "print(\"\\nRemove element at index 2 \\n\",score_height)"
   ]
  },
  {
   "cell_type": "markdown",
   "metadata": {},
   "source": [
    "## Copying Array"
   ]
  },
  {
   "cell_type": "markdown",
   "metadata": {},
   "source": [
    "###### Copy array"
   ]
  },
  {
   "cell_type": "code",
   "execution_count": 17,
   "metadata": {},
   "outputs": [
    {
     "name": "stdout",
     "output_type": "stream",
     "text": [
      "[[70.  63.  58.  76. ]\n",
      " [ 5.1  4.5  5.3  5.5]]\n"
     ]
    }
   ],
   "source": [
    "new_score_height=np.copy(score_height)\n",
    "print(new_score_height)"
   ]
  },
  {
   "cell_type": "markdown",
   "metadata": {},
   "source": [
    "## Sorting Array"
   ]
  },
  {
   "cell_type": "markdown",
   "metadata": {},
   "source": [
    "###### Sort array"
   ]
  },
  {
   "cell_type": "code",
   "execution_count": 18,
   "metadata": {},
   "outputs": [
    {
     "name": "stdout",
     "output_type": "stream",
     "text": [
      "Original Array \n",
      " [[70.  63.  58.  76. ]\n",
      " [ 5.1  4.5  5.3  5.5]]\n",
      "\n",
      "Rowise sorted Array \n",
      " None\n",
      "\n",
      "Columnwise sorted Array \n",
      " None\n",
      "\n",
      " sorted Array \n",
      " None\n"
     ]
    }
   ],
   "source": [
    "print(\"Original Array \\n\", score_height)\n",
    "print(\"\\nRowise sorted Array \\n\", score_height.sort(axis=1))\n",
    "print(\"\\nColumnwise sorted Array \\n\", score_height.sort(axis=0))\n",
    "print(\"\\n sorted Array \\n\", score_height.sort())"
   ]
  },
  {
   "cell_type": "markdown",
   "metadata": {},
   "source": [
    "## Reshaping Array"
   ]
  },
  {
   "cell_type": "markdown",
   "metadata": {},
   "source": [
    "###### Resize the array"
   ]
  },
  {
   "cell_type": "code",
   "execution_count": 19,
   "metadata": {},
   "outputs": [
    {
     "name": "stdout",
     "output_type": "stream",
     "text": [
      "None\n"
     ]
    }
   ],
   "source": [
    "resized_score_height=score_height.resize((5,8))\n",
    "print(resized_score_height)"
   ]
  },
  {
   "cell_type": "markdown",
   "metadata": {},
   "source": [
    "###### Reshape the array"
   ]
  },
  {
   "cell_type": "code",
   "execution_count": 20,
   "metadata": {},
   "outputs": [
    {
     "name": "stdout",
     "output_type": "stream",
     "text": [
      "[[ 4.5  5.1  5.3  5.5 58.  63.  70.  76.   0.   0. ]\n",
      " [ 0.   0.   0.   0.   0.   0.   0.   0.   0.   0. ]\n",
      " [ 0.   0.   0.   0.   0.   0.   0.   0.   0.   0. ]\n",
      " [ 0.   0.   0.   0.   0.   0.   0.   0.   0.   0. ]]\n"
     ]
    }
   ],
   "source": [
    "reshape_score_height=score_height.reshape(4,10)\n",
    "print(reshape_score_height)"
   ]
  },
  {
   "cell_type": "markdown",
   "metadata": {},
   "source": [
    "###### Flattens  2-D array to 1-D array"
   ]
  },
  {
   "cell_type": "code",
   "execution_count": 21,
   "metadata": {},
   "outputs": [
    {
     "name": "stdout",
     "output_type": "stream",
     "text": [
      "[ 4.5  5.1  5.3  5.5 58.  63.  70.  76.   0.   0.   0.   0.   0.   0.\n",
      "  0.   0.   0.   0.   0.   0.   0.   0.   0.   0.   0.   0.   0.   0.\n",
      "  0.   0.   0.   0.   0.   0.   0.   0.   0.   0.   0.   0. ]\n"
     ]
    }
   ],
   "source": [
    "flattened_score_height=score_height.flatten()\n",
    "print(flattened_score_height)"
   ]
  },
  {
   "cell_type": "markdown",
   "metadata": {},
   "source": [
    "###### Transposes Array"
   ]
  },
  {
   "cell_type": "code",
   "execution_count": 22,
   "metadata": {},
   "outputs": [
    {
     "name": "stdout",
     "output_type": "stream",
     "text": [
      "[[ 4.5  5.1  5.3  5.5 58.  63.  70.  76. ]\n",
      " [ 0.   0.   0.   0.   0.   0.   0.   0. ]\n",
      " [ 0.   0.   0.   0.   0.   0.   0.   0. ]\n",
      " [ 0.   0.   0.   0.   0.   0.   0.   0. ]\n",
      " [ 0.   0.   0.   0.   0.   0.   0.   0. ]]\n"
     ]
    }
   ],
   "source": [
    "transposed_score_height=score_height.T\n",
    "print(score_height)"
   ]
  },
  {
   "cell_type": "markdown",
   "metadata": {},
   "source": [
    "## Combining Arrays"
   ]
  },
  {
   "cell_type": "markdown",
   "metadata": {},
   "source": [
    "###### Concatenate arrays along specified axis"
   ]
  },
  {
   "cell_type": "code",
   "execution_count": 23,
   "metadata": {},
   "outputs": [
    {
     "name": "stdout",
     "output_type": "stream",
     "text": [
      "[[ 0  1  2  3  4]\n",
      " [ 5  6  7  8  9]\n",
      " [10 11 12 13 14]\n",
      " [15 16 17 18 19]\n",
      " [ 0  5 10 15 20]\n",
      " [25 30 35 40 45]\n",
      " [50 55 60 65 70]\n",
      " [75 80 85 90 95]]\n",
      "\n",
      "\n",
      "[[ 0  1  2  3  4  0  5 10 15 20]\n",
      " [ 5  6  7  8  9 25 30 35 40 45]\n",
      " [10 11 12 13 14 50 55 60 65 70]\n",
      " [15 16 17 18 19 75 80 85 90 95]]\n"
     ]
    }
   ],
   "source": [
    "print(np.concatenate((array_1,array_2),axis=0))\n",
    "print(\"\\n\")\n",
    "print(np.concatenate((array_1,array_2),axis=1))"
   ]
  },
  {
   "cell_type": "markdown",
   "metadata": {},
   "source": [
    "## Scalar Math Functions"
   ]
  },
  {
   "cell_type": "markdown",
   "metadata": {},
   "source": [
    "###### Add 2 to each element in array"
   ]
  },
  {
   "cell_type": "code",
   "execution_count": 24,
   "metadata": {},
   "outputs": [
    {
     "name": "stdout",
     "output_type": "stream",
     "text": [
      "[[ 6.5  7.1  7.3  7.5 60.  65.  72.  78. ]\n",
      " [ 2.   2.   2.   2.   2.   2.   2.   2. ]\n",
      " [ 2.   2.   2.   2.   2.   2.   2.   2. ]\n",
      " [ 2.   2.   2.   2.   2.   2.   2.   2. ]\n",
      " [ 2.   2.   2.   2.   2.   2.   2.   2. ]]\n"
     ]
    }
   ],
   "source": [
    "print(np.add(score_height,2))"
   ]
  },
  {
   "cell_type": "markdown",
   "metadata": {},
   "source": [
    "###### Remove 2 to each element in array"
   ]
  },
  {
   "cell_type": "code",
   "execution_count": 25,
   "metadata": {},
   "outputs": [
    {
     "name": "stdout",
     "output_type": "stream",
     "text": [
      "[[ 2.5  3.1  3.3  3.5 56.  61.  68.  74. ]\n",
      " [-2.  -2.  -2.  -2.  -2.  -2.  -2.  -2. ]\n",
      " [-2.  -2.  -2.  -2.  -2.  -2.  -2.  -2. ]\n",
      " [-2.  -2.  -2.  -2.  -2.  -2.  -2.  -2. ]\n",
      " [-2.  -2.  -2.  -2.  -2.  -2.  -2.  -2. ]]\n"
     ]
    }
   ],
   "source": [
    "print(np.subtract(score_height,2))"
   ]
  },
  {
   "cell_type": "markdown",
   "metadata": {},
   "source": [
    "###### Multiply each element in array by 2"
   ]
  },
  {
   "cell_type": "code",
   "execution_count": 26,
   "metadata": {},
   "outputs": [
    {
     "name": "stdout",
     "output_type": "stream",
     "text": [
      "[[  9.   10.2  10.6  11.  116.  126.  140.  152. ]\n",
      " [  0.    0.    0.    0.    0.    0.    0.    0. ]\n",
      " [  0.    0.    0.    0.    0.    0.    0.    0. ]\n",
      " [  0.    0.    0.    0.    0.    0.    0.    0. ]\n",
      " [  0.    0.    0.    0.    0.    0.    0.    0. ]]\n"
     ]
    }
   ],
   "source": [
    "print(np.multiply(score_height,2))"
   ]
  },
  {
   "cell_type": "markdown",
   "metadata": {},
   "source": [
    "###### Divide each element in array by 2"
   ]
  },
  {
   "cell_type": "code",
   "execution_count": 27,
   "metadata": {},
   "outputs": [
    {
     "name": "stdout",
     "output_type": "stream",
     "text": [
      "[[ 2.25  2.55  2.65  2.75 29.   31.5  35.   38.  ]\n",
      " [ 0.    0.    0.    0.    0.    0.    0.    0.  ]\n",
      " [ 0.    0.    0.    0.    0.    0.    0.    0.  ]\n",
      " [ 0.    0.    0.    0.    0.    0.    0.    0.  ]\n",
      " [ 0.    0.    0.    0.    0.    0.    0.    0.  ]]\n"
     ]
    }
   ],
   "source": [
    "print(np.divide(score_height,2))"
   ]
  },
  {
   "cell_type": "markdown",
   "metadata": {},
   "source": [
    "###### Raise each element in array to power 2"
   ]
  },
  {
   "cell_type": "code",
   "execution_count": 28,
   "metadata": {},
   "outputs": [
    {
     "name": "stdout",
     "output_type": "stream",
     "text": [
      "[[  20.25   26.01   28.09   30.25 3364.   3969.   4900.   5776.  ]\n",
      " [   0.      0.      0.      0.      0.      0.      0.      0.  ]\n",
      " [   0.      0.      0.      0.      0.      0.      0.      0.  ]\n",
      " [   0.      0.      0.      0.      0.      0.      0.      0.  ]\n",
      " [   0.      0.      0.      0.      0.      0.      0.      0.  ]]\n"
     ]
    }
   ],
   "source": [
    "print(np.power(score_height,2))"
   ]
  },
  {
   "cell_type": "markdown",
   "metadata": {},
   "source": [
    "###### Return Square root of each element in the array"
   ]
  },
  {
   "cell_type": "code",
   "execution_count": 29,
   "metadata": {},
   "outputs": [
    {
     "name": "stdout",
     "output_type": "stream",
     "text": [
      "[[2.12132034 2.25831796 2.30217289 2.34520788 7.61577311 7.93725393\n",
      "  8.36660027 8.71779789]\n",
      " [0.         0.         0.         0.         0.         0.\n",
      "  0.         0.        ]\n",
      " [0.         0.         0.         0.         0.         0.\n",
      "  0.         0.        ]\n",
      " [0.         0.         0.         0.         0.         0.\n",
      "  0.         0.        ]\n",
      " [0.         0.         0.         0.         0.         0.\n",
      "  0.         0.        ]]\n"
     ]
    }
   ],
   "source": [
    "print(np.sqrt(score_height))"
   ]
  },
  {
   "cell_type": "markdown",
   "metadata": {},
   "source": [
    "###### Return Sine of each element in the array"
   ]
  },
  {
   "cell_type": "code",
   "execution_count": 30,
   "metadata": {},
   "outputs": [
    {
     "name": "stdout",
     "output_type": "stream",
     "text": [
      "[[-0.97753012 -0.92581468 -0.83226744 -0.70554033  0.99287265  0.1673557\n",
      "   0.77389068  0.56610764]\n",
      " [ 0.          0.          0.          0.          0.          0.\n",
      "   0.          0.        ]\n",
      " [ 0.          0.          0.          0.          0.          0.\n",
      "   0.          0.        ]\n",
      " [ 0.          0.          0.          0.          0.          0.\n",
      "   0.          0.        ]\n",
      " [ 0.          0.          0.          0.          0.          0.\n",
      "   0.          0.        ]]\n"
     ]
    }
   ],
   "source": [
    "print(np.sin(score_height))"
   ]
  },
  {
   "cell_type": "markdown",
   "metadata": {},
   "source": [
    "###### Return Natural log of each element in the array"
   ]
  },
  {
   "cell_type": "code",
   "execution_count": 31,
   "metadata": {},
   "outputs": [
    {
     "name": "stdout",
     "output_type": "stream",
     "text": [
      "[[1.5040774  1.62924054 1.66770682 1.70474809 4.06044301 4.14313473\n",
      "  4.24849524 4.33073334]\n",
      " [      -inf       -inf       -inf       -inf       -inf       -inf\n",
      "        -inf       -inf]\n",
      " [      -inf       -inf       -inf       -inf       -inf       -inf\n",
      "        -inf       -inf]\n",
      " [      -inf       -inf       -inf       -inf       -inf       -inf\n",
      "        -inf       -inf]\n",
      " [      -inf       -inf       -inf       -inf       -inf       -inf\n",
      "        -inf       -inf]]\n"
     ]
    },
    {
     "name": "stderr",
     "output_type": "stream",
     "text": [
      "C:\\Users\\soongaya\\Anaconda3\\lib\\site-packages\\ipykernel_launcher.py:1: RuntimeWarning: divide by zero encountered in log\n",
      "  \"\"\"Entry point for launching an IPython kernel.\n"
     ]
    }
   ],
   "source": [
    "print(np.log(score_height))"
   ]
  },
  {
   "cell_type": "markdown",
   "metadata": {},
   "source": [
    "###### Return Absolute value of each element in the array"
   ]
  },
  {
   "cell_type": "code",
   "execution_count": 32,
   "metadata": {},
   "outputs": [
    {
     "name": "stdout",
     "output_type": "stream",
     "text": [
      "[[ 4.5  5.1  5.3  5.5 58.  63.  70.  76. ]\n",
      " [ 0.   0.   0.   0.   0.   0.   0.   0. ]\n",
      " [ 0.   0.   0.   0.   0.   0.   0.   0. ]\n",
      " [ 0.   0.   0.   0.   0.   0.   0.   0. ]\n",
      " [ 0.   0.   0.   0.   0.   0.   0.   0. ]]\n"
     ]
    }
   ],
   "source": [
    "print(np.abs(score_height))"
   ]
  },
  {
   "cell_type": "markdown",
   "metadata": {},
   "source": [
    "###### Rounds up to the nearest whole number"
   ]
  },
  {
   "cell_type": "code",
   "execution_count": 33,
   "metadata": {},
   "outputs": [
    {
     "name": "stdout",
     "output_type": "stream",
     "text": [
      "[[ 5.  6.  6.  6. 58. 63. 70. 76.]\n",
      " [ 0.  0.  0.  0.  0.  0.  0.  0.]\n",
      " [ 0.  0.  0.  0.  0.  0.  0.  0.]\n",
      " [ 0.  0.  0.  0.  0.  0.  0.  0.]\n",
      " [ 0.  0.  0.  0.  0.  0.  0.  0.]]\n"
     ]
    }
   ],
   "source": [
    "print(np.ceil(score_height))"
   ]
  },
  {
   "cell_type": "markdown",
   "metadata": {},
   "source": [
    "###### Rounds down to the nearest whole number"
   ]
  },
  {
   "cell_type": "code",
   "execution_count": 34,
   "metadata": {},
   "outputs": [
    {
     "name": "stdout",
     "output_type": "stream",
     "text": [
      "[[ 4.  5.  5.  5. 58. 63. 70. 76.]\n",
      " [ 0.  0.  0.  0.  0.  0.  0.  0.]\n",
      " [ 0.  0.  0.  0.  0.  0.  0.  0.]\n",
      " [ 0.  0.  0.  0.  0.  0.  0.  0.]\n",
      " [ 0.  0.  0.  0.  0.  0.  0.  0.]]\n"
     ]
    }
   ],
   "source": [
    "print(np.floor(score_height))"
   ]
  },
  {
   "cell_type": "markdown",
   "metadata": {},
   "source": [
    "###### Rounds to the nearest whole number"
   ]
  },
  {
   "cell_type": "code",
   "execution_count": 35,
   "metadata": {},
   "outputs": [
    {
     "name": "stdout",
     "output_type": "stream",
     "text": [
      "[[ 4.  5.  5.  6. 58. 63. 70. 76.]\n",
      " [ 0.  0.  0.  0.  0.  0.  0.  0.]\n",
      " [ 0.  0.  0.  0.  0.  0.  0.  0.]\n",
      " [ 0.  0.  0.  0.  0.  0.  0.  0.]\n",
      " [ 0.  0.  0.  0.  0.  0.  0.  0.]]\n"
     ]
    }
   ],
   "source": [
    "print(np.round(score_height))"
   ]
  },
  {
   "cell_type": "markdown",
   "metadata": {},
   "source": [
    "## Vector Math Functions"
   ]
  },
  {
   "cell_type": "markdown",
   "metadata": {},
   "source": [
    "###### Elementwise Addition"
   ]
  },
  {
   "cell_type": "code",
   "execution_count": 36,
   "metadata": {},
   "outputs": [
    {
     "name": "stdout",
     "output_type": "stream",
     "text": [
      "\n",
      "Array_1 + Array_2\n",
      "[[  0   6  12  18  24]\n",
      " [ 30  36  42  48  54]\n",
      " [ 60  66  72  78  84]\n",
      " [ 90  96 102 108 114]]\n"
     ]
    }
   ],
   "source": [
    "print(\"\\nArray_1 + Array_2\")\n",
    "print(np.add(array_1,array_2))"
   ]
  },
  {
   "cell_type": "markdown",
   "metadata": {},
   "source": [
    "###### Elementwise Subtraction"
   ]
  },
  {
   "cell_type": "code",
   "execution_count": 37,
   "metadata": {},
   "outputs": [
    {
     "name": "stdout",
     "output_type": "stream",
     "text": [
      "[[  0  -4  -8 -12 -16]\n",
      " [-20 -24 -28 -32 -36]\n",
      " [-40 -44 -48 -52 -56]\n",
      " [-60 -64 -68 -72 -76]]\n"
     ]
    }
   ],
   "source": [
    "print(np.subtract(array_1,array_2))"
   ]
  },
  {
   "cell_type": "markdown",
   "metadata": {},
   "source": [
    "###### Elementwise Multiplication"
   ]
  },
  {
   "cell_type": "code",
   "execution_count": 38,
   "metadata": {},
   "outputs": [
    {
     "name": "stdout",
     "output_type": "stream",
     "text": [
      "[[   0    5   20   45   80]\n",
      " [ 125  180  245  320  405]\n",
      " [ 500  605  720  845  980]\n",
      " [1125 1280 1445 1620 1805]]\n"
     ]
    }
   ],
   "source": [
    "print(np.multiply(array_1,array_2))"
   ]
  },
  {
   "cell_type": "markdown",
   "metadata": {},
   "source": [
    "###### Elementwise Divition"
   ]
  },
  {
   "cell_type": "code",
   "execution_count": 39,
   "metadata": {},
   "outputs": [
    {
     "name": "stdout",
     "output_type": "stream",
     "text": [
      "[[nan 0.2 0.2 0.2 0.2]\n",
      " [0.2 0.2 0.2 0.2 0.2]\n",
      " [0.2 0.2 0.2 0.2 0.2]\n",
      " [0.2 0.2 0.2 0.2 0.2]]\n"
     ]
    },
    {
     "name": "stderr",
     "output_type": "stream",
     "text": [
      "C:\\Users\\soongaya\\Anaconda3\\lib\\site-packages\\ipykernel_launcher.py:1: RuntimeWarning: invalid value encountered in true_divide\n",
      "  \"\"\"Entry point for launching an IPython kernel.\n"
     ]
    }
   ],
   "source": [
    "print(np.divide(array_1,array_2))"
   ]
  },
  {
   "cell_type": "markdown",
   "metadata": {},
   "source": [
    "###### Elementwise Power"
   ]
  },
  {
   "cell_type": "code",
   "execution_count": 40,
   "metadata": {},
   "outputs": [
    {
     "name": "stdout",
     "output_type": "stream",
     "text": [
      "[[          1           1        1024    14348907           0]\n",
      " [  167814181  1073741824   613813847           0 -1054898967]\n",
      " [          0  2138032771           0  -476037875           0]\n",
      " [  511147439           0    72095569           0 -1801488741]]\n"
     ]
    }
   ],
   "source": [
    "print(np.power(array_1,array_2))"
   ]
  },
  {
   "cell_type": "markdown",
   "metadata": {},
   "source": [
    "###### Inner product"
   ]
  },
  {
   "cell_type": "code",
   "execution_count": 41,
   "metadata": {},
   "outputs": [
    {
     "name": "stdout",
     "output_type": "stream",
     "text": [
      "[[ 150  400  650  900]\n",
      " [ 400 1275 2150 3025]\n",
      " [ 650 2150 3650 5150]\n",
      " [ 900 3025 5150 7275]]\n"
     ]
    }
   ],
   "source": [
    "print(np.inner(array_1,array_2))"
   ]
  },
  {
   "cell_type": "markdown",
   "metadata": {},
   "source": [
    "## NumPy Statistics functions"
   ]
  },
  {
   "attachments": {},
   "cell_type": "markdown",
   "metadata": {},
   "source": [
    "###### Sum all elements in an array using sum() function\n",
    "sum() function offers better performance than manually iterating through each element"
   ]
  },
  {
   "cell_type": "code",
   "execution_count": 42,
   "metadata": {},
   "outputs": [
    {
     "name": "stdout",
     "output_type": "stream",
     "text": [
      "1. Original array \n",
      " [[ 4.5  5.1  5.3  5.5 58.  63.  70.  76. ]\n",
      " [ 0.   0.   0.   0.   0.   0.   0.   0. ]\n",
      " [ 0.   0.   0.   0.   0.   0.   0.   0. ]\n",
      " [ 0.   0.   0.   0.   0.   0.   0.   0. ]\n",
      " [ 0.   0.   0.   0.   0.   0.   0.   0. ]]\n",
      "\n",
      "2. Sum of columns \n",
      "  [ 4.5  5.1  5.3  5.5 58.  63.  70.  76. ]\n",
      "\n",
      "3. Sum of rows \n",
      "  [287.4   0.    0.    0.    0. ]\n",
      "\n",
      "4. Sum of all elements \n",
      " 287.4\n"
     ]
    }
   ],
   "source": [
    "print(\"1. Original array \\n\",score_height)\n",
    "print(\"\\n2. Sum of columns \\n \",np.sum(score_height,axis=0))\n",
    "print(\"\\n3. Sum of rows \\n \",np.sum(score_height,axis=1))\n",
    "print(\"\\n4. Sum of all elements \\n\",np.sum(score_height))"
   ]
  },
  {
   "cell_type": "markdown",
   "metadata": {},
   "source": [
    "###### Cumulative sum"
   ]
  },
  {
   "cell_type": "code",
   "execution_count": 43,
   "metadata": {},
   "outputs": [
    {
     "name": "stdout",
     "output_type": "stream",
     "text": [
      "1. Original array \n",
      " [[ 4.5  5.1  5.3  5.5 58.  63.  70.  76. ]\n",
      " [ 0.   0.   0.   0.   0.   0.   0.   0. ]\n",
      " [ 0.   0.   0.   0.   0.   0.   0.   0. ]\n",
      " [ 0.   0.   0.   0.   0.   0.   0.   0. ]\n",
      " [ 0.   0.   0.   0.   0.   0.   0.   0. ]]\n",
      "\n",
      "2. Cumulative sum of columns \n",
      "  [[ 4.5  5.1  5.3  5.5 58.  63.  70.  76. ]\n",
      " [ 4.5  5.1  5.3  5.5 58.  63.  70.  76. ]\n",
      " [ 4.5  5.1  5.3  5.5 58.  63.  70.  76. ]\n",
      " [ 4.5  5.1  5.3  5.5 58.  63.  70.  76. ]\n",
      " [ 4.5  5.1  5.3  5.5 58.  63.  70.  76. ]]\n",
      "\n",
      "3. Cumulative sum of rows \n",
      "  [[  4.5   9.6  14.9  20.4  78.4 141.4 211.4 287.4]\n",
      " [  0.    0.    0.    0.    0.    0.    0.    0. ]\n",
      " [  0.    0.    0.    0.    0.    0.    0.    0. ]\n",
      " [  0.    0.    0.    0.    0.    0.    0.    0. ]\n",
      " [  0.    0.    0.    0.    0.    0.    0.    0. ]]\n",
      "\n",
      "4. Cumulative sum of all elements \n",
      " [  4.5   9.6  14.9  20.4  78.4 141.4 211.4 287.4 287.4 287.4 287.4 287.4\n",
      " 287.4 287.4 287.4 287.4 287.4 287.4 287.4 287.4 287.4 287.4 287.4 287.4\n",
      " 287.4 287.4 287.4 287.4 287.4 287.4 287.4 287.4 287.4 287.4 287.4 287.4\n",
      " 287.4 287.4 287.4 287.4]\n"
     ]
    }
   ],
   "source": [
    "print(\"1. Original array \\n\",score_height)\n",
    "print(\"\\n2. Cumulative sum of columns \\n \",np.cumsum(score_height,axis=0))\n",
    "print(\"\\n3. Cumulative sum of rows \\n \",np.cumsum(score_height,axis=1))\n",
    "print(\"\\n4. Cumulative sum of all elements \\n\",np.cumsum(score_height))"
   ]
  },
  {
   "cell_type": "markdown",
   "metadata": {},
   "source": [
    "###### Return the product of array elements"
   ]
  },
  {
   "cell_type": "code",
   "execution_count": 44,
   "metadata": {},
   "outputs": [
    {
     "name": "stdout",
     "output_type": "stream",
     "text": [
      "1. Original array \n",
      " [[ 4.5  5.1  5.3  5.5 58.  63.  70.  76. ]\n",
      " [ 0.   0.   0.   0.   0.   0.   0.   0. ]\n",
      " [ 0.   0.   0.   0.   0.   0.   0.   0. ]\n",
      " [ 0.   0.   0.   0.   0.   0.   0.   0. ]\n",
      " [ 0.   0.   0.   0.   0.   0.   0.   0. ]]\n",
      "\n",
      "2. Product of columns \n",
      "  [0. 0. 0. 0. 0. 0. 0. 0.]\n",
      "\n",
      "3. Product of rows \n",
      "  [1.30047325e+10 0.00000000e+00 0.00000000e+00 0.00000000e+00\n",
      " 0.00000000e+00]\n",
      "\n",
      "4. Product of all elements \n",
      " 0.0\n"
     ]
    }
   ],
   "source": [
    "print(\"1. Original array \\n\",score_height)\n",
    "print(\"\\n2. Product of columns \\n \",np.prod(score_height,axis=0))\n",
    "print(\"\\n3. Product of rows \\n \",np.prod(score_height,axis=1))\n",
    "print(\"\\n4. Product of all elements \\n\",np.prod(score_height))"
   ]
  },
  {
   "cell_type": "markdown",
   "metadata": {},
   "source": [
    "###### Find max element in a numpy array"
   ]
  },
  {
   "cell_type": "code",
   "execution_count": 45,
   "metadata": {},
   "outputs": [
    {
     "name": "stdout",
     "output_type": "stream",
     "text": [
      "1. Original array \n",
      " [[ 4.5  5.1  5.3  5.5 58.  63.  70.  76. ]\n",
      " [ 0.   0.   0.   0.   0.   0.   0.   0. ]\n",
      " [ 0.   0.   0.   0.   0.   0.   0.   0. ]\n",
      " [ 0.   0.   0.   0.   0.   0.   0.   0. ]\n",
      " [ 0.   0.   0.   0.   0.   0.   0.   0. ]]\n",
      "\n",
      "2. Max of columns \n",
      "  [ 4.5  5.1  5.3  5.5 58.  63.  70.  76. ]\n",
      "\n",
      "3. Max of rows \n",
      "  [76.  0.  0.  0.  0.]\n",
      "\n",
      "4. Max of all elements \n",
      " 76.0\n"
     ]
    }
   ],
   "source": [
    "print(\"1. Original array \\n\",score_height)\n",
    "print(\"\\n2. Max of columns \\n \",np.max(score_height,axis=0))\n",
    "print(\"\\n3. Max of rows \\n \",np.max(score_height,axis=1))\n",
    "print(\"\\n4. Max of all elements \\n\",np.max(score_height))"
   ]
  },
  {
   "cell_type": "markdown",
   "metadata": {},
   "source": [
    "###### Find min element in a numpy array"
   ]
  },
  {
   "cell_type": "code",
   "execution_count": 46,
   "metadata": {},
   "outputs": [
    {
     "name": "stdout",
     "output_type": "stream",
     "text": [
      "1. Original array \n",
      " [[ 4.5  5.1  5.3  5.5 58.  63.  70.  76. ]\n",
      " [ 0.   0.   0.   0.   0.   0.   0.   0. ]\n",
      " [ 0.   0.   0.   0.   0.   0.   0.   0. ]\n",
      " [ 0.   0.   0.   0.   0.   0.   0.   0. ]\n",
      " [ 0.   0.   0.   0.   0.   0.   0.   0. ]]\n",
      "\n",
      "2. Min of columns \n",
      "  [0. 0. 0. 0. 0. 0. 0. 0.]\n",
      "\n",
      "3. Min of rows \n",
      "  [4.5 0.  0.  0.  0. ]\n",
      "\n",
      "4. Min of all elements \n",
      " 0.0\n"
     ]
    }
   ],
   "source": [
    "print(\"1. Original array \\n\",score_height)\n",
    "print(\"\\n2. Min of columns \\n \",np.min(score_height,axis=0))\n",
    "print(\"\\n3. Min of rows \\n \",np.min(score_height,axis=1))\n",
    "print(\"\\n4. Min of all elements \\n\",np.min(score_height))"
   ]
  },
  {
   "cell_type": "markdown",
   "metadata": {},
   "source": [
    "###### Find mean of a numpy array"
   ]
  },
  {
   "cell_type": "code",
   "execution_count": 47,
   "metadata": {},
   "outputs": [
    {
     "name": "stdout",
     "output_type": "stream",
     "text": [
      "1. Original array \n",
      " [[ 4.5  5.1  5.3  5.5 58.  63.  70.  76. ]\n",
      " [ 0.   0.   0.   0.   0.   0.   0.   0. ]\n",
      " [ 0.   0.   0.   0.   0.   0.   0.   0. ]\n",
      " [ 0.   0.   0.   0.   0.   0.   0.   0. ]\n",
      " [ 0.   0.   0.   0.   0.   0.   0.   0. ]]\n",
      "\n",
      "2. Mean of columns \n",
      "  [ 0.9   1.02  1.06  1.1  11.6  12.6  14.   15.2 ]\n",
      "\n",
      "3. Mean of rows \n",
      "  [35.925  0.     0.     0.     0.   ]\n",
      "\n",
      "4. Mean of all elements \n",
      " 7.185\n"
     ]
    }
   ],
   "source": [
    "print(\"1. Original array \\n\",score_height)\n",
    "print(\"\\n2. Mean of columns \\n \",np.mean(score_height,axis=0))\n",
    "print(\"\\n3. Mean of rows \\n \",np.mean(score_height,axis=1))\n",
    "print(\"\\n4. Mean of all elements \\n\",np.mean(score_height))"
   ]
  },
  {
   "cell_type": "markdown",
   "metadata": {},
   "source": [
    "###### Find variance of a 1-Dimensional numpy array\n",
    "\n",
    "Variance refers to a statistical measure of the spread between values in a data set. It shows how values/variables varies with respect to each other. It is the square of Standard Deviation"
   ]
  },
  {
   "cell_type": "code",
   "execution_count": 48,
   "metadata": {},
   "outputs": [
    {
     "name": "stdout",
     "output_type": "stream",
     "text": [
      "1. Original array \n",
      " [[ 4.5  5.1  5.3  5.5 58.  63.  70.  76. ]\n",
      " [ 0.   0.   0.   0.   0.   0.   0.   0. ]\n",
      " [ 0.   0.   0.   0.   0.   0.   0.   0. ]\n",
      " [ 0.   0.   0.   0.   0.   0.   0.   0. ]\n",
      " [ 0.   0.   0.   0.   0.   0.   0.   0. ]]\n",
      "\n",
      "2. Variance of columns \n",
      "  [  3.24     4.1616   4.4944   4.84   538.24   635.04   784.     924.16  ]\n",
      "\n",
      "3. Variance of rows \n",
      "  [973.594375   0.         0.         0.         0.      ]\n",
      "\n",
      "4. Variance of all elements \n",
      " 401.21577499999995\n"
     ]
    }
   ],
   "source": [
    "print(\"1. Original array \\n\",score_height)\n",
    "print(\"\\n2. Variance of columns \\n \",np.var(score_height,axis=0))\n",
    "print(\"\\n3. Variance of rows \\n \",np.var(score_height,axis=1))\n",
    "print(\"\\n4. Variance of all elements \\n\",np.var(score_height))"
   ]
  },
  {
   "cell_type": "markdown",
   "metadata": {},
   "source": [
    "###### Find standard deviation of a numpy array \n",
    "Standard Deviation is a statistic that measures the dispersion/spread of a value with respect to the mean. A low standard deviation shows that the values are closser to the mean of the dataset, while a high standard deviation shows that the values are widely spread out."
   ]
  },
  {
   "cell_type": "code",
   "execution_count": 49,
   "metadata": {},
   "outputs": [
    {
     "name": "stdout",
     "output_type": "stream",
     "text": [
      "1. Original array \n",
      " [[ 4.5  5.1  5.3  5.5 58.  63.  70.  76. ]\n",
      " [ 0.   0.   0.   0.   0.   0.   0.   0. ]\n",
      " [ 0.   0.   0.   0.   0.   0.   0.   0. ]\n",
      " [ 0.   0.   0.   0.   0.   0.   0.   0. ]\n",
      " [ 0.   0.   0.   0.   0.   0.   0.   0. ]]\n",
      "\n",
      "2. Standard deviation of columns \n",
      "  [ 1.8   2.04  2.12  2.2  23.2  25.2  28.   30.4 ]\n",
      "\n",
      "3. Standard deviation  of rows \n",
      "  [31.20247386  0.          0.          0.          0.        ]\n",
      "\n",
      "4. Standard deviation  of all elements \n",
      " 20.030371314581263\n"
     ]
    }
   ],
   "source": [
    "print(\"1. Original array \\n\",score_height)\n",
    "print(\"\\n2. Standard deviation of columns \\n \",np.std(score_height,axis=0))\n",
    "print(\"\\n3. Standard deviation  of rows \\n \",np.std(score_height,axis=1))\n",
    "print(\"\\n4. Standard deviation  of all elements \\n\",np.std(score_height))"
   ]
  },
  {
   "cell_type": "markdown",
   "metadata": {},
   "source": [
    "###### Find correlation coefficient  of a numpy array \n",
    "Correlation coefficients is a measure of the strength of relationship between two variables. It shows the magnitude and direction of the relationship between two variables."
   ]
  },
  {
   "cell_type": "code",
   "execution_count": 50,
   "metadata": {},
   "outputs": [
    {
     "name": "stdout",
     "output_type": "stream",
     "text": [
      "[[ 1. nan nan nan nan]\n",
      " [nan nan nan nan nan]\n",
      " [nan nan nan nan nan]\n",
      " [nan nan nan nan nan]\n",
      " [nan nan nan nan nan]]\n"
     ]
    },
    {
     "name": "stderr",
     "output_type": "stream",
     "text": [
      "C:\\Users\\soongaya\\Anaconda3\\lib\\site-packages\\numpy\\lib\\function_base.py:2559: RuntimeWarning: invalid value encountered in true_divide\n",
      "  c /= stddev[:, None]\n",
      "C:\\Users\\soongaya\\Anaconda3\\lib\\site-packages\\numpy\\lib\\function_base.py:2560: RuntimeWarning: invalid value encountered in true_divide\n",
      "  c /= stddev[None, :]\n"
     ]
    }
   ],
   "source": [
    "print(np.corrcoef(score_height))"
   ]
  },
  {
   "cell_type": "markdown",
   "metadata": {},
   "source": [
    "## Read Data to NumPy"
   ]
  },
  {
   "cell_type": "markdown",
   "metadata": {},
   "source": [
    "###### Read data from text file"
   ]
  },
  {
   "cell_type": "code",
   "execution_count": 51,
   "metadata": {},
   "outputs": [
    {
     "name": "stdout",
     "output_type": "stream",
     "text": [
      "[[78.   5.1]\n",
      " [56.   4.5]\n",
      " [67.   5.3]\n",
      " [73.   6. ]]\n"
     ]
    }
   ],
   "source": [
    "students_data=np.loadtxt('students.txt') \n",
    "print(students_data)"
   ]
  },
  {
   "cell_type": "markdown",
   "metadata": {},
   "source": [
    "###### Read data from csv file"
   ]
  },
  {
   "cell_type": "code",
   "execution_count": 52,
   "metadata": {},
   "outputs": [
    {
     "name": "stdout",
     "output_type": "stream",
     "text": [
      "[[    nan     nan     nan ...     nan     nan     nan]\n",
      " [ 0.      3.         nan ...  1.      0.      7.25  ]\n",
      " [ 1.      1.         nan ...  1.      0.     71.2833]\n",
      " ...\n",
      " [ 0.      3.         nan ...  1.      2.     23.45  ]\n",
      " [ 1.      1.         nan ...  0.      0.     30.    ]\n",
      " [ 0.      3.         nan ...  0.      0.      7.75  ]]\n"
     ]
    }
   ],
   "source": [
    "titanic_data=np.genfromtxt('titanic.csv',delimiter=',') # add ,dtype='str' to display text data\n",
    "print(titanic_data)"
   ]
  },
  {
   "cell_type": "markdown",
   "metadata": {},
   "source": [
    "## Store Data to File"
   ]
  },
  {
   "cell_type": "markdown",
   "metadata": {},
   "source": [
    "###### Save data to a text file"
   ]
  },
  {
   "cell_type": "code",
   "execution_count": 53,
   "metadata": {},
   "outputs": [],
   "source": [
    "np.savetxt('students_saved_array.txt',students_data,delimiter=' ')"
   ]
  },
  {
   "cell_type": "markdown",
   "metadata": {},
   "source": [
    "###### Save data to a csv file"
   ]
  },
  {
   "cell_type": "code",
   "execution_count": 54,
   "metadata": {},
   "outputs": [],
   "source": [
    "np.savetxt('titanic_saved_array.csv',titanic_data,delimiter=',')"
   ]
  },
  {
   "cell_type": "code",
   "execution_count": null,
   "metadata": {},
   "outputs": [],
   "source": []
  },
  {
   "cell_type": "markdown",
   "metadata": {},
   "source": [
    "@Sammy Ongaya https://data2ml.com https://github.com/SammyOngaya sammiongaya@gmail.com"
   ]
  }
 ],
 "metadata": {
  "kernelspec": {
   "display_name": "Python 3",
   "language": "python",
   "name": "python3"
  },
  "language_info": {
   "codemirror_mode": {
    "name": "ipython",
    "version": 3
   },
   "file_extension": ".py",
   "mimetype": "text/x-python",
   "name": "python",
   "nbconvert_exporter": "python",
   "pygments_lexer": "ipython3",
   "version": "3.6.5"
  }
 },
 "nbformat": 4,
 "nbformat_minor": 2
}

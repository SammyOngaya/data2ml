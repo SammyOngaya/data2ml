{
 "cells": [
  {
   "cell_type": "markdown",
   "metadata": {},
   "source": [
    "## Import NumPy"
   ]
  },
  {
   "cell_type": "code",
   "execution_count": 1,
   "metadata": {},
   "outputs": [],
   "source": [
    "import numpy as np"
   ]
  },
  {
   "cell_type": "markdown",
   "metadata": {},
   "source": [
    "## Creating Arrays"
   ]
  },
  {
   "cell_type": "markdown",
   "metadata": {},
   "source": [
    "###### Create a 1-Dimesnional numpy array"
   ]
  },
  {
   "cell_type": "code",
   "execution_count": 2,
   "metadata": {},
   "outputs": [
    {
     "name": "stdout",
     "output_type": "stream",
     "text": [
      "[70 63 81 58 76]\n"
     ]
    }
   ],
   "source": [
    "score=np.array([70,63,81,58,76])\n",
    "print(score)"
   ]
  },
  {
   "cell_type": "markdown",
   "metadata": {},
   "source": [
    "###### Create a  4*5 1-D array with elements from 0 to 19 sorted ascending"
   ]
  },
  {
   "cell_type": "code",
   "execution_count": 3,
   "metadata": {},
   "outputs": [
    {
     "data": {
      "text/plain": [
       "array([[ 0,  1,  2,  3,  4],\n",
       "       [ 5,  6,  7,  8,  9],\n",
       "       [10, 11, 12, 13, 14],\n",
       "       [15, 16, 17, 18, 19]])"
      ]
     },
     "execution_count": 3,
     "metadata": {},
     "output_type": "execute_result"
    }
   ],
   "source": [
    "np.arange(20).reshape(4,5)"
   ]
  },
  {
   "cell_type": "markdown",
   "metadata": {},
   "source": [
    "###### Create a 2*5 2-Dimesnional numpy array"
   ]
  },
  {
   "cell_type": "code",
   "execution_count": 4,
   "metadata": {},
   "outputs": [
    {
     "name": "stdout",
     "output_type": "stream",
     "text": [
      "[[70.  63.  81.  58.  76. ]\n",
      " [ 5.1  4.5  6.   5.3  5.5]]\n"
     ]
    }
   ],
   "source": [
    "score_height=np.array([([70,63,81,58,76]),(5.1,4.5,6.0,5.3,5.5)])\n",
    "print(score_height)"
   ]
  },
  {
   "cell_type": "markdown",
   "metadata": {},
   "source": [
    "###### Create a 4*5 2-Dimesnional 0s numpy array"
   ]
  },
  {
   "cell_type": "code",
   "execution_count": 5,
   "metadata": {},
   "outputs": [
    {
     "name": "stdout",
     "output_type": "stream",
     "text": [
      "[[0 0 0 0 0]\n",
      " [0 0 0 0 0]\n",
      " [0 0 0 0 0]\n",
      " [0 0 0 0 0]]\n"
     ]
    }
   ],
   "source": [
    "zero=np.zeros((4,5),dtype=np.int16)\n",
    "print(zero)"
   ]
  },
  {
   "cell_type": "markdown",
   "metadata": {},
   "source": [
    "###### Create a 4*5 2-Dimesnional 1s numpy array"
   ]
  },
  {
   "cell_type": "code",
   "execution_count": 6,
   "metadata": {},
   "outputs": [
    {
     "name": "stdout",
     "output_type": "stream",
     "text": [
      "[[1 1 1 1 1]\n",
      " [1 1 1 1 1]\n",
      " [1 1 1 1 1]\n",
      " [1 1 1 1 1]]\n"
     ]
    }
   ],
   "source": [
    "one=np.ones((4,5),dtype=np.int16)\n",
    "print(one)"
   ]
  },
  {
   "cell_type": "markdown",
   "metadata": {},
   "source": [
    "###### Create a 5*5 identity matrix"
   ]
  },
  {
   "cell_type": "code",
   "execution_count": 7,
   "metadata": {},
   "outputs": [
    {
     "name": "stdout",
     "output_type": "stream",
     "text": [
      "[[1 0 0 0 0]\n",
      " [0 1 0 0 0]\n",
      " [0 0 1 0 0]\n",
      " [0 0 0 1 0]\n",
      " [0 0 0 0 1]]\n"
     ]
    }
   ],
   "source": [
    "identity=np.eye(5,dtype=np.int16)\n",
    "print(identity)"
   ]
  },
  {
   "cell_type": "markdown",
   "metadata": {},
   "source": [
    "## Inspecting Arrays"
   ]
  },
  {
   "cell_type": "markdown",
   "metadata": {},
   "source": [
    "###### Find the number of elements in an array"
   ]
  },
  {
   "cell_type": "code",
   "execution_count": 8,
   "metadata": {},
   "outputs": [
    {
     "name": "stdout",
     "output_type": "stream",
     "text": [
      "[[70.  63.  81.  58.  76. ]\n",
      " [ 5.1  4.5  6.   5.3  5.5]]\n",
      "10\n"
     ]
    }
   ],
   "source": [
    "print(score_height)\n",
    "print(score_height.size)"
   ]
  },
  {
   "cell_type": "markdown",
   "metadata": {},
   "source": [
    "###### Find the dimensions of an array"
   ]
  },
  {
   "cell_type": "code",
   "execution_count": 9,
   "metadata": {},
   "outputs": [
    {
     "name": "stdout",
     "output_type": "stream",
     "text": [
      "(2, 5)\n"
     ]
    }
   ],
   "source": [
    "print(score_height.shape)"
   ]
  },
  {
   "cell_type": "markdown",
   "metadata": {},
   "source": [
    "###### Find the data type of elements in the array"
   ]
  },
  {
   "cell_type": "code",
   "execution_count": 10,
   "metadata": {},
   "outputs": [
    {
     "name": "stdout",
     "output_type": "stream",
     "text": [
      "float64\n"
     ]
    }
   ],
   "source": [
    "print(score_height.dtype)"
   ]
  },
  {
   "cell_type": "markdown",
   "metadata": {},
   "source": [
    "###### Convert array to Python list"
   ]
  },
  {
   "cell_type": "code",
   "execution_count": 11,
   "metadata": {},
   "outputs": [
    {
     "name": "stdout",
     "output_type": "stream",
     "text": [
      "NumPy array : \n",
      "  [[70.  63.  81.  58.  76. ]\n",
      " [ 5.1  4.5  6.   5.3  5.5]]\n",
      "\n",
      "Python list : \n",
      " [[70.0, 63.0, 81.0, 58.0, 76.0], [5.1, 4.5, 6.0, 5.3, 5.5]]\n"
     ]
    }
   ],
   "source": [
    "print(\"NumPy array : \\n \",score_height)\n",
    "print(\"\\nPython list : \\n\",score_height.tolist())"
   ]
  },
  {
   "cell_type": "markdown",
   "metadata": {},
   "source": [
    "## Adding Elements to an array"
   ]
  },
  {
   "cell_type": "markdown",
   "metadata": {},
   "source": [
    "###### Append new elements at the end of an array"
   ]
  },
  {
   "cell_type": "code",
   "execution_count": 12,
   "metadata": {},
   "outputs": [
    {
     "name": "stdout",
     "output_type": "stream",
     "text": [
      "[70 63 81 58 76 90]\n",
      "[70 63 81 58 76 90 45 59 94]\n"
     ]
    }
   ],
   "source": [
    "score=np.append(score,90)\n",
    "print(score)\n",
    "score=np.append(score,[45,59,94])\n",
    "print(score)"
   ]
  },
  {
   "cell_type": "markdown",
   "metadata": {},
   "source": [
    "###### Insert new element(s) at a specific position in an array"
   ]
  },
  {
   "cell_type": "code",
   "execution_count": 13,
   "metadata": {},
   "outputs": [
    {
     "name": "stdout",
     "output_type": "stream",
     "text": [
      "[70 63 81 20 58 76 90 45 59 94]\n"
     ]
    }
   ],
   "source": [
    "score=np.insert(score,3,20)\n",
    "print(score)"
   ]
  },
  {
   "cell_type": "markdown",
   "metadata": {},
   "source": [
    "## Removing Elements from an array"
   ]
  },
  {
   "cell_type": "markdown",
   "metadata": {},
   "source": [
    "###### Delete row on index 2 from an array"
   ]
  },
  {
   "cell_type": "code",
   "execution_count": 14,
   "metadata": {},
   "outputs": [
    {
     "name": "stdout",
     "output_type": "stream",
     "text": [
      "[70 63 81 20 58 76 90 45 59 94]\n",
      "\n",
      "Removed 76 from the original array \n",
      " [70 63 20 58 76 90 45 59 94]\n"
     ]
    }
   ],
   "source": [
    "print(score)\n",
    "score=np.delete(score,2,axis=0)\n",
    "print(\"\\nRemoved 76 from the original array \\n\",score)"
   ]
  },
  {
   "cell_type": "markdown",
   "metadata": {},
   "source": [
    "###### Delete column on index 2 from an array"
   ]
  },
  {
   "cell_type": "code",
   "execution_count": 15,
   "metadata": {},
   "outputs": [
    {
     "name": "stdout",
     "output_type": "stream",
     "text": [
      "[[70.  63.  81.  58.  76. ]\n",
      " [ 5.1  4.5  6.   5.3  5.5]]\n",
      "\n",
      "Remove element at index 2 \n",
      " [[70.  63.  58.  76. ]\n",
      " [ 5.1  4.5  5.3  5.5]]\n"
     ]
    }
   ],
   "source": [
    "print(score_height)\n",
    "score_height=np.delete(score_height,2,axis=1)\n",
    "print(\"\\nRemove element at index 2 \\n\",score_height)"
   ]
  },
  {
   "cell_type": "markdown",
   "metadata": {},
   "source": [
    "## NumPy Statistics functions"
   ]
  },
  {
   "attachments": {},
   "cell_type": "markdown",
   "metadata": {},
   "source": [
    "###### Sum all elements in an array using sum() function\n",
    "sum() function offers better performance than manually iterating through each element"
   ]
  },
  {
   "cell_type": "code",
   "execution_count": 16,
   "metadata": {},
   "outputs": [
    {
     "name": "stdout",
     "output_type": "stream",
     "text": [
      "1. Original array \n",
      " [[70.  63.  58.  76. ]\n",
      " [ 5.1  4.5  5.3  5.5]]\n",
      "\n",
      "2. Sum of columns \n",
      "  [75.1 67.5 63.3 81.5]\n",
      "\n",
      "3. Sum of rows \n",
      "  [267.   20.4]\n",
      "\n",
      "4. Sum of all elements \n",
      " 287.4\n"
     ]
    }
   ],
   "source": [
    "print(\"1. Original array \\n\",score_height)\n",
    "print(\"\\n2. Sum of columns \\n \",np.sum(score_height,axis=0))\n",
    "print(\"\\n3. Sum of rows \\n \",np.sum(score_height,axis=1))\n",
    "print(\"\\n4. Sum of all elements \\n\",np.sum(score_height))"
   ]
  },
  {
   "cell_type": "markdown",
   "metadata": {},
   "source": [
    "###### Find max element in a numpy array"
   ]
  },
  {
   "cell_type": "code",
   "execution_count": 17,
   "metadata": {},
   "outputs": [
    {
     "name": "stdout",
     "output_type": "stream",
     "text": [
      "1. Original array \n",
      " [[70.  63.  58.  76. ]\n",
      " [ 5.1  4.5  5.3  5.5]]\n",
      "\n",
      "2. Max of columns \n",
      "  [70. 63. 58. 76.]\n",
      "\n",
      "3. Max of rows \n",
      "  [76.   5.5]\n",
      "\n",
      "4. Max of all elements \n",
      " 76.0\n"
     ]
    }
   ],
   "source": [
    "print(\"1. Original array \\n\",score_height)\n",
    "print(\"\\n2. Max of columns \\n \",np.max(score_height,axis=0))\n",
    "print(\"\\n3. Max of rows \\n \",np.max(score_height,axis=1))\n",
    "print(\"\\n4. Max of all elements \\n\",np.max(score_height))"
   ]
  },
  {
   "cell_type": "markdown",
   "metadata": {},
   "source": [
    "###### Find min element in a numpy array"
   ]
  },
  {
   "cell_type": "code",
   "execution_count": 18,
   "metadata": {},
   "outputs": [
    {
     "name": "stdout",
     "output_type": "stream",
     "text": [
      "1. Original array \n",
      " [[70.  63.  58.  76. ]\n",
      " [ 5.1  4.5  5.3  5.5]]\n",
      "\n",
      "2. Min of columns \n",
      "  [5.1 4.5 5.3 5.5]\n",
      "\n",
      "3. Min of rows \n",
      "  [58.   4.5]\n",
      "\n",
      "4. Min of all elements \n",
      " 4.5\n"
     ]
    }
   ],
   "source": [
    "print(\"1. Original array \\n\",score_height)\n",
    "print(\"\\n2. Min of columns \\n \",np.min(score_height,axis=0))\n",
    "print(\"\\n3. Min of rows \\n \",np.min(score_height,axis=1))\n",
    "print(\"\\n4. Min of all elements \\n\",np.min(score_height))"
   ]
  },
  {
   "cell_type": "markdown",
   "metadata": {},
   "source": [
    "###### Find mean of a numpy array"
   ]
  },
  {
   "cell_type": "code",
   "execution_count": 19,
   "metadata": {},
   "outputs": [
    {
     "name": "stdout",
     "output_type": "stream",
     "text": [
      "1. Original array \n",
      " [[70.  63.  58.  76. ]\n",
      " [ 5.1  4.5  5.3  5.5]]\n",
      "\n",
      "2. Mean of columns \n",
      "  [37.55 33.75 31.65 40.75]\n",
      "\n",
      "3. Mean of rows \n",
      "  [66.75  5.1 ]\n",
      "\n",
      "4. Mean of all elements \n",
      " 35.925\n"
     ]
    }
   ],
   "source": [
    "print(\"1. Original array \\n\",score_height)\n",
    "print(\"\\n2. Mean of columns \\n \",np.mean(score_height,axis=0))\n",
    "print(\"\\n3. Mean of rows \\n \",np.mean(score_height,axis=1))\n",
    "print(\"\\n4. Mean of all elements \\n\",np.mean(score_height))"
   ]
  },
  {
   "cell_type": "markdown",
   "metadata": {},
   "source": [
    "###### Find variance of a 1-Dimensional numpy array\n",
    "\n",
    "Variance refers to a statistical measure of the spread between values in a data set. It shows how values/variables varies with respect to each other. It is the square of Standard Deviation"
   ]
  },
  {
   "cell_type": "code",
   "execution_count": 20,
   "metadata": {},
   "outputs": [
    {
     "name": "stdout",
     "output_type": "stream",
     "text": [
      "1. Original array \n",
      " [[70.  63.  58.  76. ]\n",
      " [ 5.1  4.5  5.3  5.5]]\n",
      "\n",
      "2. Variance of columns \n",
      "  [1053.0025  855.5625  694.3225 1242.5625]\n",
      "\n",
      "3. Variance of rows \n",
      "  [46.6875  0.14  ]\n",
      "\n",
      "4. Variance of all elements \n",
      " 973.594375\n"
     ]
    }
   ],
   "source": [
    "print(\"1. Original array \\n\",score_height)\n",
    "print(\"\\n2. Variance of columns \\n \",np.var(score_height,axis=0))\n",
    "print(\"\\n3. Variance of rows \\n \",np.var(score_height,axis=1))\n",
    "print(\"\\n4. Variance of all elements \\n\",np.var(score_height))"
   ]
  },
  {
   "cell_type": "markdown",
   "metadata": {},
   "source": [
    "###### Find standard deviation of a numpy array \n",
    "Standard Deviation is a statistic that measures the dispersion/spread of a value with respect to the mean. A low standard deviation shows that the values are closser to the mean of the dataset, while a high standard deviation shows that the values are widely spread out."
   ]
  },
  {
   "cell_type": "code",
   "execution_count": 21,
   "metadata": {},
   "outputs": [
    {
     "name": "stdout",
     "output_type": "stream",
     "text": [
      "1. Original array \n",
      " [[70.  63.  58.  76. ]\n",
      " [ 5.1  4.5  5.3  5.5]]\n",
      "\n",
      "2. Standard deviation of columns \n",
      "  [32.45 29.25 26.35 35.25]\n",
      "\n",
      "3. Standard deviation  of rows \n",
      "  [6.83282518 0.37416574]\n",
      "\n",
      "4. Standard deviation  of all elements \n",
      " 31.202473860256656\n"
     ]
    }
   ],
   "source": [
    "print(\"1. Original array \\n\",score_height)\n",
    "print(\"\\n2. Standard deviation of columns \\n \",np.std(score_height,axis=0))\n",
    "print(\"\\n3. Standard deviation  of rows \\n \",np.std(score_height,axis=1))\n",
    "print(\"\\n4. Standard deviation  of all elements \\n\",np.std(score_height))"
   ]
  },
  {
   "cell_type": "markdown",
   "metadata": {},
   "source": [
    "###### Find correlation coefficient  of a numpy array \n",
    "Correlation coefficients is a measure of the strength of relationship between two variables. It shows the magnitude and direction of the relationship between two variables."
   ]
  },
  {
   "cell_type": "code",
   "execution_count": 22,
   "metadata": {},
   "outputs": [
    {
     "name": "stdout",
     "output_type": "stream",
     "text": [
      "[[1.         0.41070025]\n",
      " [0.41070025 1.        ]]\n"
     ]
    }
   ],
   "source": [
    "print(np.corrcoef(score_height))"
   ]
  },
  {
   "cell_type": "markdown",
   "metadata": {},
   "source": [
    "## Read Data to NumPy"
   ]
  },
  {
   "cell_type": "markdown",
   "metadata": {},
   "source": [
    "###### Read data from text file"
   ]
  },
  {
   "cell_type": "code",
   "execution_count": 23,
   "metadata": {},
   "outputs": [
    {
     "name": "stdout",
     "output_type": "stream",
     "text": [
      "[[78.   5.1]\n",
      " [56.   4.5]\n",
      " [67.   5.3]\n",
      " [73.   6. ]]\n"
     ]
    }
   ],
   "source": [
    "students_data=np.loadtxt('students.txt')\n",
    "print(students_data)"
   ]
  },
  {
   "cell_type": "markdown",
   "metadata": {},
   "source": [
    "###### Read data from csv file"
   ]
  },
  {
   "cell_type": "code",
   "execution_count": 24,
   "metadata": {},
   "outputs": [
    {
     "name": "stdout",
     "output_type": "stream",
     "text": [
      "[[    nan     nan     nan ...     nan     nan     nan]\n",
      " [ 0.      3.         nan ...  1.      0.      7.25  ]\n",
      " [ 1.      1.         nan ...  1.      0.     71.2833]\n",
      " ...\n",
      " [ 0.      3.         nan ...  1.      2.     23.45  ]\n",
      " [ 1.      1.         nan ...  0.      0.     30.    ]\n",
      " [ 0.      3.         nan ...  0.      0.      7.75  ]]\n"
     ]
    }
   ],
   "source": [
    "titanic_data=np.genfromtxt('titanic.csv',delimiter=',')\n",
    "print(titanic_data)"
   ]
  },
  {
   "cell_type": "markdown",
   "metadata": {},
   "source": [
    "## Store Data to File"
   ]
  },
  {
   "cell_type": "markdown",
   "metadata": {},
   "source": [
    "###### Save data to a text file"
   ]
  },
  {
   "cell_type": "code",
   "execution_count": 25,
   "metadata": {},
   "outputs": [],
   "source": [
    "np.savetxt('students_saved_array.txt',students_data,delimiter=' ')"
   ]
  },
  {
   "cell_type": "markdown",
   "metadata": {},
   "source": [
    "###### Save data to a csv file"
   ]
  },
  {
   "cell_type": "code",
   "execution_count": 26,
   "metadata": {},
   "outputs": [],
   "source": [
    "np.savetxt('titanic_saved_array.csv',titanic_data,delimiter=',')"
   ]
  },
  {
   "cell_type": "code",
   "execution_count": null,
   "metadata": {},
   "outputs": [],
   "source": []
  },
  {
   "cell_type": "markdown",
   "metadata": {},
   "source": [
    "@Sammy Ongaya sammiongaya@gmail.com"
   ]
  }
 ],
 "metadata": {
  "kernelspec": {
   "display_name": "Python 3",
   "language": "python",
   "name": "python3"
  },
  "language_info": {
   "codemirror_mode": {
    "name": "ipython",
    "version": 3
   },
   "file_extension": ".py",
   "mimetype": "text/x-python",
   "name": "python",
   "nbconvert_exporter": "python",
   "pygments_lexer": "ipython3",
   "version": "3.6.5"
  }
 },
 "nbformat": 4,
 "nbformat_minor": 2
}

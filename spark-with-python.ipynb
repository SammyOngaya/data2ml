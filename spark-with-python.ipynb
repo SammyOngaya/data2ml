{
 "cells": [
  {
   "cell_type": "markdown",
   "metadata": {},
   "source": [
    "# 1. RDD Operations"
   ]
  },
  {
   "cell_type": "markdown",
   "metadata": {},
   "source": [
    "#### Import findspark to use Spark in jupyter notebook"
   ]
  },
  {
   "cell_type": "code",
   "execution_count": 1,
   "metadata": {},
   "outputs": [],
   "source": [
    "import findspark\n",
    "findspark.init()\n",
    "\n",
    "from pyspark import SparkContext"
   ]
  },
  {
   "cell_type": "markdown",
   "metadata": {},
   "source": [
    "#### Initialize SparkCOntext"
   ]
  },
  {
   "cell_type": "code",
   "execution_count": 2,
   "metadata": {},
   "outputs": [],
   "source": [
    "sc=SparkContext.getOrCreate()"
   ]
  },
  {
   "cell_type": "markdown",
   "metadata": {},
   "source": [
    "#### Create Resilient Distributed Datasets (RDDs)"
   ]
  },
  {
   "cell_type": "code",
   "execution_count": 3,
   "metadata": {},
   "outputs": [
    {
     "name": "stdout",
     "output_type": "stream",
     "text": [
      "data\n",
      " ParallelCollectionRDD[0] at readRDDFromFile at PythonRDD.scala:262 \n",
      "data2\n",
      " ParallelCollectionRDD[1] at readRDDFromFile at PythonRDD.scala:262 \n",
      "a\n",
      " ParallelCollectionRDD[2] at readRDDFromFile at PythonRDD.scala:262 \n",
      "b\n",
      " ParallelCollectionRDD[3] at readRDDFromFile at PythonRDD.scala:262\n"
     ]
    }
   ],
   "source": [
    "data=sc.parallelize([['France','50M','3T'],['India','30M','30T'],['Kenya','70M','25T'],\n",
    "                     ['Nigeria','90M','60T'],['China','20M','2T'],['USA','80M','30T'],\n",
    "                     ['UK','70M','25T'],['USA','20M','30T'],['China','70M','25T'],\n",
    "                     ['France', '50M', '3T'],['China','70M','25T'] ])\n",
    "data2=sc.parallelize([23,42,78,90,12,9,42,89,42,12,50,60])\n",
    "a=sc.parallelize([('USA',35),('Canada',24),('Mexico',27),('Kenya',23)])\n",
    "b=sc.parallelize([('Kenya',30),('USA',35),('South Africa',23),('Rwanda',23)])\n",
    "print('data\\n',data,'\\ndata2\\n',data2,'\\na\\n',a,'\\nb\\n',b)"
   ]
  },
  {
   "cell_type": "markdown",
   "metadata": {},
   "source": [
    "#### Show data from RDD"
   ]
  },
  {
   "cell_type": "code",
   "execution_count": 4,
   "metadata": {},
   "outputs": [
    {
     "data": {
      "text/plain": [
       "[['France', '50M', '3T'],\n",
       " ['India', '30M', '30T'],\n",
       " ['Kenya', '70M', '25T'],\n",
       " ['Nigeria', '90M', '60T'],\n",
       " ['China', '20M', '2T'],\n",
       " ['USA', '80M', '30T'],\n",
       " ['UK', '70M', '25T'],\n",
       " ['USA', '20M', '30T'],\n",
       " ['China', '70M', '25T'],\n",
       " ['France', '50M', '3T'],\n",
       " ['China', '70M', '25T']]"
      ]
     },
     "execution_count": 4,
     "metadata": {},
     "output_type": "execute_result"
    }
   ],
   "source": [
    "data.collect()"
   ]
  },
  {
   "cell_type": "markdown",
   "metadata": {},
   "source": [
    "## i. Actions\n",
    "Sparks action functions produce a value back to the Spark driver program"
   ]
  },
  {
   "cell_type": "markdown",
   "metadata": {},
   "source": [
    "Check the RDD Persistence"
   ]
  },
  {
   "cell_type": "code",
   "execution_count": 5,
   "metadata": {},
   "outputs": [
    {
     "data": {
      "text/plain": [
       "True"
      ]
     },
     "execution_count": 5,
     "metadata": {},
     "output_type": "execute_result"
    }
   ],
   "source": [
    "data.persist().is_cached"
   ]
  },
  {
   "cell_type": "markdown",
   "metadata": {},
   "source": [
    "Get number of partitions"
   ]
  },
  {
   "cell_type": "code",
   "execution_count": 6,
   "metadata": {},
   "outputs": [
    {
     "data": {
      "text/plain": [
       "8"
      ]
     },
     "execution_count": 6,
     "metadata": {},
     "output_type": "execute_result"
    }
   ],
   "source": [
    "data.getNumPartitions()"
   ]
  },
  {
   "cell_type": "markdown",
   "metadata": {},
   "source": [
    "Show all data"
   ]
  },
  {
   "cell_type": "code",
   "execution_count": 7,
   "metadata": {},
   "outputs": [
    {
     "data": {
      "text/plain": [
       "[['France', '50M', '3T'],\n",
       " ['India', '30M', '30T'],\n",
       " ['Kenya', '70M', '25T'],\n",
       " ['Nigeria', '90M', '60T'],\n",
       " ['China', '20M', '2T'],\n",
       " ['USA', '80M', '30T'],\n",
       " ['UK', '70M', '25T'],\n",
       " ['USA', '20M', '30T'],\n",
       " ['China', '70M', '25T'],\n",
       " ['France', '50M', '3T'],\n",
       " ['China', '70M', '25T']]"
      ]
     },
     "execution_count": 7,
     "metadata": {},
     "output_type": "execute_result"
    }
   ],
   "source": [
    "data.collect()"
   ]
  },
  {
   "cell_type": "markdown",
   "metadata": {},
   "source": [
    "Get number of items"
   ]
  },
  {
   "cell_type": "code",
   "execution_count": 8,
   "metadata": {},
   "outputs": [
    {
     "data": {
      "text/plain": [
       "11"
      ]
     },
     "execution_count": 8,
     "metadata": {},
     "output_type": "execute_result"
    }
   ],
   "source": [
    "len(data.collect())"
   ]
  },
  {
   "cell_type": "markdown",
   "metadata": {},
   "source": [
    "Get distinct Records"
   ]
  },
  {
   "cell_type": "code",
   "execution_count": 9,
   "metadata": {},
   "outputs": [
    {
     "data": {
      "text/plain": [
       "[9, 12, 12, 23, 42, 42, 42, 50, 60, 78, 89, 90]"
      ]
     },
     "execution_count": 9,
     "metadata": {},
     "output_type": "execute_result"
    }
   ],
   "source": [
    "sorted(data2.collect())"
   ]
  },
  {
   "cell_type": "code",
   "execution_count": 10,
   "metadata": {},
   "outputs": [
    {
     "data": {
      "text/plain": [
       "[9, 12, 23, 42, 50, 60, 78, 89, 90]"
      ]
     },
     "execution_count": 10,
     "metadata": {},
     "output_type": "execute_result"
    }
   ],
   "source": [
    "sorted(data2.distinct().collect())"
   ]
  },
  {
   "cell_type": "markdown",
   "metadata": {},
   "source": [
    "Get max value from the list"
   ]
  },
  {
   "cell_type": "code",
   "execution_count": 11,
   "metadata": {},
   "outputs": [
    {
     "data": {
      "text/plain": [
       "90"
      ]
     },
     "execution_count": 11,
     "metadata": {},
     "output_type": "execute_result"
    }
   ],
   "source": [
    "data2.max()"
   ]
  },
  {
   "cell_type": "markdown",
   "metadata": {},
   "source": [
    "Get min value from the list"
   ]
  },
  {
   "cell_type": "code",
   "execution_count": 12,
   "metadata": {},
   "outputs": [
    {
     "data": {
      "text/plain": [
       "9"
      ]
     },
     "execution_count": 12,
     "metadata": {},
     "output_type": "execute_result"
    }
   ],
   "source": [
    "data2.min()"
   ]
  },
  {
   "cell_type": "markdown",
   "metadata": {},
   "source": [
    "Get sum value from the list"
   ]
  },
  {
   "cell_type": "code",
   "execution_count": 13,
   "metadata": {},
   "outputs": [
    {
     "data": {
      "text/plain": [
       "549"
      ]
     },
     "execution_count": 13,
     "metadata": {},
     "output_type": "execute_result"
    }
   ],
   "source": [
    "data2.sum()"
   ]
  },
  {
   "cell_type": "markdown",
   "metadata": {},
   "source": [
    "Get average"
   ]
  },
  {
   "cell_type": "code",
   "execution_count": 14,
   "metadata": {},
   "outputs": [
    {
     "data": {
      "text/plain": [
       "45.75"
      ]
     },
     "execution_count": 14,
     "metadata": {},
     "output_type": "execute_result"
    }
   ],
   "source": [
    "data2.mean()"
   ]
  },
  {
   "cell_type": "markdown",
   "metadata": {},
   "source": [
    "Get variance value from the list"
   ]
  },
  {
   "cell_type": "code",
   "execution_count": 15,
   "metadata": {},
   "outputs": [
    {
     "data": {
      "text/plain": [
       "773.1875000000001"
      ]
     },
     "execution_count": 15,
     "metadata": {},
     "output_type": "execute_result"
    }
   ],
   "source": [
    "data2.variance()"
   ]
  },
  {
   "cell_type": "markdown",
   "metadata": {},
   "source": [
    "Get standard deviation value from the list"
   ]
  },
  {
   "cell_type": "code",
   "execution_count": 16,
   "metadata": {},
   "outputs": [
    {
     "data": {
      "text/plain": [
       "27.80624929759496"
      ]
     },
     "execution_count": 16,
     "metadata": {},
     "output_type": "execute_result"
    }
   ],
   "source": [
    "data2.stdev()"
   ]
  },
  {
   "cell_type": "markdown",
   "metadata": {},
   "source": [
    "Get mean, std deviation, max and min values"
   ]
  },
  {
   "cell_type": "code",
   "execution_count": 17,
   "metadata": {},
   "outputs": [
    {
     "data": {
      "text/plain": [
       "(count: 12, mean: 45.75, stdev: 27.80624929759496, max: 90.0, min: 9.0)"
      ]
     },
     "execution_count": 17,
     "metadata": {},
     "output_type": "execute_result"
    }
   ],
   "source": [
    "data2.stats()"
   ]
  },
  {
   "cell_type": "markdown",
   "metadata": {},
   "source": [
    "Show first column"
   ]
  },
  {
   "cell_type": "code",
   "execution_count": 18,
   "metadata": {},
   "outputs": [
    {
     "data": {
      "text/plain": [
       "['France', '50M', '3T']"
      ]
     },
     "execution_count": 18,
     "metadata": {},
     "output_type": "execute_result"
    }
   ],
   "source": [
    "data.first()"
   ]
  },
  {
   "cell_type": "markdown",
   "metadata": {},
   "source": [
    "Get random record"
   ]
  },
  {
   "cell_type": "code",
   "execution_count": 19,
   "metadata": {},
   "outputs": [
    {
     "data": {
      "text/plain": [
       "[['Nigeria', '90M', '60T']]"
      ]
     },
     "execution_count": 19,
     "metadata": {},
     "output_type": "execute_result"
    }
   ],
   "source": [
    "data.takeSample(1,True)"
   ]
  },
  {
   "cell_type": "markdown",
   "metadata": {},
   "source": [
    "Count records"
   ]
  },
  {
   "cell_type": "code",
   "execution_count": 20,
   "metadata": {},
   "outputs": [
    {
     "data": {
      "text/plain": [
       "11"
      ]
     },
     "execution_count": 20,
     "metadata": {},
     "output_type": "execute_result"
    }
   ],
   "source": [
    "data.count()"
   ]
  },
  {
   "cell_type": "markdown",
   "metadata": {},
   "source": [
    "Count occurence of the items"
   ]
  },
  {
   "cell_type": "code",
   "execution_count": 21,
   "metadata": {},
   "outputs": [
    {
     "data": {
      "text/plain": [
       "dict_items([('France', 2), ('India', 1), ('Kenya', 1), ('Nigeria', 1), ('China', 3), ('USA', 2), ('UK', 1)])"
      ]
     },
     "execution_count": 21,
     "metadata": {},
     "output_type": "execute_result"
    }
   ],
   "source": [
    "data.countByKey().items()"
   ]
  },
  {
   "cell_type": "markdown",
   "metadata": {},
   "source": [
    "## ii. Sparks Transformation Functions\n",
    "Sparks transformation functions produce a new Resilient Distributed Dataset (RDD)"
   ]
  },
  {
   "cell_type": "code",
   "execution_count": 22,
   "metadata": {},
   "outputs": [
    {
     "data": {
      "text/plain": [
       "[4, 6, 8, 2, 2, 6]"
      ]
     },
     "execution_count": 22,
     "metadata": {},
     "output_type": "execute_result"
    }
   ],
   "source": [
    "tran_data=sc.parallelize([4,6,8,2,2,6])\n",
    "tran_data.collect()"
   ]
  },
  {
   "cell_type": "markdown",
   "metadata": {},
   "source": [
    "Select two random items"
   ]
  },
  {
   "cell_type": "code",
   "execution_count": 23,
   "metadata": {},
   "outputs": [
    {
     "data": {
      "text/plain": [
       "[4, 4, 4, 2, 2, 6, 6]"
      ]
     },
     "execution_count": 23,
     "metadata": {},
     "output_type": "execute_result"
    }
   ],
   "source": [
    "tran_data.sample(2,True).collect()"
   ]
  },
  {
   "cell_type": "markdown",
   "metadata": {},
   "source": [
    "Use map to multiply each item with 2"
   ]
  },
  {
   "cell_type": "code",
   "execution_count": 24,
   "metadata": {},
   "outputs": [
    {
     "data": {
      "text/plain": [
       "[8, 12, 16, 4, 4, 12]"
      ]
     },
     "execution_count": 24,
     "metadata": {},
     "output_type": "execute_result"
    }
   ],
   "source": [
    "tran_data.map(lambda x : x*2).collect()"
   ]
  },
  {
   "cell_type": "markdown",
   "metadata": {},
   "source": [
    "Use filterMap to duplicate the items"
   ]
  },
  {
   "cell_type": "code",
   "execution_count": 25,
   "metadata": {},
   "outputs": [
    {
     "data": {
      "text/plain": [
       "[4, 4, 6, 6, 8, 8, 2, 2, 2, 2, 6, 6]"
      ]
     },
     "execution_count": 25,
     "metadata": {},
     "output_type": "execute_result"
    }
   ],
   "source": [
    "tran_data.flatMap(lambda x : [x,x]).collect()"
   ]
  },
  {
   "cell_type": "markdown",
   "metadata": {},
   "source": [
    "Filter from data where item is China"
   ]
  },
  {
   "cell_type": "code",
   "execution_count": 26,
   "metadata": {},
   "outputs": [
    {
     "data": {
      "text/plain": [
       "[['China', '20M', '2T'], ['China', '70M', '25T'], ['China', '70M', '25T']]"
      ]
     },
     "execution_count": 26,
     "metadata": {},
     "output_type": "execute_result"
    }
   ],
   "source": [
    "data.filter(lambda x : \"China\" in x).collect()"
   ]
  },
  {
   "cell_type": "markdown",
   "metadata": {},
   "source": [
    "Return unique items"
   ]
  },
  {
   "cell_type": "code",
   "execution_count": 27,
   "metadata": {},
   "outputs": [
    {
     "data": {
      "text/plain": [
       "[8, 2, 4, 6]"
      ]
     },
     "execution_count": 27,
     "metadata": {},
     "output_type": "execute_result"
    }
   ],
   "source": [
    "tran_data.distinct().collect()"
   ]
  },
  {
   "cell_type": "markdown",
   "metadata": {},
   "source": [
    "Sorting"
   ]
  },
  {
   "cell_type": "code",
   "execution_count": 28,
   "metadata": {},
   "outputs": [
    {
     "data": {
      "text/plain": [
       "[['China', '20M', '2T'],\n",
       " ['China', '70M', '25T'],\n",
       " ['China', '70M', '25T'],\n",
       " ['France', '50M', '3T'],\n",
       " ['France', '50M', '3T'],\n",
       " ['India', '30M', '30T'],\n",
       " ['Kenya', '70M', '25T'],\n",
       " ['Nigeria', '90M', '60T'],\n",
       " ['UK', '70M', '25T'],\n",
       " ['USA', '80M', '30T'],\n",
       " ['USA', '20M', '30T']]"
      ]
     },
     "execution_count": 28,
     "metadata": {},
     "output_type": "execute_result"
    }
   ],
   "source": [
    "data.sortByKey(1, True).collect()"
   ]
  },
  {
   "cell_type": "markdown",
   "metadata": {},
   "source": [
    "Join two RDDs"
   ]
  },
  {
   "cell_type": "code",
   "execution_count": 29,
   "metadata": {},
   "outputs": [
    {
     "name": "stdout",
     "output_type": "stream",
     "text": [
      "a :  [('USA', 35), ('Canada', 24), ('Mexico', 27), ('Kenya', 23)]\n",
      "b :  [('Kenya', 30), ('USA', 35), ('South Africa', 23), ('Rwanda', 23)]\n"
     ]
    }
   ],
   "source": [
    "print(\"a : \",a.collect())\n",
    "print(\"b : \",b.collect())"
   ]
  },
  {
   "cell_type": "code",
   "execution_count": 30,
   "metadata": {},
   "outputs": [
    {
     "data": {
      "text/plain": [
       "[('USA', (35, 35)), ('Kenya', (23, 30))]"
      ]
     },
     "execution_count": 30,
     "metadata": {},
     "output_type": "execute_result"
    }
   ],
   "source": [
    "a.join(b).collect()"
   ]
  },
  {
   "cell_type": "markdown",
   "metadata": {},
   "source": [
    "Left outer join"
   ]
  },
  {
   "cell_type": "code",
   "execution_count": 31,
   "metadata": {},
   "outputs": [
    {
     "data": {
      "text/plain": [
       "[('USA', (35, 35)),\n",
       " ('Mexico', (27, None)),\n",
       " ('Canada', (24, None)),\n",
       " ('Kenya', (23, 30))]"
      ]
     },
     "execution_count": 31,
     "metadata": {},
     "output_type": "execute_result"
    }
   ],
   "source": [
    "a.leftOuterJoin(b).collect()"
   ]
  },
  {
   "cell_type": "markdown",
   "metadata": {},
   "source": [
    "Right outer join"
   ]
  },
  {
   "cell_type": "code",
   "execution_count": 32,
   "metadata": {},
   "outputs": [
    {
     "data": {
      "text/plain": [
       "[('USA', (35, 35)),\n",
       " ('South Africa', (None, 23)),\n",
       " ('Kenya', (23, 30)),\n",
       " ('Rwanda', (None, 23))]"
      ]
     },
     "execution_count": 32,
     "metadata": {},
     "output_type": "execute_result"
    }
   ],
   "source": [
    "a.rightOuterJoin(b).collect()"
   ]
  },
  {
   "cell_type": "markdown",
   "metadata": {},
   "source": [
    "Union"
   ]
  },
  {
   "cell_type": "code",
   "execution_count": 33,
   "metadata": {},
   "outputs": [
    {
     "data": {
      "text/plain": [
       "[('USA', 35),\n",
       " ('Canada', 24),\n",
       " ('Mexico', 27),\n",
       " ('Kenya', 23),\n",
       " ('Kenya', 30),\n",
       " ('USA', 35),\n",
       " ('South Africa', 23),\n",
       " ('Rwanda', 23)]"
      ]
     },
     "execution_count": 33,
     "metadata": {},
     "output_type": "execute_result"
    }
   ],
   "source": [
    "a.union(b).collect()"
   ]
  },
  {
   "cell_type": "markdown",
   "metadata": {},
   "source": [
    "Difference"
   ]
  },
  {
   "cell_type": "code",
   "execution_count": 34,
   "metadata": {},
   "outputs": [
    {
     "data": {
      "text/plain": [
       "[('Kenya', 23), ('Canada', 24), ('Mexico', 27)]"
      ]
     },
     "execution_count": 34,
     "metadata": {},
     "output_type": "execute_result"
    }
   ],
   "source": [
    "a.subtract(b).collect()"
   ]
  },
  {
   "cell_type": "markdown",
   "metadata": {},
   "source": [
    "Intersection"
   ]
  },
  {
   "cell_type": "code",
   "execution_count": 35,
   "metadata": {},
   "outputs": [
    {
     "data": {
      "text/plain": [
       "[('USA', 35)]"
      ]
     },
     "execution_count": 35,
     "metadata": {},
     "output_type": "execute_result"
    }
   ],
   "source": [
    "a.intersection(b).collect()"
   ]
  },
  {
   "cell_type": "markdown",
   "metadata": {},
   "source": [
    "Cartesian"
   ]
  },
  {
   "cell_type": "code",
   "execution_count": 36,
   "metadata": {},
   "outputs": [
    {
     "data": {
      "text/plain": [
       "[(('USA', 35), ('Kenya', 30)),\n",
       " (('USA', 35), ('USA', 35)),\n",
       " (('USA', 35), ('South Africa', 23)),\n",
       " (('USA', 35), ('Rwanda', 23)),\n",
       " (('Canada', 24), ('Kenya', 30)),\n",
       " (('Canada', 24), ('USA', 35)),\n",
       " (('Canada', 24), ('South Africa', 23)),\n",
       " (('Canada', 24), ('Rwanda', 23)),\n",
       " (('Mexico', 27), ('Kenya', 30)),\n",
       " (('Mexico', 27), ('USA', 35)),\n",
       " (('Mexico', 27), ('South Africa', 23)),\n",
       " (('Mexico', 27), ('Rwanda', 23)),\n",
       " (('Kenya', 23), ('Kenya', 30)),\n",
       " (('Kenya', 23), ('USA', 35)),\n",
       " (('Kenya', 23), ('South Africa', 23)),\n",
       " (('Kenya', 23), ('Rwanda', 23))]"
      ]
     },
     "execution_count": 36,
     "metadata": {},
     "output_type": "execute_result"
    }
   ],
   "source": [
    "a.cartesian(b).collect()"
   ]
  },
  {
   "cell_type": "markdown",
   "metadata": {},
   "source": [
    "# 2. DataFrames in PySpark"
   ]
  },
  {
   "cell_type": "markdown",
   "metadata": {},
   "source": [
    "##### Creating Sparks DataFrames"
   ]
  },
  {
   "cell_type": "code",
   "execution_count": 37,
   "metadata": {},
   "outputs": [],
   "source": [
    "from pyspark.sql import SparkSession\n",
    "import pandas as pd\n",
    "\n",
    "spark = SparkSession.builder.getOrCreate()"
   ]
  },
  {
   "cell_type": "markdown",
   "metadata": {},
   "source": [
    "Create Spark DataFrame from List"
   ]
  },
  {
   "cell_type": "code",
   "execution_count": 38,
   "metadata": {},
   "outputs": [
    {
     "name": "stdout",
     "output_type": "stream",
     "text": [
      "+-------+----------+---+\n",
      "|Country|Population|GDP|\n",
      "+-------+----------+---+\n",
      "| France|       50M| 3T|\n",
      "|  India|       30M|30T|\n",
      "|  Kenya|       70M|25T|\n",
      "|Nigeria|       90M|60T|\n",
      "|  China|       20M| 2T|\n",
      "|    USA|       80M|30T|\n",
      "|     UK|       70M|25T|\n",
      "|    USA|       20M|30T|\n",
      "|  China|       70M|25T|\n",
      "| France|       50M| 3T|\n",
      "|  China|       70M|25T|\n",
      "+-------+----------+---+\n",
      "\n"
     ]
    }
   ],
   "source": [
    "spark_df_from_list = spark.createDataFrame([['France','50M','3T'],['India','30M','30T'],['Kenya','70M','25T'],\n",
    "                     ['Nigeria','90M','60T'],['China','20M','2T'],['USA','80M','30T'],\n",
    "                     ['UK','70M','25T'],['USA','20M','30T'],['China','70M','25T'],\n",
    "                     ['France', '50M', '3T'],['China','70M','25T'] ],\n",
    "                          schema='Country string,Population string,GDP string')\n",
    "spark_df_from_list.show()"
   ]
  },
  {
   "cell_type": "markdown",
   "metadata": {},
   "source": [
    "Create Spark DataFrame from Pandas DataFrame"
   ]
  },
  {
   "cell_type": "code",
   "execution_count": 39,
   "metadata": {},
   "outputs": [
    {
     "data": {
      "text/html": [
       "<div>\n",
       "<style scoped>\n",
       "    .dataframe tbody tr th:only-of-type {\n",
       "        vertical-align: middle;\n",
       "    }\n",
       "\n",
       "    .dataframe tbody tr th {\n",
       "        vertical-align: top;\n",
       "    }\n",
       "\n",
       "    .dataframe thead th {\n",
       "        text-align: right;\n",
       "    }\n",
       "</style>\n",
       "<table border=\"1\" class=\"dataframe\">\n",
       "  <thead>\n",
       "    <tr style=\"text-align: right;\">\n",
       "      <th></th>\n",
       "      <th>Country</th>\n",
       "      <th>Population</th>\n",
       "      <th>GDP</th>\n",
       "    </tr>\n",
       "  </thead>\n",
       "  <tbody>\n",
       "    <tr>\n",
       "      <th>0</th>\n",
       "      <td>France</td>\n",
       "      <td>50M</td>\n",
       "      <td>3T</td>\n",
       "    </tr>\n",
       "    <tr>\n",
       "      <th>1</th>\n",
       "      <td>India</td>\n",
       "      <td>30M</td>\n",
       "      <td>30T</td>\n",
       "    </tr>\n",
       "    <tr>\n",
       "      <th>2</th>\n",
       "      <td>Kenya</td>\n",
       "      <td>70M</td>\n",
       "      <td>25T</td>\n",
       "    </tr>\n",
       "    <tr>\n",
       "      <th>3</th>\n",
       "      <td>Nigeria</td>\n",
       "      <td>90M</td>\n",
       "      <td>60T</td>\n",
       "    </tr>\n",
       "    <tr>\n",
       "      <th>4</th>\n",
       "      <td>China</td>\n",
       "      <td>20M</td>\n",
       "      <td>2T</td>\n",
       "    </tr>\n",
       "    <tr>\n",
       "      <th>5</th>\n",
       "      <td>USA</td>\n",
       "      <td>80M</td>\n",
       "      <td>30T</td>\n",
       "    </tr>\n",
       "    <tr>\n",
       "      <th>6</th>\n",
       "      <td>UK</td>\n",
       "      <td>70M</td>\n",
       "      <td>25T</td>\n",
       "    </tr>\n",
       "    <tr>\n",
       "      <th>7</th>\n",
       "      <td>USA</td>\n",
       "      <td>20M</td>\n",
       "      <td>30T</td>\n",
       "    </tr>\n",
       "    <tr>\n",
       "      <th>8</th>\n",
       "      <td>China</td>\n",
       "      <td>70M</td>\n",
       "      <td>25T</td>\n",
       "    </tr>\n",
       "    <tr>\n",
       "      <th>9</th>\n",
       "      <td>France</td>\n",
       "      <td>50M</td>\n",
       "      <td>3T</td>\n",
       "    </tr>\n",
       "    <tr>\n",
       "      <th>10</th>\n",
       "      <td>China</td>\n",
       "      <td>70M</td>\n",
       "      <td>25T</td>\n",
       "    </tr>\n",
       "  </tbody>\n",
       "</table>\n",
       "</div>"
      ],
      "text/plain": [
       "    Country Population  GDP\n",
       "0    France        50M   3T\n",
       "1     India        30M  30T\n",
       "2     Kenya        70M  25T\n",
       "3   Nigeria        90M  60T\n",
       "4     China        20M   2T\n",
       "5       USA        80M  30T\n",
       "6        UK        70M  25T\n",
       "7       USA        20M  30T\n",
       "8     China        70M  25T\n",
       "9    France        50M   3T\n",
       "10    China        70M  25T"
      ]
     },
     "execution_count": 39,
     "metadata": {},
     "output_type": "execute_result"
    }
   ],
   "source": [
    "# Pandas DataFrame\n",
    "pandas_df=pd.DataFrame([['France','50M','3T'],['India','30M','30T'],['Kenya','70M','25T'],\n",
    "                     ['Nigeria','90M','60T'],['China','20M','2T'],['USA','80M','30T'],\n",
    "                     ['UK','70M','25T'],['USA','20M','30T'],['China','70M','25T'],\n",
    "                     ['France', '50M', '3T'],['China','70M','25T'] ],\n",
    "                          columns=['Country','Population','GDP'])\n",
    "pandas_df"
   ]
  },
  {
   "cell_type": "code",
   "execution_count": 40,
   "metadata": {},
   "outputs": [
    {
     "name": "stdout",
     "output_type": "stream",
     "text": [
      "+-------+----------+---+\n",
      "|Country|Population|GDP|\n",
      "+-------+----------+---+\n",
      "| France|       50M| 3T|\n",
      "|  India|       30M|30T|\n",
      "|  Kenya|       70M|25T|\n",
      "|Nigeria|       90M|60T|\n",
      "|  China|       20M| 2T|\n",
      "|    USA|       80M|30T|\n",
      "|     UK|       70M|25T|\n",
      "|    USA|       20M|30T|\n",
      "|  China|       70M|25T|\n",
      "| France|       50M| 3T|\n",
      "|  China|       70M|25T|\n",
      "+-------+----------+---+\n",
      "\n"
     ]
    }
   ],
   "source": [
    "# Sparks DataFrame\n",
    "spark_df=spark.createDataFrame(pandas_df)\n",
    "spark_df.show()"
   ]
  },
  {
   "cell_type": "markdown",
   "metadata": {},
   "source": [
    "Create a PySpark DataFrame from an RDD"
   ]
  },
  {
   "cell_type": "code",
   "execution_count": 41,
   "metadata": {},
   "outputs": [
    {
     "data": {
      "text/plain": [
       "[['France', '50M', '3T'],\n",
       " ['India', '30M', '30T'],\n",
       " ['Kenya', '70M', '25T'],\n",
       " ['Nigeria', '90M', '60T'],\n",
       " ['China', '20M', '2T'],\n",
       " ['USA', '80M', '30T'],\n",
       " ['UK', '70M', '25T'],\n",
       " ['USA', '20M', '30T'],\n",
       " ['China', '70M', '25T'],\n",
       " ['France', '50M', '3T'],\n",
       " ['China', '70M', '25T']]"
      ]
     },
     "execution_count": 41,
     "metadata": {},
     "output_type": "execute_result"
    }
   ],
   "source": [
    "# RDD Data\n",
    "rdd_data=sc.parallelize([['France','50M','3T'],['India','30M','30T'],['Kenya','70M','25T'],\n",
    "                     ['Nigeria','90M','60T'],['China','20M','2T'],['USA','80M','30T'],\n",
    "                     ['UK','70M','25T'],['USA','20M','30T'],['China','70M','25T'],\n",
    "                     ['France', '50M', '3T'],['China','70M','25T'] ])\n",
    "rdd_data.collect()"
   ]
  },
  {
   "cell_type": "code",
   "execution_count": 42,
   "metadata": {},
   "outputs": [
    {
     "name": "stdout",
     "output_type": "stream",
     "text": [
      "+-------+----------+---+\n",
      "|Country|Population|GDP|\n",
      "+-------+----------+---+\n",
      "| France|       50M| 3T|\n",
      "|  India|       30M|30T|\n",
      "|  Kenya|       70M|25T|\n",
      "|Nigeria|       90M|60T|\n",
      "|  China|       20M| 2T|\n",
      "|    USA|       80M|30T|\n",
      "|     UK|       70M|25T|\n",
      "|    USA|       20M|30T|\n",
      "|  China|       70M|25T|\n",
      "| France|       50M| 3T|\n",
      "|  China|       70M|25T|\n",
      "+-------+----------+---+\n",
      "\n"
     ]
    }
   ],
   "source": [
    "# Spark DataFrame from RDD\n",
    "spark_df_from_rdd=spark.createDataFrame(rdd_data, schema=['Country','Population','GDP'])\n",
    "spark_df_from_rdd.show()"
   ]
  },
  {
   "cell_type": "markdown",
   "metadata": {},
   "source": [
    "Display Spark DataFrame with Pandas DataFrame Jupyter Look and Feel"
   ]
  },
  {
   "cell_type": "code",
   "execution_count": 43,
   "metadata": {},
   "outputs": [
    {
     "data": {
      "text/html": [
       "<table border='1'>\n",
       "<tr><th>Country</th><th>Population</th><th>GDP</th></tr>\n",
       "<tr><td>France</td><td>50M</td><td>3T</td></tr>\n",
       "<tr><td>India</td><td>30M</td><td>30T</td></tr>\n",
       "<tr><td>Kenya</td><td>70M</td><td>25T</td></tr>\n",
       "<tr><td>Nigeria</td><td>90M</td><td>60T</td></tr>\n",
       "<tr><td>China</td><td>20M</td><td>2T</td></tr>\n",
       "<tr><td>USA</td><td>80M</td><td>30T</td></tr>\n",
       "<tr><td>UK</td><td>70M</td><td>25T</td></tr>\n",
       "<tr><td>USA</td><td>20M</td><td>30T</td></tr>\n",
       "<tr><td>China</td><td>70M</td><td>25T</td></tr>\n",
       "<tr><td>France</td><td>50M</td><td>3T</td></tr>\n",
       "<tr><td>China</td><td>70M</td><td>25T</td></tr>\n",
       "</table>\n"
      ],
      "text/plain": [
       "+-------+----------+---+\n",
       "|Country|Population|GDP|\n",
       "+-------+----------+---+\n",
       "| France|       50M| 3T|\n",
       "|  India|       30M|30T|\n",
       "|  Kenya|       70M|25T|\n",
       "|Nigeria|       90M|60T|\n",
       "|  China|       20M| 2T|\n",
       "|    USA|       80M|30T|\n",
       "|     UK|       70M|25T|\n",
       "|    USA|       20M|30T|\n",
       "|  China|       70M|25T|\n",
       "| France|       50M| 3T|\n",
       "|  China|       70M|25T|\n",
       "+-------+----------+---+"
      ]
     },
     "execution_count": 43,
     "metadata": {},
     "output_type": "execute_result"
    }
   ],
   "source": [
    "spark.conf.set('spark.sql.repl.eagerEval.enabled', True)\n",
    "spark_df_from_rdd"
   ]
  },
  {
   "cell_type": "markdown",
   "metadata": {},
   "source": [
    "Import Data to Spark from CSV file"
   ]
  },
  {
   "cell_type": "code",
   "execution_count": 44,
   "metadata": {},
   "outputs": [
    {
     "name": "stdout",
     "output_type": "stream",
     "text": [
      "+--------+------+--------------------+------+----+-----------------------+-----------------------+-------+\n",
      "|Survived|Pclass|                Name|   Sex| Age|Siblings/Spouses Aboard|Parents/Children Aboard|   Fare|\n",
      "+--------+------+--------------------+------+----+-----------------------+-----------------------+-------+\n",
      "|       0|     3|Mr. Owen Harris B...|  male|22.0|                      1|                      0|   7.25|\n",
      "|       1|     1|Mrs. John Bradley...|female|38.0|                      1|                      0|71.2833|\n",
      "|       1|     3|Miss. Laina Heikk...|female|26.0|                      0|                      0|  7.925|\n",
      "|       1|     1|Mrs. Jacques Heat...|female|35.0|                      1|                      0|   53.1|\n",
      "|       0|     3|Mr. William Henry...|  male|35.0|                      0|                      0|   8.05|\n",
      "|       0|     3|     Mr. James Moran|  male|27.0|                      0|                      0| 8.4583|\n",
      "|       0|     1|Mr. Timothy J McC...|  male|54.0|                      0|                      0|51.8625|\n",
      "|       0|     3|Master. Gosta Leo...|  male| 2.0|                      3|                      1| 21.075|\n",
      "|       1|     3|Mrs. Oscar W (Eli...|female|27.0|                      0|                      2|11.1333|\n",
      "|       1|     2|Mrs. Nicholas (Ad...|female|14.0|                      1|                      0|30.0708|\n",
      "|       1|     3|Miss. Marguerite ...|female| 4.0|                      1|                      1|   16.7|\n",
      "|       1|     1|Miss. Elizabeth B...|female|58.0|                      0|                      0|  26.55|\n",
      "|       0|     3|Mr. William Henry...|  male|20.0|                      0|                      0|   8.05|\n",
      "|       0|     3|Mr. Anders Johan ...|  male|39.0|                      1|                      5| 31.275|\n",
      "|       0|     3|Miss. Hulda Amand...|female|14.0|                      0|                      0| 7.8542|\n",
      "|       1|     2|Mrs. (Mary D King...|female|55.0|                      0|                      0|   16.0|\n",
      "|       0|     3| Master. Eugene Rice|  male| 2.0|                      4|                      1| 29.125|\n",
      "|       1|     2|Mr. Charles Eugen...|  male|23.0|                      0|                      0|   13.0|\n",
      "|       0|     3|Mrs. Julius (Emel...|female|31.0|                      1|                      0|   18.0|\n",
      "|       1|     3|Mrs. Fatima Masse...|female|22.0|                      0|                      0|  7.225|\n",
      "+--------+------+--------------------+------+----+-----------------------+-----------------------+-------+\n",
      "only showing top 20 rows\n",
      "\n"
     ]
    }
   ],
   "source": [
    "df=spark.read.csv(\"titanic.csv\", inferSchema=True, header=True)\n",
    "df.show()"
   ]
  },
  {
   "cell_type": "markdown",
   "metadata": {},
   "source": [
    "Show data schema"
   ]
  },
  {
   "cell_type": "code",
   "execution_count": 45,
   "metadata": {},
   "outputs": [
    {
     "name": "stdout",
     "output_type": "stream",
     "text": [
      "root\n",
      " |-- Survived: integer (nullable = true)\n",
      " |-- Pclass: integer (nullable = true)\n",
      " |-- Name: string (nullable = true)\n",
      " |-- Sex: string (nullable = true)\n",
      " |-- Age: double (nullable = true)\n",
      " |-- Siblings/Spouses Aboard: integer (nullable = true)\n",
      " |-- Parents/Children Aboard: integer (nullable = true)\n",
      " |-- Fare: double (nullable = true)\n",
      "\n"
     ]
    }
   ],
   "source": [
    "df.printSchema()"
   ]
  },
  {
   "cell_type": "markdown",
   "metadata": {},
   "source": [
    "Show data types"
   ]
  },
  {
   "cell_type": "code",
   "execution_count": 46,
   "metadata": {},
   "outputs": [
    {
     "data": {
      "text/plain": [
       "[('Survived', 'int'),\n",
       " ('Pclass', 'int'),\n",
       " ('Name', 'string'),\n",
       " ('Sex', 'string'),\n",
       " ('Age', 'double'),\n",
       " ('Siblings/Spouses Aboard', 'int'),\n",
       " ('Parents/Children Aboard', 'int'),\n",
       " ('Fare', 'double')]"
      ]
     },
     "execution_count": 46,
     "metadata": {},
     "output_type": "execute_result"
    }
   ],
   "source": [
    "df.dtypes"
   ]
  },
  {
   "cell_type": "markdown",
   "metadata": {},
   "source": [
    "Show logical and physical structure of the DataFrame"
   ]
  },
  {
   "cell_type": "code",
   "execution_count": 47,
   "metadata": {},
   "outputs": [
    {
     "name": "stdout",
     "output_type": "stream",
     "text": [
      "== Physical Plan ==\n",
      "FileScan csv [Survived#99,Pclass#100,Name#101,Sex#102,Age#103,Siblings/Spouses Aboard#104,Parents/Children Aboard#105,Fare#106] Batched: false, DataFilters: [], Format: CSV, Location: InMemoryFileIndex[file:/C:/Users/soongaya/Documents/Data Science/data2ml/git/data2ml/titanic.csv], PartitionFilters: [], PushedFilters: [], ReadSchema: struct<Survived:int,Pclass:int,Name:string,Sex:string,Age:double,Siblings/Spouses Aboard:int,Pare...\n",
      "\n",
      "\n"
     ]
    }
   ],
   "source": [
    "df.explain()"
   ]
  },
  {
   "cell_type": "markdown",
   "metadata": {},
   "source": [
    "show columns"
   ]
  },
  {
   "cell_type": "code",
   "execution_count": 48,
   "metadata": {},
   "outputs": [
    {
     "data": {
      "text/plain": [
       "['Survived',\n",
       " 'Pclass',\n",
       " 'Name',\n",
       " 'Sex',\n",
       " 'Age',\n",
       " 'Siblings/Spouses Aboard',\n",
       " 'Parents/Children Aboard',\n",
       " 'Fare']"
      ]
     },
     "execution_count": 48,
     "metadata": {},
     "output_type": "execute_result"
    }
   ],
   "source": [
    "df.columns"
   ]
  },
  {
   "cell_type": "markdown",
   "metadata": {},
   "source": [
    "Show top 5 records with head function"
   ]
  },
  {
   "cell_type": "code",
   "execution_count": 49,
   "metadata": {},
   "outputs": [
    {
     "data": {
      "text/plain": [
       "[Row(Survived=0, Pclass=3, Name='Mr. Owen Harris Braund', Sex='male', Age=22.0, Siblings/Spouses Aboard=1, Parents/Children Aboard=0, Fare=7.25),\n",
       " Row(Survived=1, Pclass=1, Name='Mrs. John Bradley (Florence Briggs Thayer) Cumings', Sex='female', Age=38.0, Siblings/Spouses Aboard=1, Parents/Children Aboard=0, Fare=71.2833),\n",
       " Row(Survived=1, Pclass=3, Name='Miss. Laina Heikkinen', Sex='female', Age=26.0, Siblings/Spouses Aboard=0, Parents/Children Aboard=0, Fare=7.925),\n",
       " Row(Survived=1, Pclass=1, Name='Mrs. Jacques Heath (Lily May Peel) Futrelle', Sex='female', Age=35.0, Siblings/Spouses Aboard=1, Parents/Children Aboard=0, Fare=53.1),\n",
       " Row(Survived=0, Pclass=3, Name='Mr. William Henry Allen', Sex='male', Age=35.0, Siblings/Spouses Aboard=0, Parents/Children Aboard=0, Fare=8.05)]"
      ]
     },
     "execution_count": 49,
     "metadata": {},
     "output_type": "execute_result"
    }
   ],
   "source": [
    "df.head(5)"
   ]
  },
  {
   "cell_type": "markdown",
   "metadata": {},
   "source": [
    "Show top 5 records in a tabular format with show function"
   ]
  },
  {
   "cell_type": "code",
   "execution_count": 50,
   "metadata": {},
   "outputs": [
    {
     "name": "stdout",
     "output_type": "stream",
     "text": [
      "+--------+------+--------------------+------+----+-----------------------+-----------------------+-------+\n",
      "|Survived|Pclass|                Name|   Sex| Age|Siblings/Spouses Aboard|Parents/Children Aboard|   Fare|\n",
      "+--------+------+--------------------+------+----+-----------------------+-----------------------+-------+\n",
      "|       0|     3|Mr. Owen Harris B...|  male|22.0|                      1|                      0|   7.25|\n",
      "|       1|     1|Mrs. John Bradley...|female|38.0|                      1|                      0|71.2833|\n",
      "|       1|     3|Miss. Laina Heikk...|female|26.0|                      0|                      0|  7.925|\n",
      "|       1|     1|Mrs. Jacques Heat...|female|35.0|                      1|                      0|   53.1|\n",
      "|       0|     3|Mr. William Henry...|  male|35.0|                      0|                      0|   8.05|\n",
      "+--------+------+--------------------+------+----+-----------------------+-----------------------+-------+\n",
      "only showing top 5 rows\n",
      "\n"
     ]
    }
   ],
   "source": [
    "df.show(5)"
   ]
  },
  {
   "cell_type": "markdown",
   "metadata": {},
   "source": [
    "Show top 5 records with take function"
   ]
  },
  {
   "cell_type": "code",
   "execution_count": 51,
   "metadata": {},
   "outputs": [
    {
     "data": {
      "text/plain": [
       "[Row(Survived=0, Pclass=3, Name='Mr. Owen Harris Braund', Sex='male', Age=22.0, Siblings/Spouses Aboard=1, Parents/Children Aboard=0, Fare=7.25),\n",
       " Row(Survived=1, Pclass=1, Name='Mrs. John Bradley (Florence Briggs Thayer) Cumings', Sex='female', Age=38.0, Siblings/Spouses Aboard=1, Parents/Children Aboard=0, Fare=71.2833),\n",
       " Row(Survived=1, Pclass=3, Name='Miss. Laina Heikkinen', Sex='female', Age=26.0, Siblings/Spouses Aboard=0, Parents/Children Aboard=0, Fare=7.925),\n",
       " Row(Survived=1, Pclass=1, Name='Mrs. Jacques Heath (Lily May Peel) Futrelle', Sex='female', Age=35.0, Siblings/Spouses Aboard=1, Parents/Children Aboard=0, Fare=53.1),\n",
       " Row(Survived=0, Pclass=3, Name='Mr. William Henry Allen', Sex='male', Age=35.0, Siblings/Spouses Aboard=0, Parents/Children Aboard=0, Fare=8.05)]"
      ]
     },
     "execution_count": 51,
     "metadata": {},
     "output_type": "execute_result"
    }
   ],
   "source": [
    "df.take(5)"
   ]
  },
  {
   "cell_type": "markdown",
   "metadata": {},
   "source": [
    "Show data with three features/columns only"
   ]
  },
  {
   "cell_type": "code",
   "execution_count": 52,
   "metadata": {},
   "outputs": [
    {
     "name": "stdout",
     "output_type": "stream",
     "text": [
      "+--------------------+----+--------+\n",
      "|                name| age|survived|\n",
      "+--------------------+----+--------+\n",
      "|Mr. Owen Harris B...|22.0|       0|\n",
      "|Mrs. John Bradley...|38.0|       1|\n",
      "|Miss. Laina Heikk...|26.0|       1|\n",
      "|Mrs. Jacques Heat...|35.0|       1|\n",
      "|Mr. William Henry...|35.0|       0|\n",
      "+--------------------+----+--------+\n",
      "only showing top 5 rows\n",
      "\n"
     ]
    }
   ],
   "source": [
    "df.select('name','age','survived').show(5)"
   ]
  },
  {
   "cell_type": "markdown",
   "metadata": {},
   "source": [
    "Show distinct records"
   ]
  },
  {
   "cell_type": "code",
   "execution_count": 53,
   "metadata": {},
   "outputs": [
    {
     "name": "stdout",
     "output_type": "stream",
     "text": [
      "+------+\n",
      "|   sex|\n",
      "+------+\n",
      "|female|\n",
      "|  male|\n",
      "+------+\n",
      "\n"
     ]
    }
   ],
   "source": [
    "df.select('sex').distinct().show()"
   ]
  },
  {
   "cell_type": "markdown",
   "metadata": {},
   "source": [
    "Count distinct records"
   ]
  },
  {
   "cell_type": "code",
   "execution_count": 54,
   "metadata": {},
   "outputs": [
    {
     "data": {
      "text/plain": [
       "2"
      ]
     },
     "execution_count": 54,
     "metadata": {},
     "output_type": "execute_result"
    }
   ],
   "source": [
    "df.select('sex').distinct().count()"
   ]
  },
  {
   "cell_type": "markdown",
   "metadata": {},
   "source": [
    "Aggregate data with groupby"
   ]
  },
  {
   "cell_type": "code",
   "execution_count": 55,
   "metadata": {},
   "outputs": [
    {
     "name": "stdout",
     "output_type": "stream",
     "text": [
      "+------+-----+\n",
      "|   sex|count|\n",
      "+------+-----+\n",
      "|female|  314|\n",
      "|  male|  573|\n",
      "+------+-----+\n",
      "\n"
     ]
    }
   ],
   "source": [
    "df.select('sex').groupby('sex').count().show()"
   ]
  },
  {
   "cell_type": "markdown",
   "metadata": {},
   "source": [
    "Show the number of columns"
   ]
  },
  {
   "cell_type": "code",
   "execution_count": 56,
   "metadata": {},
   "outputs": [
    {
     "data": {
      "text/plain": [
       "8"
      ]
     },
     "execution_count": 56,
     "metadata": {},
     "output_type": "execute_result"
    }
   ],
   "source": [
    "len(df.columns)"
   ]
  },
  {
   "cell_type": "markdown",
   "metadata": {},
   "source": [
    "Describe Dataframe for statistical analysis"
   ]
  },
  {
   "cell_type": "code",
   "execution_count": 57,
   "metadata": {},
   "outputs": [
    {
     "data": {
      "text/html": [
       "<table border='1'>\n",
       "<tr><th>summary</th><th>Sex</th><th>Pclass</th><th>age</th><th>survived</th><th>Fare</th></tr>\n",
       "<tr><td>count</td><td>887</td><td>887</td><td>887</td><td>887</td><td>887</td></tr>\n",
       "<tr><td>mean</td><td>null</td><td>2.305524239007892</td><td>29.471443066516347</td><td>0.3855693348365276</td><td>32.30542018038328</td></tr>\n",
       "<tr><td>stddev</td><td>null</td><td>0.8366620036697728</td><td>14.121908405462552</td><td>0.48700411775101266</td><td>49.78204040017391</td></tr>\n",
       "<tr><td>min</td><td>female</td><td>1</td><td>0.42</td><td>0</td><td>0.0</td></tr>\n",
       "<tr><td>max</td><td>male</td><td>3</td><td>80.0</td><td>1</td><td>512.3292</td></tr>\n",
       "</table>\n"
      ],
      "text/plain": [
       "+-------+------+------------------+------------------+-------------------+-----------------+\n",
       "|summary|   Sex|            Pclass|               age|           survived|             Fare|\n",
       "+-------+------+------------------+------------------+-------------------+-----------------+\n",
       "|  count|   887|               887|               887|                887|              887|\n",
       "|   mean|  null| 2.305524239007892|29.471443066516347| 0.3855693348365276|32.30542018038328|\n",
       "| stddev|  null|0.8366620036697728|14.121908405462552|0.48700411775101266|49.78204040017391|\n",
       "|    min|female|                 1|              0.42|                  0|              0.0|\n",
       "|    max|  male|                 3|              80.0|                  1|         512.3292|\n",
       "+-------+------+------------------+------------------+-------------------+-----------------+"
      ]
     },
     "execution_count": 57,
     "metadata": {},
     "output_type": "execute_result"
    }
   ],
   "source": [
    "df.select('Sex','Pclass','age','survived','Fare').describe()"
   ]
  },
  {
   "cell_type": "markdown",
   "metadata": {},
   "source": [
    "Describe single feature for statistical analysis"
   ]
  },
  {
   "cell_type": "code",
   "execution_count": 58,
   "metadata": {},
   "outputs": [
    {
     "name": "stdout",
     "output_type": "stream",
     "text": [
      "+-------+------+\n",
      "|summary|   sex|\n",
      "+-------+------+\n",
      "|  count|   887|\n",
      "|   mean|  null|\n",
      "| stddev|  null|\n",
      "|    min|female|\n",
      "|    max|  male|\n",
      "+-------+------+\n",
      "\n"
     ]
    }
   ],
   "source": [
    "df.describe('sex').show()"
   ]
  },
  {
   "cell_type": "markdown",
   "metadata": {},
   "source": [
    "Adding a new column"
   ]
  },
  {
   "cell_type": "code",
   "execution_count": 59,
   "metadata": {},
   "outputs": [
    {
     "name": "stdout",
     "output_type": "stream",
     "text": [
      "+--------------------+------+-------+--------+\n",
      "|                name|pclass|   fare|new_fare|\n",
      "+--------------------+------+-------+--------+\n",
      "|Mr. Owen Harris B...|     3|   7.25|  107.25|\n",
      "|Mrs. John Bradley...|     1|71.2833|171.2833|\n",
      "|Miss. Laina Heikk...|     3|  7.925| 107.925|\n",
      "|Mrs. Jacques Heat...|     1|   53.1|   153.1|\n",
      "|Mr. William Henry...|     3|   8.05|  108.05|\n",
      "+--------------------+------+-------+--------+\n",
      "only showing top 5 rows\n",
      "\n"
     ]
    }
   ],
   "source": [
    "df=df.withColumn('new_fare',df['fare']+100) # adding 100 on the base fare to get new fare\n",
    "df.select('name','pclass','fare','new_fare').show(5)"
   ]
  },
  {
   "cell_type": "markdown",
   "metadata": {},
   "source": [
    "Rename a column"
   ]
  },
  {
   "cell_type": "code",
   "execution_count": 60,
   "metadata": {},
   "outputs": [
    {
     "data": {
      "text/plain": [
       "['Survived',\n",
       " 'Passenger_Class',\n",
       " 'Name',\n",
       " 'Sex',\n",
       " 'Age',\n",
       " 'Siblings/Spouses Aboard',\n",
       " 'Parents/Children Aboard',\n",
       " 'Fare',\n",
       " 'new_fare']"
      ]
     },
     "execution_count": 60,
     "metadata": {},
     "output_type": "execute_result"
    }
   ],
   "source": [
    "df=df.withColumnRenamed('pclass','Passenger_Class') # Rename pclass to Passenger_Class\n",
    "df.columns"
   ]
  },
  {
   "cell_type": "markdown",
   "metadata": {},
   "source": [
    "Aggregate with groupby sum in a specific column"
   ]
  },
  {
   "cell_type": "code",
   "execution_count": 61,
   "metadata": {},
   "outputs": [
    {
     "name": "stdout",
     "output_type": "stream",
     "text": [
      "+------+-------------+--------------------+------------------+----------------------------+----------------------------+-----------------+-----------------+\n",
      "|   sex|sum(Survived)|sum(Passenger_Class)|          sum(Age)|sum(Siblings/Spouses Aboard)|sum(Parents/Children Aboard)|        sum(Fare)|    sum(new_fare)|\n",
      "+------+-------------+--------------------+------------------+----------------------------+----------------------------+-----------------+-----------------+\n",
      "|female|          233|                 678|            8704.0|                         218|                         204|13966.66279999999|45366.66280000006|\n",
      "|  male|          109|                1367|17437.170000000002|                         248|                         136|14688.24489999999|71988.24490000005|\n",
      "+------+-------------+--------------------+------------------+----------------------------+----------------------------+-----------------+-----------------+\n",
      "\n"
     ]
    }
   ],
   "source": [
    "df.groupby('sex').sum().show()"
   ]
  },
  {
   "cell_type": "markdown",
   "metadata": {},
   "source": [
    "Aggregate with groupby sum in a specific column"
   ]
  },
  {
   "cell_type": "code",
   "execution_count": 62,
   "metadata": {},
   "outputs": [
    {
     "name": "stdout",
     "output_type": "stream",
     "text": [
      "+------+-----------------+--------------------+-------------+\n",
      "|   sex|        sum(fare)|sum(Passenger_Class)|sum(Survived)|\n",
      "+------+-----------------+--------------------+-------------+\n",
      "|female|13966.66279999999|                 678|          233|\n",
      "|  male|14688.24489999999|                1367|          109|\n",
      "+------+-----------------+--------------------+-------------+\n",
      "\n"
     ]
    }
   ],
   "source": [
    "df.select('sex','fare','Passenger_Class','Survived').groupby('sex').sum().show()"
   ]
  },
  {
   "cell_type": "markdown",
   "metadata": {},
   "source": [
    "Pivot"
   ]
  },
  {
   "cell_type": "code",
   "execution_count": 63,
   "metadata": {},
   "outputs": [
    {
     "name": "stdout",
     "output_type": "stream",
     "text": [
      "+------+---+---+----+\n",
      "|   sex|  1|  2|   3|\n",
      "+------+---+---+----+\n",
      "|female| 94|152| 432|\n",
      "|  male|122|216|1029|\n",
      "+------+---+---+----+\n",
      "\n"
     ]
    }
   ],
   "source": [
    "df.select('sex','Passenger_Class').groupby('sex').pivot('Passenger_Class').sum().show()"
   ]
  },
  {
   "cell_type": "markdown",
   "metadata": {},
   "source": [
    "Drop columns"
   ]
  },
  {
   "cell_type": "code",
   "execution_count": 64,
   "metadata": {},
   "outputs": [
    {
     "data": {
      "text/plain": [
       "['Survived',\n",
       " 'Passenger_Class',\n",
       " 'Name',\n",
       " 'Sex',\n",
       " 'Age',\n",
       " 'Siblings/Spouses Aboard',\n",
       " 'Parents/Children Aboard',\n",
       " 'Fare']"
      ]
     },
     "execution_count": 64,
     "metadata": {},
     "output_type": "execute_result"
    }
   ],
   "source": [
    "# Lets new_fare and home.dest columns\n",
    "df=df.drop('new_fare','home.dest')\n",
    "df.columns"
   ]
  },
  {
   "cell_type": "markdown",
   "metadata": {},
   "source": [
    "Show null values for in fare column"
   ]
  },
  {
   "cell_type": "code",
   "execution_count": 65,
   "metadata": {},
   "outputs": [
    {
     "name": "stdout",
     "output_type": "stream",
     "text": [
      "+----+\n",
      "|fare|\n",
      "+----+\n",
      "+----+\n",
      "\n"
     ]
    }
   ],
   "source": [
    "df.select('fare').where('fare is null').show()"
   ]
  },
  {
   "cell_type": "markdown",
   "metadata": {},
   "source": [
    "Drop null values"
   ]
  },
  {
   "cell_type": "code",
   "execution_count": 66,
   "metadata": {},
   "outputs": [
    {
     "name": "stdout",
     "output_type": "stream",
     "text": [
      "+----+\n",
      "|fare|\n",
      "+----+\n",
      "+----+\n",
      "\n"
     ]
    }
   ],
   "source": [
    "drop_null_df=df.dropna()\n",
    "drop_null_df.select('fare').where('fare is null').show()"
   ]
  },
  {
   "cell_type": "markdown",
   "metadata": {},
   "source": [
    "Replace null with specific value"
   ]
  },
  {
   "cell_type": "code",
   "execution_count": 67,
   "metadata": {},
   "outputs": [
    {
     "name": "stdout",
     "output_type": "stream",
     "text": [
      "+--------------------+----+\n",
      "|                name|fare|\n",
      "+--------------------+----+\n",
      "|  Mr. Lionel Leonard| 0.0|\n",
      "|Mr. William Harrison| 0.0|\n",
      "|Mr. William Henry...| 0.0|\n",
      "|  Mr. Francis Parkes| 0.0|\n",
      "|Mr. William Cahoo...| 0.0|\n",
      "|Mr. Alfred Flemin...| 0.0|\n",
      "|Mr. William Campbell| 0.0|\n",
      "|Mr. Anthony Wood ...| 0.0|\n",
      "|  Mr. Alfred Johnson| 0.0|\n",
      "|Mr. William Henry...| 0.0|\n",
      "|Mr. Ennis Hasting...| 0.0|\n",
      "| Mr. Robert J Knight| 0.0|\n",
      "|Mr. Thomas Jr And...| 0.0|\n",
      "|     Mr. Richard Fry| 0.0|\n",
      "|Jonkheer. John Ge...| 0.0|\n",
      "+--------------------+----+\n",
      "\n"
     ]
    }
   ],
   "source": [
    "replace_null_df=df.fillna(0.00) # Replace fare null values with 0.00 \n",
    "replace_null_df.filter(replace_null_df['fare']==0.00).select('name','fare').show()"
   ]
  },
  {
   "cell_type": "markdown",
   "metadata": {},
   "source": [
    "Select data with \"like\""
   ]
  },
  {
   "cell_type": "code",
   "execution_count": 68,
   "metadata": {},
   "outputs": [
    {
     "name": "stdout",
     "output_type": "stream",
     "text": [
      "+--------------------+---------------+\n",
      "|                name|name LIKE Allen|\n",
      "+--------------------+---------------+\n",
      "|Mr. Owen Harris B...|          false|\n",
      "|Mrs. John Bradley...|          false|\n",
      "|Miss. Laina Heikk...|          false|\n",
      "|Mrs. Jacques Heat...|          false|\n",
      "|Mr. William Henry...|          false|\n",
      "+--------------------+---------------+\n",
      "only showing top 5 rows\n",
      "\n"
     ]
    }
   ],
   "source": [
    "df.select(\"name\",df['name'].like(\"Allen\")).show(5)"
   ]
  },
  {
   "cell_type": "markdown",
   "metadata": {},
   "source": [
    "Select data using \"startswith\""
   ]
  },
  {
   "cell_type": "code",
   "execution_count": 69,
   "metadata": {},
   "outputs": [
    {
     "name": "stdout",
     "output_type": "stream",
     "text": [
      "+--------------------+---------------------+\n",
      "|                name|startswith(name, All)|\n",
      "+--------------------+---------------------+\n",
      "|Mr. Owen Harris B...|                false|\n",
      "|Mrs. John Bradley...|                false|\n",
      "|Miss. Laina Heikk...|                false|\n",
      "|Mrs. Jacques Heat...|                false|\n",
      "|Mr. William Henry...|                false|\n",
      "+--------------------+---------------------+\n",
      "only showing top 5 rows\n",
      "\n"
     ]
    }
   ],
   "source": [
    "df.select(\"name\",df['name'].startswith(\"All\")).show(5)"
   ]
  },
  {
   "cell_type": "markdown",
   "metadata": {},
   "source": [
    "Select data using \"endswith\""
   ]
  },
  {
   "cell_type": "code",
   "execution_count": 70,
   "metadata": {},
   "outputs": [
    {
     "name": "stdout",
     "output_type": "stream",
     "text": [
      "+--------------------+-----------------+\n",
      "|                name|endswith(name, n)|\n",
      "+--------------------+-----------------+\n",
      "|Mr. Owen Harris B...|            false|\n",
      "|Mrs. John Bradley...|            false|\n",
      "|Miss. Laina Heikk...|             true|\n",
      "|Mrs. Jacques Heat...|            false|\n",
      "|Mr. William Henry...|             true|\n",
      "+--------------------+-----------------+\n",
      "only showing top 5 rows\n",
      "\n"
     ]
    }
   ],
   "source": [
    "df.select('name',df['name'].endswith('n')).show(5)"
   ]
  },
  {
   "cell_type": "markdown",
   "metadata": {},
   "source": [
    "Select data using \"between\""
   ]
  },
  {
   "cell_type": "code",
   "execution_count": 71,
   "metadata": {},
   "outputs": [
    {
     "name": "stdout",
     "output_type": "stream",
     "text": [
      "+----+-----------------------------+\n",
      "| age|((age >= 30) AND (age <= 50))|\n",
      "+----+-----------------------------+\n",
      "|22.0|                        false|\n",
      "|38.0|                         true|\n",
      "|26.0|                        false|\n",
      "|35.0|                         true|\n",
      "|35.0|                         true|\n",
      "|27.0|                        false|\n",
      "|54.0|                        false|\n",
      "| 2.0|                        false|\n",
      "|27.0|                        false|\n",
      "|14.0|                        false|\n",
      "+----+-----------------------------+\n",
      "only showing top 10 rows\n",
      "\n"
     ]
    }
   ],
   "source": [
    "df.select('age',df['age'].between(30,50)).show(10)"
   ]
  },
  {
   "cell_type": "markdown",
   "metadata": {},
   "source": [
    "Select data using \"contains\""
   ]
  },
  {
   "cell_type": "code",
   "execution_count": 72,
   "metadata": {},
   "outputs": [
    {
     "name": "stdout",
     "output_type": "stream",
     "text": [
      "+--------------------+-------------------+\n",
      "|                name|contains(name, All)|\n",
      "+--------------------+-------------------+\n",
      "|Mr. Owen Harris B...|              false|\n",
      "|Mrs. John Bradley...|              false|\n",
      "|Miss. Laina Heikk...|              false|\n",
      "|Mrs. Jacques Heat...|              false|\n",
      "|Mr. William Henry...|               true|\n",
      "+--------------------+-------------------+\n",
      "only showing top 5 rows\n",
      "\n"
     ]
    }
   ],
   "source": [
    "df.select('name',df['name'].contains('All')).show(5)"
   ]
  },
  {
   "cell_type": "markdown",
   "metadata": {},
   "source": [
    "Select data using \"substr\""
   ]
  },
  {
   "cell_type": "code",
   "execution_count": 73,
   "metadata": {},
   "outputs": [
    {
     "name": "stdout",
     "output_type": "stream",
     "text": [
      "+--------------------+---------------------+\n",
      "|                name|substring(name, 0, 5)|\n",
      "+--------------------+---------------------+\n",
      "|Mr. Owen Harris B...|                Mr. O|\n",
      "|Mrs. John Bradley...|                Mrs. |\n",
      "|Miss. Laina Heikk...|                Miss.|\n",
      "|Mrs. Jacques Heat...|                Mrs. |\n",
      "|Mr. William Henry...|                Mr. W|\n",
      "|     Mr. James Moran|                Mr. J|\n",
      "|Mr. Timothy J McC...|                Mr. T|\n",
      "|Master. Gosta Leo...|                Maste|\n",
      "|Mrs. Oscar W (Eli...|                Mrs. |\n",
      "|Mrs. Nicholas (Ad...|                Mrs. |\n",
      "+--------------------+---------------------+\n",
      "only showing top 10 rows\n",
      "\n"
     ]
    }
   ],
   "source": [
    "df.select('name',df['name'].substr(0,5)).show(10)"
   ]
  },
  {
   "cell_type": "markdown",
   "metadata": {},
   "source": [
    "Select data using substring and creating a new alias"
   ]
  },
  {
   "cell_type": "code",
   "execution_count": 74,
   "metadata": {},
   "outputs": [
    {
     "name": "stdout",
     "output_type": "stream",
     "text": [
      "+--------------------+-------------------------+\n",
      "|                name|First 5 String Characters|\n",
      "+--------------------+-------------------------+\n",
      "|Mr. Owen Harris B...|                    Mr. O|\n",
      "|Mrs. John Bradley...|                    Mrs. |\n",
      "|Miss. Laina Heikk...|                    Miss.|\n",
      "|Mrs. Jacques Heat...|                    Mrs. |\n",
      "|Mr. William Henry...|                    Mr. W|\n",
      "|     Mr. James Moran|                    Mr. J|\n",
      "|Mr. Timothy J McC...|                    Mr. T|\n",
      "|Master. Gosta Leo...|                    Maste|\n",
      "|Mrs. Oscar W (Eli...|                    Mrs. |\n",
      "|Mrs. Nicholas (Ad...|                    Mrs. |\n",
      "+--------------------+-------------------------+\n",
      "only showing top 10 rows\n",
      "\n"
     ]
    }
   ],
   "source": [
    "df.select('name',df['name'].substr(0,5).alias('First 5 String Characters')).show(10)"
   ]
  },
  {
   "cell_type": "markdown",
   "metadata": {},
   "source": [
    "Select data using conditional operators in filter"
   ]
  },
  {
   "cell_type": "code",
   "execution_count": 75,
   "metadata": {},
   "outputs": [
    {
     "name": "stdout",
     "output_type": "stream",
     "text": [
      "+--------------------+----+\n",
      "|                name| age|\n",
      "+--------------------+----+\n",
      "|Don. Manuel E Uru...|40.0|\n",
      "|Mrs. William Augu...|48.0|\n",
      "|Mr. Alexander Osk...|42.0|\n",
      "|Mrs. Johan (Johan...|40.0|\n",
      "|Mrs. Henry Sleepe...|49.0|\n",
      "+--------------------+----+\n",
      "only showing top 5 rows\n",
      "\n"
     ]
    }
   ],
   "source": [
    "df.filter((df['age']>=40) & (df['age']<=50)).select('name','age').show(5)"
   ]
  },
  {
   "cell_type": "markdown",
   "metadata": {},
   "source": [
    "Select data using \"startswith\" in filter"
   ]
  },
  {
   "cell_type": "code",
   "execution_count": 76,
   "metadata": {},
   "outputs": [
    {
     "name": "stdout",
     "output_type": "stream",
     "text": [
      "+--------------------+\n",
      "|                name|\n",
      "+--------------------+\n",
      "|Don. Manuel E Uru...|\n",
      "+--------------------+\n",
      "\n"
     ]
    }
   ],
   "source": [
    "df.filter(df['name'].startswith(\"Don\")).select('name').show()"
   ]
  },
  {
   "cell_type": "markdown",
   "metadata": {},
   "source": [
    "Select data using \"contains\" in filter"
   ]
  },
  {
   "cell_type": "code",
   "execution_count": 77,
   "metadata": {},
   "outputs": [
    {
     "name": "stdout",
     "output_type": "stream",
     "text": [
      "+--------------------+\n",
      "|                name|\n",
      "+--------------------+\n",
      "|Master. Gosta Leo...|\n",
      "| Master. Eugene Rice|\n",
      "|Master. Juha Niil...|\n",
      "|Master. William F...|\n",
      "|Master. Harald Skoog|\n",
      "+--------------------+\n",
      "only showing top 5 rows\n",
      "\n"
     ]
    }
   ],
   "source": [
    "df.filter(df['name'].contains('Master')).select('name').show(5)"
   ]
  },
  {
   "cell_type": "markdown",
   "metadata": {},
   "source": [
    "# 3. Spark SQL with PySpark"
   ]
  },
  {
   "cell_type": "markdown",
   "metadata": {},
   "source": [
    "Read data"
   ]
  },
  {
   "cell_type": "code",
   "execution_count": 78,
   "metadata": {},
   "outputs": [
    {
     "name": "stdout",
     "output_type": "stream",
     "text": [
      "+--------+------+--------------------+------+----+-----------------------+-----------------------+-------+\n",
      "|Survived|Pclass|                Name|   Sex| Age|Siblings/Spouses Aboard|Parents/Children Aboard|   Fare|\n",
      "+--------+------+--------------------+------+----+-----------------------+-----------------------+-------+\n",
      "|       0|     3|Mr. Owen Harris B...|  male|22.0|                      1|                      0|   7.25|\n",
      "|       1|     1|Mrs. John Bradley...|female|38.0|                      1|                      0|71.2833|\n",
      "|       1|     3|Miss. Laina Heikk...|female|26.0|                      0|                      0|  7.925|\n",
      "|       1|     1|Mrs. Jacques Heat...|female|35.0|                      1|                      0|   53.1|\n",
      "|       0|     3|Mr. William Henry...|  male|35.0|                      0|                      0|   8.05|\n",
      "+--------+------+--------------------+------+----+-----------------------+-----------------------+-------+\n",
      "only showing top 5 rows\n",
      "\n"
     ]
    }
   ],
   "source": [
    "data=spark.read.csv(\"titanic.csv\", inferSchema=True, header=True)\n",
    "data.show(5)"
   ]
  },
  {
   "cell_type": "markdown",
   "metadata": {},
   "source": [
    "Show Data Structure"
   ]
  },
  {
   "cell_type": "code",
   "execution_count": 79,
   "metadata": {},
   "outputs": [
    {
     "name": "stdout",
     "output_type": "stream",
     "text": [
      "root\n",
      " |-- Survived: integer (nullable = true)\n",
      " |-- Pclass: integer (nullable = true)\n",
      " |-- Name: string (nullable = true)\n",
      " |-- Sex: string (nullable = true)\n",
      " |-- Age: double (nullable = true)\n",
      " |-- Siblings/Spouses Aboard: integer (nullable = true)\n",
      " |-- Parents/Children Aboard: integer (nullable = true)\n",
      " |-- Fare: double (nullable = true)\n",
      "\n"
     ]
    }
   ],
   "source": [
    "data.printSchema()"
   ]
  },
  {
   "cell_type": "markdown",
   "metadata": {},
   "source": [
    "Register a DataFrame as an SQL Temporary View"
   ]
  },
  {
   "cell_type": "code",
   "execution_count": 80,
   "metadata": {},
   "outputs": [],
   "source": [
    "data.createOrReplaceTempView('titanic')"
   ]
  },
  {
   "cell_type": "markdown",
   "metadata": {},
   "source": [
    "Select 5 records"
   ]
  },
  {
   "cell_type": "code",
   "execution_count": 81,
   "metadata": {},
   "outputs": [
    {
     "name": "stdout",
     "output_type": "stream",
     "text": [
      "+--------+------+--------------------+------+----+-----------------------+-----------------------+-------+\n",
      "|Survived|Pclass|                Name|   Sex| Age|Siblings/Spouses Aboard|Parents/Children Aboard|   Fare|\n",
      "+--------+------+--------------------+------+----+-----------------------+-----------------------+-------+\n",
      "|       0|     3|Mr. Owen Harris B...|  male|22.0|                      1|                      0|   7.25|\n",
      "|       1|     1|Mrs. John Bradley...|female|38.0|                      1|                      0|71.2833|\n",
      "|       1|     3|Miss. Laina Heikk...|female|26.0|                      0|                      0|  7.925|\n",
      "|       1|     1|Mrs. Jacques Heat...|female|35.0|                      1|                      0|   53.1|\n",
      "|       0|     3|Mr. William Henry...|  male|35.0|                      0|                      0|   8.05|\n",
      "+--------+------+--------------------+------+----+-----------------------+-----------------------+-------+\n",
      "\n"
     ]
    }
   ],
   "source": [
    "spark.sql(\"SELECT * FROM titanic limit 5\").show()"
   ]
  },
  {
   "cell_type": "markdown",
   "metadata": {},
   "source": [
    "Get number of Passengers in Each Class"
   ]
  },
  {
   "cell_type": "code",
   "execution_count": 82,
   "metadata": {},
   "outputs": [
    {
     "name": "stdout",
     "output_type": "stream",
     "text": [
      "+---------------+--------------------+\n",
      "|Passenger_Class|Number_of_Passengers|\n",
      "+---------------+--------------------+\n",
      "|              1|                 216|\n",
      "|              3|                 487|\n",
      "|              2|                 184|\n",
      "+---------------+--------------------+\n",
      "\n"
     ]
    }
   ],
   "source": [
    "spark.sql(\"SELECT pclass AS Passenger_Class, COUNT(*) AS Number_of_Passengers FROM titanic GROUP BY pclass\").show()"
   ]
  },
  {
   "cell_type": "markdown",
   "metadata": {},
   "source": [
    "##### SparkSQL Mathematical Functions\n",
    "Get First, Last, Min, Max, Mean and Total fare of Passenger"
   ]
  },
  {
   "cell_type": "code",
   "execution_count": 83,
   "metadata": {},
   "outputs": [
    {
     "name": "stdout",
     "output_type": "stream",
     "text": [
      "+------------+-----------+--------+--------+-----------------+------------------+\n",
      "|First_Record|Last_Record|Min_Fare|Max_Fare|     Average_fare|        Total_Fare|\n",
      "+------------+-----------+--------+--------+-----------------+------------------+\n",
      "|        7.25|       7.75|     0.0|512.3292|32.30542018038328|28654.907699999967|\n",
      "+------------+-----------+--------+--------+-----------------+------------------+\n",
      "\n"
     ]
    }
   ],
   "source": [
    "spark.sql(\"SELECT FIRST(Fare) AS First_Record, LAST(Fare) AS Last_Record,MIN(Fare) AS Min_Fare, \"+\n",
    "          \"MAX(Fare) AS Max_Fare,AVG(Fare) AS Average_fare, SUM(Fare) AS Total_Fare FROM titanic\").show()"
   ]
  },
  {
   "cell_type": "markdown",
   "metadata": {},
   "source": [
    "Get Standard Deviation of the Fare for passengers"
   ]
  },
  {
   "cell_type": "code",
   "execution_count": 84,
   "metadata": {},
   "outputs": [
    {
     "name": "stdout",
     "output_type": "stream",
     "text": [
      "+-----------------------+\n",
      "|Fare_Standard_Deviation|\n",
      "+-----------------------+\n",
      "|      49.78204040017391|\n",
      "+-----------------------+\n",
      "\n"
     ]
    }
   ],
   "source": [
    "spark.sql(\"SELECT stddev(Fare) AS Fare_Standard_Deviation FROM titanic\").show()"
   ]
  },
  {
   "cell_type": "markdown",
   "metadata": {},
   "source": [
    "Get Variance of Fare distribution for the passengers"
   ]
  },
  {
   "cell_type": "code",
   "execution_count": 85,
   "metadata": {},
   "outputs": [
    {
     "name": "stdout",
     "output_type": "stream",
     "text": [
      "+------------------+\n",
      "|     Fare_Variance|\n",
      "+------------------+\n",
      "|2478.2515464045478|\n",
      "+------------------+\n",
      "\n"
     ]
    }
   ],
   "source": [
    "spark.sql(\"SELECT variance(Fare) AS Fare_Variance FROM titanic\").show()"
   ]
  },
  {
   "cell_type": "markdown",
   "metadata": {},
   "source": [
    "Get Skewness of Fare distribution for the passenger"
   ]
  },
  {
   "cell_type": "code",
   "execution_count": 86,
   "metadata": {},
   "outputs": [
    {
     "name": "stdout",
     "output_type": "stream",
     "text": [
      "+-----------------+\n",
      "|   skewness(Fare)|\n",
      "+-----------------+\n",
      "|4.769588111295382|\n",
      "+-----------------+\n",
      "\n"
     ]
    }
   ],
   "source": [
    "spark.sql(\"SELECT skewness(Fare) FROM titanic\").show()"
   ]
  },
  {
   "cell_type": "markdown",
   "metadata": {},
   "source": [
    "Get kurtosis of the Fare distribution for the passengers"
   ]
  },
  {
   "cell_type": "code",
   "execution_count": 87,
   "metadata": {},
   "outputs": [
    {
     "name": "stdout",
     "output_type": "stream",
     "text": [
      "+-----------------+\n",
      "|         Kurtosis|\n",
      "+-----------------+\n",
      "|33.07063200139631|\n",
      "+-----------------+\n",
      "\n"
     ]
    }
   ],
   "source": [
    "spark.sql(\"SELECT kurtosis(Fare) AS Kurtosis FROM titanic\").show()"
   ]
  },
  {
   "cell_type": "markdown",
   "metadata": {},
   "source": [
    "##### Analytical Functions"
   ]
  },
  {
   "cell_type": "code",
   "execution_count": 88,
   "metadata": {},
   "outputs": [],
   "source": [
    "from pyspark.sql.window import Window\n",
    "from pyspark.sql.functions import row_number"
   ]
  },
  {
   "cell_type": "code",
   "execution_count": 89,
   "metadata": {},
   "outputs": [
    {
     "data": {
      "text/html": [
       "<table border='1'>\n",
       "<tr><th>pclass</th><th>name</th><th>survived</th><th>fare</th></tr>\n",
       "<tr><td>3</td><td>Mr. Owen Harris B...</td><td>0</td><td>7.25</td></tr>\n",
       "<tr><td>1</td><td>Mrs. John Bradley...</td><td>1</td><td>71.2833</td></tr>\n",
       "<tr><td>3</td><td>Miss. Laina Heikk...</td><td>1</td><td>7.925</td></tr>\n",
       "<tr><td>1</td><td>Mrs. Jacques Heat...</td><td>1</td><td>53.1</td></tr>\n",
       "<tr><td>3</td><td>Mr. William Henry...</td><td>0</td><td>8.05</td></tr>\n",
       "<tr><td>3</td><td>Mr. James Moran</td><td>0</td><td>8.4583</td></tr>\n",
       "<tr><td>1</td><td>Mr. Timothy J McC...</td><td>0</td><td>51.8625</td></tr>\n",
       "<tr><td>3</td><td>Master. Gosta Leo...</td><td>0</td><td>21.075</td></tr>\n",
       "<tr><td>3</td><td>Mrs. Oscar W (Eli...</td><td>1</td><td>11.1333</td></tr>\n",
       "<tr><td>2</td><td>Mrs. Nicholas (Ad...</td><td>1</td><td>30.0708</td></tr>\n",
       "<tr><td>3</td><td>Miss. Marguerite ...</td><td>1</td><td>16.7</td></tr>\n",
       "<tr><td>1</td><td>Miss. Elizabeth B...</td><td>1</td><td>26.55</td></tr>\n",
       "<tr><td>3</td><td>Mr. William Henry...</td><td>0</td><td>8.05</td></tr>\n",
       "<tr><td>3</td><td>Mr. Anders Johan ...</td><td>0</td><td>31.275</td></tr>\n",
       "<tr><td>3</td><td>Miss. Hulda Amand...</td><td>0</td><td>7.8542</td></tr>\n",
       "<tr><td>2</td><td>Mrs. (Mary D King...</td><td>1</td><td>16.0</td></tr>\n",
       "<tr><td>3</td><td>Master. Eugene Rice</td><td>0</td><td>29.125</td></tr>\n",
       "<tr><td>2</td><td>Mr. Charles Eugen...</td><td>1</td><td>13.0</td></tr>\n",
       "<tr><td>3</td><td>Mrs. Julius (Emel...</td><td>0</td><td>18.0</td></tr>\n",
       "<tr><td>3</td><td>Mrs. Fatima Masse...</td><td>1</td><td>7.225</td></tr>\n",
       "</table>\n",
       "only showing top 20 rows\n"
      ],
      "text/plain": [
       "+------+--------------------+--------+-------+\n",
       "|pclass|                name|survived|   fare|\n",
       "+------+--------------------+--------+-------+\n",
       "|     3|Mr. Owen Harris B...|       0|   7.25|\n",
       "|     1|Mrs. John Bradley...|       1|71.2833|\n",
       "|     3|Miss. Laina Heikk...|       1|  7.925|\n",
       "|     1|Mrs. Jacques Heat...|       1|   53.1|\n",
       "|     3|Mr. William Henry...|       0|   8.05|\n",
       "|     3|     Mr. James Moran|       0| 8.4583|\n",
       "|     1|Mr. Timothy J McC...|       0|51.8625|\n",
       "|     3|Master. Gosta Leo...|       0| 21.075|\n",
       "|     3|Mrs. Oscar W (Eli...|       1|11.1333|\n",
       "|     2|Mrs. Nicholas (Ad...|       1|30.0708|\n",
       "|     3|Miss. Marguerite ...|       1|   16.7|\n",
       "|     1|Miss. Elizabeth B...|       1|  26.55|\n",
       "|     3|Mr. William Henry...|       0|   8.05|\n",
       "|     3|Mr. Anders Johan ...|       0| 31.275|\n",
       "|     3|Miss. Hulda Amand...|       0| 7.8542|\n",
       "|     2|Mrs. (Mary D King...|       1|   16.0|\n",
       "|     3| Master. Eugene Rice|       0| 29.125|\n",
       "|     2|Mr. Charles Eugen...|       1|   13.0|\n",
       "|     3|Mrs. Julius (Emel...|       0|   18.0|\n",
       "|     3|Mrs. Fatima Masse...|       1|  7.225|\n",
       "+------+--------------------+--------+-------+\n",
       "only showing top 20 rows"
      ]
     },
     "execution_count": 89,
     "metadata": {},
     "output_type": "execute_result"
    }
   ],
   "source": [
    "df=data['pclass','name','survived','fare']\n",
    "df"
   ]
  },
  {
   "cell_type": "markdown",
   "metadata": {},
   "source": [
    "row number Window Function. <br />\n",
    "This function returns sequential row number starting from 1 to the result of each window partition"
   ]
  },
  {
   "cell_type": "code",
   "execution_count": 90,
   "metadata": {},
   "outputs": [
    {
     "name": "stdout",
     "output_type": "stream",
     "text": [
      "+------+--------------------------------------------------+--------+-------+----------+\n",
      "|pclass|name                                              |survived|fare   |Row_Number|\n",
      "+------+--------------------------------------------------+--------+-------+----------+\n",
      "|1     |Mr. William Harrison                              |0       |0.0    |1         |\n",
      "|1     |Mr. William Henry Marsh Parr                      |0       |0.0    |2         |\n",
      "|1     |Mr. Thomas Jr Andrews                             |0       |0.0    |3         |\n",
      "|1     |Mr. Richard Fry                                   |0       |0.0    |4         |\n",
      "|1     |Jonkheer. John George Reuchlin                    |0       |0.0    |5         |\n",
      "|1     |Mr. Frans Olof Carlsson                           |0       |5.0    |6         |\n",
      "|1     |Mr. Edward Pomeroy Colley                         |0       |25.5875|7         |\n",
      "|1     |Mr. John D Baumann                                |0       |25.925 |8         |\n",
      "|1     |Dr. Alice (Farnham) Leader                        |1       |25.9292|9         |\n",
      "|1     |Mrs. Frederick Joel (Margaret Welles Barron) Swift|1       |25.9292|10        |\n",
      "|1     |Mr. Richard William Smith                         |0       |26.0   |11        |\n",
      "|1     |Mr. Arthur Ernest Nicholson                       |0       |26.0   |12        |\n",
      "|1     |Miss. Helen Monypeny Newsom                       |1       |26.2833|13        |\n",
      "|1     |Mr. James Robert McGough                          |1       |26.2875|14        |\n",
      "|1     |Mr. Spencer Victor Silverthorne                   |1       |26.2875|15        |\n",
      "|1     |Mr. Edward Pennington Calderhead                  |1       |26.2875|16        |\n",
      "|1     |Mr. John Irwin Flynn                              |1       |26.3875|17        |\n",
      "|1     |Miss. Elizabeth Bonnell                           |1       |26.55  |18        |\n",
      "|1     |Mr. Charles Hallace Romaine                       |1       |26.55  |19        |\n",
      "|1     |Mr. William Thomas Stead                          |0       |26.55  |20        |\n",
      "+------+--------------------------------------------------+--------+-------+----------+\n",
      "only showing top 20 rows\n",
      "\n"
     ]
    }
   ],
   "source": [
    "win_function=Window.partitionBy(\"pclass\").orderBy(\"Fare\")\n",
    "df.withColumn(\"Row_Number\",row_number().over(win_function)).show(truncate=False)"
   ]
  },
  {
   "cell_type": "markdown",
   "metadata": {},
   "source": [
    "rank() window function. <br />\n",
    "This function returns a rank to the result within a window partition while leaving gaps where there is duplicates"
   ]
  },
  {
   "cell_type": "code",
   "execution_count": 91,
   "metadata": {},
   "outputs": [
    {
     "name": "stdout",
     "output_type": "stream",
     "text": [
      "+------+--------------------------------------------------+--------+-------+----+\n",
      "|pclass|name                                              |survived|fare   |Rank|\n",
      "+------+--------------------------------------------------+--------+-------+----+\n",
      "|1     |Mr. William Harrison                              |0       |0.0    |1   |\n",
      "|1     |Mr. William Henry Marsh Parr                      |0       |0.0    |1   |\n",
      "|1     |Mr. Thomas Jr Andrews                             |0       |0.0    |1   |\n",
      "|1     |Mr. Richard Fry                                   |0       |0.0    |1   |\n",
      "|1     |Jonkheer. John George Reuchlin                    |0       |0.0    |1   |\n",
      "|1     |Mr. Frans Olof Carlsson                           |0       |5.0    |6   |\n",
      "|1     |Mr. Edward Pomeroy Colley                         |0       |25.5875|7   |\n",
      "|1     |Mr. John D Baumann                                |0       |25.925 |8   |\n",
      "|1     |Dr. Alice (Farnham) Leader                        |1       |25.9292|9   |\n",
      "|1     |Mrs. Frederick Joel (Margaret Welles Barron) Swift|1       |25.9292|9   |\n",
      "|1     |Mr. Richard William Smith                         |0       |26.0   |11  |\n",
      "|1     |Mr. Arthur Ernest Nicholson                       |0       |26.0   |11  |\n",
      "|1     |Miss. Helen Monypeny Newsom                       |1       |26.2833|13  |\n",
      "|1     |Mr. James Robert McGough                          |1       |26.2875|14  |\n",
      "|1     |Mr. Spencer Victor Silverthorne                   |1       |26.2875|14  |\n",
      "|1     |Mr. Edward Pennington Calderhead                  |1       |26.2875|14  |\n",
      "|1     |Mr. John Irwin Flynn                              |1       |26.3875|17  |\n",
      "|1     |Miss. Elizabeth Bonnell                           |1       |26.55  |18  |\n",
      "|1     |Mr. Charles Hallace Romaine                       |1       |26.55  |18  |\n",
      "|1     |Mr. William Thomas Stead                          |0       |26.55  |18  |\n",
      "+------+--------------------------------------------------+--------+-------+----+\n",
      "only showing top 20 rows\n",
      "\n"
     ]
    }
   ],
   "source": [
    "from pyspark.sql.functions import rank\n",
    "\n",
    "df.withColumn(\"Rank\", rank().over(win_function)).show(truncate=False)"
   ]
  },
  {
   "cell_type": "markdown",
   "metadata": {},
   "source": [
    "dense_rank() window function. <br/>\n",
    "This function returns a rank to the result within a window partition without leaving gaps where there is duplicates"
   ]
  },
  {
   "cell_type": "code",
   "execution_count": 92,
   "metadata": {},
   "outputs": [
    {
     "name": "stdout",
     "output_type": "stream",
     "text": [
      "+------+--------------------------------------------------+--------+-------+----------+\n",
      "|pclass|name                                              |survived|fare   |Dense_Rank|\n",
      "+------+--------------------------------------------------+--------+-------+----------+\n",
      "|1     |Mr. William Harrison                              |0       |0.0    |1         |\n",
      "|1     |Mr. William Henry Marsh Parr                      |0       |0.0    |1         |\n",
      "|1     |Mr. Thomas Jr Andrews                             |0       |0.0    |1         |\n",
      "|1     |Mr. Richard Fry                                   |0       |0.0    |1         |\n",
      "|1     |Jonkheer. John George Reuchlin                    |0       |0.0    |1         |\n",
      "|1     |Mr. Frans Olof Carlsson                           |0       |5.0    |2         |\n",
      "|1     |Mr. Edward Pomeroy Colley                         |0       |25.5875|3         |\n",
      "|1     |Mr. John D Baumann                                |0       |25.925 |4         |\n",
      "|1     |Dr. Alice (Farnham) Leader                        |1       |25.9292|5         |\n",
      "|1     |Mrs. Frederick Joel (Margaret Welles Barron) Swift|1       |25.9292|5         |\n",
      "|1     |Mr. Richard William Smith                         |0       |26.0   |6         |\n",
      "|1     |Mr. Arthur Ernest Nicholson                       |0       |26.0   |6         |\n",
      "|1     |Miss. Helen Monypeny Newsom                       |1       |26.2833|7         |\n",
      "|1     |Mr. James Robert McGough                          |1       |26.2875|8         |\n",
      "|1     |Mr. Spencer Victor Silverthorne                   |1       |26.2875|8         |\n",
      "|1     |Mr. Edward Pennington Calderhead                  |1       |26.2875|8         |\n",
      "|1     |Mr. John Irwin Flynn                              |1       |26.3875|9         |\n",
      "|1     |Miss. Elizabeth Bonnell                           |1       |26.55  |10        |\n",
      "|1     |Mr. Charles Hallace Romaine                       |1       |26.55  |10        |\n",
      "|1     |Mr. William Thomas Stead                          |0       |26.55  |10        |\n",
      "+------+--------------------------------------------------+--------+-------+----------+\n",
      "only showing top 20 rows\n",
      "\n"
     ]
    }
   ],
   "source": [
    "from pyspark.sql.functions import dense_rank\n",
    "\n",
    "df.withColumn(\"Dense_Rank\",dense_rank().over(win_function)).show(truncate=False)"
   ]
  },
  {
   "cell_type": "markdown",
   "metadata": {},
   "source": [
    "percent_rank Window Function. <br />\n",
    "The PERCENT_RANK function computes the rank of the passenger's fare within a passenger class (pclass) as a percentage"
   ]
  },
  {
   "cell_type": "code",
   "execution_count": 93,
   "metadata": {},
   "outputs": [
    {
     "name": "stdout",
     "output_type": "stream",
     "text": [
      "+------+--------------------------------------------------+--------+-------+--------------------+\n",
      "|pclass|name                                              |survived|fare   |Percent_Rank        |\n",
      "+------+--------------------------------------------------+--------+-------+--------------------+\n",
      "|1     |Mr. William Harrison                              |0       |0.0    |0.0                 |\n",
      "|1     |Mr. William Henry Marsh Parr                      |0       |0.0    |0.0                 |\n",
      "|1     |Mr. Thomas Jr Andrews                             |0       |0.0    |0.0                 |\n",
      "|1     |Mr. Richard Fry                                   |0       |0.0    |0.0                 |\n",
      "|1     |Jonkheer. John George Reuchlin                    |0       |0.0    |0.0                 |\n",
      "|1     |Mr. Frans Olof Carlsson                           |0       |5.0    |0.023255813953488372|\n",
      "|1     |Mr. Edward Pomeroy Colley                         |0       |25.5875|0.027906976744186046|\n",
      "|1     |Mr. John D Baumann                                |0       |25.925 |0.03255813953488372 |\n",
      "|1     |Dr. Alice (Farnham) Leader                        |1       |25.9292|0.037209302325581395|\n",
      "|1     |Mrs. Frederick Joel (Margaret Welles Barron) Swift|1       |25.9292|0.037209302325581395|\n",
      "|1     |Mr. Richard William Smith                         |0       |26.0   |0.046511627906976744|\n",
      "|1     |Mr. Arthur Ernest Nicholson                       |0       |26.0   |0.046511627906976744|\n",
      "|1     |Miss. Helen Monypeny Newsom                       |1       |26.2833|0.05581395348837209 |\n",
      "|1     |Mr. James Robert McGough                          |1       |26.2875|0.06046511627906977 |\n",
      "|1     |Mr. Spencer Victor Silverthorne                   |1       |26.2875|0.06046511627906977 |\n",
      "|1     |Mr. Edward Pennington Calderhead                  |1       |26.2875|0.06046511627906977 |\n",
      "|1     |Mr. John Irwin Flynn                              |1       |26.3875|0.07441860465116279 |\n",
      "|1     |Miss. Elizabeth Bonnell                           |1       |26.55  |0.07906976744186046 |\n",
      "|1     |Mr. Charles Hallace Romaine                       |1       |26.55  |0.07906976744186046 |\n",
      "|1     |Mr. William Thomas Stead                          |0       |26.55  |0.07906976744186046 |\n",
      "+------+--------------------------------------------------+--------+-------+--------------------+\n",
      "only showing top 20 rows\n",
      "\n"
     ]
    }
   ],
   "source": [
    "from pyspark.sql.functions import percent_rank\n",
    "df.withColumn(\"Percent_Rank\",percent_rank().over(win_function)).show(truncate=False)"
   ]
  },
  {
   "cell_type": "markdown",
   "metadata": {},
   "source": [
    "cume_dist Window Function. <br />\n",
    "This function returns the cumulative distribution of values within a window partition"
   ]
  },
  {
   "cell_type": "code",
   "execution_count": 94,
   "metadata": {},
   "outputs": [
    {
     "name": "stdout",
     "output_type": "stream",
     "text": [
      "+------+--------------------------------------------------+--------+-------+--------------------+\n",
      "|pclass|name                                              |survived|fare   |Cummulative_Dist    |\n",
      "+------+--------------------------------------------------+--------+-------+--------------------+\n",
      "|1     |Mr. William Harrison                              |0       |0.0    |0.023148148148148147|\n",
      "|1     |Mr. William Henry Marsh Parr                      |0       |0.0    |0.023148148148148147|\n",
      "|1     |Mr. Thomas Jr Andrews                             |0       |0.0    |0.023148148148148147|\n",
      "|1     |Mr. Richard Fry                                   |0       |0.0    |0.023148148148148147|\n",
      "|1     |Jonkheer. John George Reuchlin                    |0       |0.0    |0.023148148148148147|\n",
      "|1     |Mr. Frans Olof Carlsson                           |0       |5.0    |0.027777777777777776|\n",
      "|1     |Mr. Edward Pomeroy Colley                         |0       |25.5875|0.032407407407407406|\n",
      "|1     |Mr. John D Baumann                                |0       |25.925 |0.037037037037037035|\n",
      "|1     |Dr. Alice (Farnham) Leader                        |1       |25.9292|0.046296296296296294|\n",
      "|1     |Mrs. Frederick Joel (Margaret Welles Barron) Swift|1       |25.9292|0.046296296296296294|\n",
      "|1     |Mr. Richard William Smith                         |0       |26.0   |0.05555555555555555 |\n",
      "|1     |Mr. Arthur Ernest Nicholson                       |0       |26.0   |0.05555555555555555 |\n",
      "|1     |Miss. Helen Monypeny Newsom                       |1       |26.2833|0.06018518518518518 |\n",
      "|1     |Mr. James Robert McGough                          |1       |26.2875|0.07407407407407407 |\n",
      "|1     |Mr. Spencer Victor Silverthorne                   |1       |26.2875|0.07407407407407407 |\n",
      "|1     |Mr. Edward Pennington Calderhead                  |1       |26.2875|0.07407407407407407 |\n",
      "|1     |Mr. John Irwin Flynn                              |1       |26.3875|0.0787037037037037  |\n",
      "|1     |Miss. Elizabeth Bonnell                           |1       |26.55  |0.14814814814814814 |\n",
      "|1     |Mr. Charles Hallace Romaine                       |1       |26.55  |0.14814814814814814 |\n",
      "|1     |Mr. William Thomas Stead                          |0       |26.55  |0.14814814814814814 |\n",
      "+------+--------------------------------------------------+--------+-------+--------------------+\n",
      "only showing top 20 rows\n",
      "\n"
     ]
    }
   ],
   "source": [
    "from pyspark.sql.functions import cume_dist\n",
    "df.withColumn(\"Cummulative_Dist\",cume_dist().over(win_function)).show(truncate=False)"
   ]
  },
  {
   "cell_type": "markdown",
   "metadata": {},
   "source": [
    "lag Window Function. <br />\n",
    "The lag function returns the previous value"
   ]
  },
  {
   "cell_type": "code",
   "execution_count": 95,
   "metadata": {},
   "outputs": [
    {
     "name": "stdout",
     "output_type": "stream",
     "text": [
      "+------+--------------------+--------+-------+-------------+\n",
      "|pclass|                name|survived|   fare|Previous_Fare|\n",
      "+------+--------------------+--------+-------+-------------+\n",
      "|     1|Mr. William Harrison|       0|    0.0|         null|\n",
      "|     1|Mr. William Henry...|       0|    0.0|          0.0|\n",
      "|     1|Mr. Thomas Jr And...|       0|    0.0|          0.0|\n",
      "|     1|     Mr. Richard Fry|       0|    0.0|          0.0|\n",
      "|     1|Jonkheer. John Ge...|       0|    0.0|          0.0|\n",
      "|     1|Mr. Frans Olof Ca...|       0|    5.0|          0.0|\n",
      "|     1|Mr. Edward Pomero...|       0|25.5875|          5.0|\n",
      "|     1|  Mr. John D Baumann|       0| 25.925|      25.5875|\n",
      "|     1|Dr. Alice (Farnha...|       1|25.9292|       25.925|\n",
      "|     1|Mrs. Frederick Jo...|       1|25.9292|      25.9292|\n",
      "|     1|Mr. Richard Willi...|       0|   26.0|      25.9292|\n",
      "|     1|Mr. Arthur Ernest...|       0|   26.0|         26.0|\n",
      "|     1|Miss. Helen Monyp...|       1|26.2833|         26.0|\n",
      "|     1|Mr. James Robert ...|       1|26.2875|      26.2833|\n",
      "|     1|Mr. Spencer Victo...|       1|26.2875|      26.2875|\n",
      "|     1|Mr. Edward Pennin...|       1|26.2875|      26.2875|\n",
      "|     1|Mr. John Irwin Flynn|       1|26.3875|      26.2875|\n",
      "|     1|Miss. Elizabeth B...|       1|  26.55|      26.3875|\n",
      "|     1|Mr. Charles Halla...|       1|  26.55|        26.55|\n",
      "|     1|Mr. William Thoma...|       0|  26.55|        26.55|\n",
      "+------+--------------------+--------+-------+-------------+\n",
      "only showing top 20 rows\n",
      "\n"
     ]
    }
   ],
   "source": [
    "from pyspark.sql.functions import lag\n",
    "\n",
    "df.withColumn(\"Previous_Fare\",lag(\"Fare\",1).over(win_function)).show()"
   ]
  },
  {
   "cell_type": "markdown",
   "metadata": {},
   "source": [
    "lead Window Function. <br />\n",
    "The lead function returns the next value"
   ]
  },
  {
   "cell_type": "code",
   "execution_count": 96,
   "metadata": {},
   "outputs": [
    {
     "name": "stdout",
     "output_type": "stream",
     "text": [
      "+------+--------------------------------------------------+--------+-------+---------+\n",
      "|pclass|name                                              |survived|fare   |Next_Fare|\n",
      "+------+--------------------------------------------------+--------+-------+---------+\n",
      "|1     |Mr. William Harrison                              |0       |0.0    |0.0      |\n",
      "|1     |Mr. William Henry Marsh Parr                      |0       |0.0    |0.0      |\n",
      "|1     |Mr. Thomas Jr Andrews                             |0       |0.0    |0.0      |\n",
      "|1     |Mr. Richard Fry                                   |0       |0.0    |0.0      |\n",
      "|1     |Jonkheer. John George Reuchlin                    |0       |0.0    |5.0      |\n",
      "|1     |Mr. Frans Olof Carlsson                           |0       |5.0    |25.5875  |\n",
      "|1     |Mr. Edward Pomeroy Colley                         |0       |25.5875|25.925   |\n",
      "|1     |Mr. John D Baumann                                |0       |25.925 |25.9292  |\n",
      "|1     |Dr. Alice (Farnham) Leader                        |1       |25.9292|25.9292  |\n",
      "|1     |Mrs. Frederick Joel (Margaret Welles Barron) Swift|1       |25.9292|26.0     |\n",
      "|1     |Mr. Richard William Smith                         |0       |26.0   |26.0     |\n",
      "|1     |Mr. Arthur Ernest Nicholson                       |0       |26.0   |26.2833  |\n",
      "|1     |Miss. Helen Monypeny Newsom                       |1       |26.2833|26.2875  |\n",
      "|1     |Mr. James Robert McGough                          |1       |26.2875|26.2875  |\n",
      "|1     |Mr. Spencer Victor Silverthorne                   |1       |26.2875|26.2875  |\n",
      "|1     |Mr. Edward Pennington Calderhead                  |1       |26.2875|26.3875  |\n",
      "|1     |Mr. John Irwin Flynn                              |1       |26.3875|26.55    |\n",
      "|1     |Miss. Elizabeth Bonnell                           |1       |26.55  |26.55    |\n",
      "|1     |Mr. Charles Hallace Romaine                       |1       |26.55  |26.55    |\n",
      "|1     |Mr. William Thomas Stead                          |0       |26.55  |26.55    |\n",
      "+------+--------------------------------------------------+--------+-------+---------+\n",
      "only showing top 20 rows\n",
      "\n"
     ]
    }
   ],
   "source": [
    "from pyspark.sql.functions import lead\n",
    "\n",
    "df.withColumn(\"Next_Fare\",lead(\"Fare\",1).over(win_function)).show(truncate=False)"
   ]
  }
 ],
 "metadata": {
  "kernelspec": {
   "display_name": "Python 3",
   "language": "python",
   "name": "python3"
  },
  "language_info": {
   "codemirror_mode": {
    "name": "ipython",
    "version": 3
   },
   "file_extension": ".py",
   "mimetype": "text/x-python",
   "name": "python",
   "nbconvert_exporter": "python",
   "pygments_lexer": "ipython3",
   "version": "3.6.5"
  }
 },
 "nbformat": 4,
 "nbformat_minor": 2
}
